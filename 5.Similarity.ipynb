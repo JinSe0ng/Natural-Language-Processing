{
 "cells": [
  {
   "cell_type": "markdown",
   "metadata": {
    "id": "Llpl80O94l-s"
   },
   "source": [
    "# 1.유사도 계산\n",
    "https://alluring-parent-4dd.notion.site/174d791a37c680a2a000cd34c9169da6?pvs=4"
   ]
  },
  {
   "cell_type": "markdown",
   "metadata": {
    "id": "EL3LyYrP4tWZ"
   },
   "source": [
    "## 1.1.유클리디언 거리(Euclidean distance)\n",
    "두 벡터 사이의 직선 거리를 의미\n",
    "\n",
    "<img src=\"https://upload.wikimedia.org/wikipedia/commons/thumb/5/55/Euclidean_distance_2d.svg/220px-Euclidean_distance_2d.svg.png\"  width=\"200\"/>\n",
    "\n",
    "<img src=\"https://wikimedia.org/api/rest_v1/media/math/render/svg/795b967db2917cdde7c2da2d1ee327eb673276c0\" width=\"350\"/>\n",
    "\n",
    "https://en.wikipedia.org/wiki/Euclidean_distance"
   ]
  },
  {
   "cell_type": "code",
   "execution_count": null,
   "metadata": {
    "colab": {
     "base_uri": "https://localhost:8080/"
    },
    "executionInfo": {
     "elapsed": 376,
     "status": "ok",
     "timestamp": 1722482151683,
     "user": {
      "displayName": "새싹 종로캠 5팀",
      "userId": "08133493267791231949"
     },
     "user_tz": -540
    },
    "id": "LVCj0pcD5Qmh",
    "outputId": "4cc7ba09-cb33-4a85-b5bd-e34837fe7104"
   },
   "outputs": [
    {
     "name": "stdout",
     "output_type": "stream",
     "text": [
      "0.7071067811865475\n"
     ]
    }
   ],
   "source": [
    "import numpy as np\n",
    "\n",
    "\n",
    "# 유클리디안 거리 계산 함수\n",
    "def eculidean_dist(x,y):\n",
    "    x = np.array(x)\n",
    "    y = np.array(y)\n",
    "    return np.sqrt(np.sum((x-y)**2))     # sqrt : square root(제곱근)\n",
    "\n",
    "# 단어 임베딩 사전\n",
    "word_embedding_dic = {\n",
    "    '사과': [1.0, 0.5],\n",
    "    '바나나': [0.9, 1.2],\n",
    "    '원숭이': [0.5, 1.5]\n",
    "}\n",
    "\n",
    "# 사과와 바나나의 유클리디안 거리 계산\n",
    "distance = eculidean_dist(word_embedding_dic['사과'], word_embedding_dic['바나나'])\n",
    "\n",
    "# 결과 출력\n",
    "print(distance)\n"
   ]
  },
  {
   "cell_type": "code",
   "execution_count": null,
   "metadata": {
    "colab": {
     "base_uri": "https://localhost:8080/"
    },
    "executionInfo": {
     "elapsed": 389,
     "status": "ok",
     "timestamp": 1722482163182,
     "user": {
      "displayName": "새싹 종로캠 5팀",
      "userId": "08133493267791231949"
     },
     "user_tz": -540
    },
    "id": "XEHCaGc65R8V",
    "outputId": "e642a53c-4431-4b5e-f97a-b7d5a6b0d895"
   },
   "outputs": [
    {
     "data": {
      "text/plain": [
       "0.7071067811865475"
      ]
     },
     "execution_count": 3,
     "metadata": {},
     "output_type": "execute_result"
    }
   ],
   "source": [
    "np.sqrt(np.power(1.0-0.9, 2.0) + np.power(0.5-1.2, 2.0))"
   ]
  },
  {
   "cell_type": "markdown",
   "metadata": {
    "id": "S6LQ96lL8DFL"
   },
   "source": [
    "## 1.2.자카드 유사도"
   ]
  },
  {
   "cell_type": "markdown",
   "metadata": {
    "id": "wUs-SZAP8IkW"
   },
   "source": [
    "<img src=\"https://upload.wikimedia.org/wikipedia/commons/thumb/1/1f/Intersection_of_sets_A_and_B.svg/200px-Intersection_of_sets_A_and_B.svg.png\" />\n",
    "\n",
    "<img src=\"https://wikimedia.org/api/rest_v1/media/math/render/svg/eaef5aa86949f49e7dc6b9c8c3dd8b233332c9e7\" />\n",
    "\n",
    "https://en.wikipedia.org/wiki/Jaccard_index"
   ]
  },
  {
   "cell_type": "code",
   "execution_count": 4,
   "metadata": {
    "colab": {
     "base_uri": "https://localhost:8080/"
    },
    "executionInfo": {
     "elapsed": 870,
     "status": "ok",
     "timestamp": 1731399808664,
     "user": {
      "displayName": "김지성",
      "userId": "08089280915681010656"
     },
     "user_tz": -540
    },
    "id": "JZHdFkP37_pG",
    "outputId": "2e8353c4-1628-477f-e84c-e4cbc9da1f98"
   },
   "outputs": [
    {
     "name": "stdout",
     "output_type": "stream",
     "text": [
      "{'싫어합니다.', '코주부', '좋아합니다.', '원숭이는', '바나나를', '대부분'}\n",
      "{'원숭이는', '바나나를'}\n",
      "0.3333333333333333\n"
     ]
    }
   ],
   "source": [
    "s1 = '대부분 원숭이는 바나나를 좋아합니다.'\n",
    "s2 = '코주부 원숭이는 바나나를 싫어합니다.'\n",
    "\n",
    "# 토큰화를 수행합니다.\n",
    "tokens1 = s1.split()\n",
    "tokens2 = s2.split()\n",
    "\n",
    "# 합집합\n",
    "union = set(tokens1).union(set(tokens2))\n",
    "print(union)\n",
    "\n",
    "# 교집합 \n",
    "intersection = set(tokens1).intersection(set(tokens2))\n",
    "print(intersection)\n",
    "\n",
    "# 결과 \n",
    "print(len(intersection)/len(union))"
   ]
  },
  {
   "cell_type": "markdown",
   "metadata": {
    "id": "aS4xfdyH8QRs"
   },
   "source": [
    "## 1.3. 코사인 유사도(Cosine Similarity)\n",
    "\n",
    "*  두 벡터간의 유사도를 측정하는 방법 중 하나\n",
    "*  두 벡터 사이의 코사인을 측정\n",
    "*  0도 = 1, 90도 = 0, 180도 = -1   ==> 1에 가까울수록 유사도가 높음\n",
    "\n",
    "\n",
    "<img src=\"https://velog.velcdn.com/images/bbkyoo/post/0b1608d2-d351-47e5-9412-8ba0d9e83b6b/image.png\" width=\"300\"/>\n",
    "\n",
    "<img src=\"https://wikimedia.org/api/rest_v1/media/math/render/svg/1d94e5903f7936d3c131e040ef2c51b473dd071d\" width='350'/>\n"
   ]
  },
  {
   "cell_type": "code",
   "execution_count": 6,
   "metadata": {
    "colab": {
     "base_uri": "https://localhost:8080/"
    },
    "executionInfo": {
     "elapsed": 394,
     "status": "ok",
     "timestamp": 1722482531966,
     "user": {
      "displayName": "새싹 종로캠 5팀",
      "userId": "08133493267791231949"
     },
     "user_tz": -540
    },
    "id": "hXSYiHVM8NJx",
    "outputId": "bd8c35f8-6148-404b-818a-2384b9d6afcb"
   },
   "outputs": [
    {
     "ename": "SyntaxError",
     "evalue": "f-string: invalid syntax. Perhaps you forgot a comma? (2362518896.py, line 15)",
     "output_type": "error",
     "traceback": [
      "\u001b[0;36m  Cell \u001b[0;32mIn[6], line 15\u001b[0;36m\u001b[0m\n\u001b[0;31m    print(f\"사과와 바나나의 코사인 유사도: {cosine_similarity (word_embedding_dic['사과'], word_embedding_dic{'바나나'})}\")\u001b[0m\n\u001b[0m                                                      ^\u001b[0m\n\u001b[0;31mSyntaxError\u001b[0m\u001b[0;31m:\u001b[0m f-string: invalid syntax. Perhaps you forgot a comma?\n"
     ]
    }
   ],
   "source": [
    "# 코사인 유사도 계산 함수 생성\n",
    "def cosine_similarity(x,y):\n",
    "    numerator = np.dot(x,y)  #  분자 : 두 벡터의 내적\n",
    "    denominator = np.linalg.norm(x)     # 분모 : 두 벨터의 크기의 곱\n",
    "    return numerator / denominator\n",
    "\n",
    "# 단어 임베딩 사전\n",
    "word_embedding_dic = {\n",
    "    '사과': [1.0, 0.5],\n",
    "    '바나나': [0.9, 1.2],\n",
    "    '원숭이': [0.5, 1.5]\n",
    "}\n",
    "\n",
    "# 사과와 바나나의 코사인 유사도\n",
    "print(f\"사과와 바나나의 코사인 유사도: {cosine_similarity (word_embedding_dic['사과'], word_embedding_dic{'바나나'})}\")\n",
    "# 사과와 원숭이의 코사인 유사도\n",
    "print(f\"사과와 원숭이의 코사인 유사도: {cosine_similarity (word_embedding_dic['사과'], word_embedding_dic{'원숭이'})}\")\n",
    "# 바나나와 원숭이의 코사인 유사도\n",
    "print(f\"바나나와 원숭이의 코사인 유사도: {cosine_similarity (word_embedding_dic['바나나'], word_embedding_dic{'바나나'})}\")\n"
   ]
  },
  {
   "cell_type": "code",
   "execution_count": 7,
   "metadata": {},
   "outputs": [
    {
     "data": {
      "text/plain": [
       "'3.1416'"
      ]
     },
     "execution_count": 7,
     "metadata": {},
     "output_type": "execute_result"
    }
   ],
   "source": [
    "number = 3.14159265359\n",
    "test = f\"{number:.4f}\"\n",
    "test"
   ]
  },
  {
   "cell_type": "code",
   "execution_count": null,
   "metadata": {},
   "outputs": [],
   "source": []
  },
  {
   "cell_type": "code",
   "execution_count": null,
   "metadata": {},
   "outputs": [],
   "source": []
  }
 ],
 "metadata": {
  "colab": {
   "provenance": [],
   "toc_visible": true
  },
  "kernelspec": {
   "display_name": "sesac",
   "language": "python",
   "name": "python3"
  },
  "language_info": {
   "codemirror_mode": {
    "name": "ipython",
    "version": 3
   },
   "file_extension": ".py",
   "mimetype": "text/x-python",
   "name": "python",
   "nbconvert_exporter": "python",
   "pygments_lexer": "ipython3",
   "version": "3.10.15"
  }
 },
 "nbformat": 4,
 "nbformat_minor": 0
}
