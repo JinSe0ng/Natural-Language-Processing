{
 "cells": [
  {
   "cell_type": "markdown",
   "metadata": {
    "id": "ec2eFSnBWvGZ"
   },
   "source": [
    "# 리스트 컴프리헨션\n",
    "## - 기존 반복문보다 빠르고 직관적인 코드로 가독성이 좋음\n",
    "    기본 구조 : 표현식 + for문\n",
    "    result = [표현식 for 변수 in 리스트]\n",
    "\n",
    "    표현식 + for문 + 조건문\n",
    "    result = [표현식 for 변수 in 리스트 조건문]\n",
    "\n",
    "    조건문 + for문\n",
    "    result = [조건문 for 변수 in 리스트]\n",
    "\n",
    "    중첩 for문\n",
    "    result = [조건문 for 변수1 in 리스트1 for 변수2 in 리스트2 ...]\n"
   ]
  },
  {
   "cell_type": "markdown",
   "metadata": {
    "id": "cIFqs6ejEHpn"
   },
   "source": [
    "# 반복문 1개 리스트 컴프리헨션"
   ]
  },
  {
   "cell_type": "markdown",
   "metadata": {
    "id": "07EdVMrBC-wx"
   },
   "source": [
    "## 1.for문이 1개일 때"
   ]
  },
  {
   "cell_type": "code",
   "execution_count": 1,
   "metadata": {
    "colab": {
     "base_uri": "https://localhost:8080/"
    },
    "executionInfo": {
     "elapsed": 668,
     "status": "ok",
     "timestamp": 1725369709852,
     "user": {
      "displayName": "김지성",
      "userId": "08089280915681010656"
     },
     "user_tz": -540
    },
    "id": "_bdTxtNGB-Q0",
    "outputId": "66e5ef60-7ce2-4e06-ac43-9f898afa1bf1"
   },
   "outputs": [
    {
     "name": "stdout",
     "output_type": "stream",
     "text": [
      "[1, 2, 3, 4, 5]\n"
     ]
    }
   ],
   "source": [
    "# 결과: [1, 2, 3, 4, 5]\n",
    "numbers = []\n",
    "for x in range(1,6):\n",
    "    numbers.append(x)\n",
    "print(numbers)"
   ]
  },
  {
   "cell_type": "code",
   "execution_count": 2,
   "metadata": {
    "colab": {
     "base_uri": "https://localhost:8080/"
    },
    "executionInfo": {
     "elapsed": 449,
     "status": "ok",
     "timestamp": 1725370762586,
     "user": {
      "displayName": "김지성",
      "userId": "08089280915681010656"
     },
     "user_tz": -540
    },
    "id": "NOKjgl9gDCO9",
    "outputId": "3ffe6e29-8624-4eef-86c4-a64ac02655d3"
   },
   "outputs": [
    {
     "name": "stdout",
     "output_type": "stream",
     "text": [
      "[1, 2, 3, 4, 5]\n"
     ]
    }
   ],
   "source": [
    "# 결과: [1, 2, 3, 4, 5]\n",
    "numbers = [x for x in range(1,6)]\n",
    "print(numbers)\n"
   ]
  },
  {
   "cell_type": "markdown",
   "metadata": {
    "id": "wClV7V4WDvT2"
   },
   "source": [
    "## 2.for문이 1개이고 if 조건이 있을 때"
   ]
  },
  {
   "cell_type": "code",
   "execution_count": 3,
   "metadata": {
    "colab": {
     "base_uri": "https://localhost:8080/"
    },
    "executionInfo": {
     "elapsed": 3,
     "status": "ok",
     "timestamp": 1725369918750,
     "user": {
      "displayName": "김지성",
      "userId": "08089280915681010656"
     },
     "user_tz": -540
    },
    "id": "DERlHNtoD2o3",
    "outputId": "09c48c13-0e1a-49c2-dae8-95ca919478ba"
   },
   "outputs": [
    {
     "name": "stdout",
     "output_type": "stream",
     "text": [
      "[2, 4, 6, 8, 10]\n"
     ]
    }
   ],
   "source": [
    "# 결과: [2, 4, 6, 8, 10]\n",
    "even_numbers = []\n",
    "for x in range(1,11):\n",
    "    if x % 2 == 0:\n",
    "        even_numbers.append(x)\n",
    "\n",
    "print(even_numbers)"
   ]
  },
  {
   "cell_type": "code",
   "execution_count": 5,
   "metadata": {
    "colab": {
     "base_uri": "https://localhost:8080/"
    },
    "executionInfo": {
     "elapsed": 3,
     "status": "ok",
     "timestamp": 1725369920251,
     "user": {
      "displayName": "김지성",
      "userId": "08089280915681010656"
     },
     "user_tz": -540
    },
    "id": "Hm_u26e4Du-e",
    "outputId": "91f1c2ce-111a-4f72-a618-34dddb8493f7"
   },
   "outputs": [
    {
     "name": "stdout",
     "output_type": "stream",
     "text": [
      "[2, 4, 6, 8, 10]\n"
     ]
    }
   ],
   "source": [
    "# 결과: [2, 4, 6, 8, 10]\n",
    "even_numbers = [x for x in range(1,11) if x%2 == 0]\n",
    "print(even_numbers)"
   ]
  },
  {
   "cell_type": "markdown",
   "metadata": {
    "id": "heQq1vskEEmQ"
   },
   "source": [
    "## 3.for문이 1개이고 if-else 조건이 있을 때"
   ]
  },
  {
   "cell_type": "code",
   "execution_count": 6,
   "metadata": {
    "colab": {
     "base_uri": "https://localhost:8080/"
    },
    "executionInfo": {
     "elapsed": 457,
     "status": "ok",
     "timestamp": 1725370062935,
     "user": {
      "displayName": "김지성",
      "userId": "08089280915681010656"
     },
     "user_tz": -540
    },
    "id": "DnrIXyEvEZQ4",
    "outputId": "a2f8a61e-1bab-4173-eb40-138e0b41c1a1"
   },
   "outputs": [
    {
     "name": "stdout",
     "output_type": "stream",
     "text": [
      "['홀수', '짝수', '홀수', '짝수', '홀수']\n"
     ]
    }
   ],
   "source": [
    "# 결과: ['홀수', '짝수', '홀수', '짝수', '홀수']\n",
    "even_or_odd = []\n",
    "for x in range(1,6):\n",
    "    if x %2 == 0:\n",
    "        even_or_odd.append('짝수')\n",
    "    else:\n",
    "        even_or_odd.append('홀수')\n",
    "\n",
    "print(even_or_odd)"
   ]
  },
  {
   "cell_type": "code",
   "execution_count": 9,
   "metadata": {
    "colab": {
     "base_uri": "https://localhost:8080/"
    },
    "executionInfo": {
     "elapsed": 486,
     "status": "ok",
     "timestamp": 1725370088680,
     "user": {
      "displayName": "김지성",
      "userId": "08089280915681010656"
     },
     "user_tz": -540
    },
    "id": "v3nZTY_3EhvU",
    "outputId": "22b8f277-bebd-4b41-caae-29707f88b0a0"
   },
   "outputs": [
    {
     "data": {
      "text/plain": [
       "['홀수', '짝수', '홀수', '짝수', '홀수']"
      ]
     },
     "execution_count": 9,
     "metadata": {},
     "output_type": "execute_result"
    }
   ],
   "source": [
    "# 결과: ['홀수', '짝수', '홀수', '짝수', '홀수']\n",
    "even_or_odd = ['짝수' if x%2 == 0 else '홀수' for x in range(1,6)]\n",
    "even_or_odd"
   ]
  },
  {
   "cell_type": "markdown",
   "metadata": {
    "id": "h9pYLeBpEqdD"
   },
   "source": [
    "# 반복문 2개 리스트 컴프리헨션"
   ]
  },
  {
   "cell_type": "markdown",
   "metadata": {
    "id": "1NBDlCTUDQp0"
   },
   "source": [
    "## 1.for문이 2개일 때"
   ]
  },
  {
   "cell_type": "code",
   "execution_count": 10,
   "metadata": {
    "colab": {
     "base_uri": "https://localhost:8080/"
    },
    "executionInfo": {
     "elapsed": 431,
     "status": "ok",
     "timestamp": 1725369789471,
     "user": {
      "displayName": "김지성",
      "userId": "08089280915681010656"
     },
     "user_tz": -540
    },
    "id": "7jYNWlRKDKis",
    "outputId": "17d8b905-4ec7-4716-8cd6-7752dc6ab5ac"
   },
   "outputs": [
    {
     "name": "stdout",
     "output_type": "stream",
     "text": [
      "[(1, 'A'), (1, 'B'), (1, 'C'), (2, 'A'), (2, 'B'), (2, 'C'), (3, 'A'), (3, 'B'), (3, 'C')]\n"
     ]
    }
   ],
   "source": [
    "# 결과: [(1, 'A'), (1, 'B'), (1, 'C'), (2, 'A'), (2, 'B'), (2, 'C'), (3, 'A'), (3, 'B'), (3, 'C')]\n",
    "combinations = []\n",
    "for x in range(1,4):\n",
    "    for y in 'ABC':\n",
    "        combinations.append((x,y))\n",
    "\n",
    "print(combinations)"
   ]
  },
  {
   "cell_type": "code",
   "execution_count": 13,
   "metadata": {
    "colab": {
     "base_uri": "https://localhost:8080/"
    },
    "executionInfo": {
     "elapsed": 3,
     "status": "ok",
     "timestamp": 1725369827950,
     "user": {
      "displayName": "김지성",
      "userId": "08089280915681010656"
     },
     "user_tz": -540
    },
    "id": "Qggoxz4jDYih",
    "outputId": "f76b8ecb-10de-4f94-c4da-d013d8496a78"
   },
   "outputs": [
    {
     "name": "stdout",
     "output_type": "stream",
     "text": [
      "[(1, 'A'), (1, 'B'), (1, 'C'), (2, 'A'), (2, 'B'), (2, 'C'), (3, 'A'), (3, 'B'), (3, 'C')]\n"
     ]
    }
   ],
   "source": [
    "# 결과: [(1, 'A'), (1, 'B'), (1, 'C'), (2, 'A'), (2, 'B'), (2, 'C'), (3, 'A'), (3, 'B'), (3, 'C')]\n",
    "combinations=[(x,y) for x in range(1,4) for y in 'ABC']\n",
    "print(combinations)"
   ]
  },
  {
   "cell_type": "markdown",
   "metadata": {
    "id": "Fj-xuyoFE12K"
   },
   "source": [
    "## 2.for문이 2개이고 if 조건이 있을 때"
   ]
  },
  {
   "cell_type": "code",
   "execution_count": 14,
   "metadata": {
    "colab": {
     "base_uri": "https://localhost:8080/"
    },
    "executionInfo": {
     "elapsed": 416,
     "status": "ok",
     "timestamp": 1725372490848,
     "user": {
      "displayName": "김지성",
      "userId": "08089280915681010656"
     },
     "user_tz": -540
    },
    "id": "ovqzbhFhDg0U",
    "outputId": "5a95b8d6-16f8-4db9-bc47-600492c9d9e1"
   },
   "outputs": [
    {
     "name": "stdout",
     "output_type": "stream",
     "text": [
      "[(2, 'A'), (2, 'B'), (2, 'C')]\n"
     ]
    }
   ],
   "source": [
    "# 결과: [(2, 'A'), (2, 'B'), (2, 'C')]\n",
    "filtered_combinations = []\n",
    "for x in range(1,4):\n",
    "    if x %2 == 0:\n",
    "        for y in 'ABC':\n",
    "            filtered_combinations.append((x,y))\n",
    "        \n",
    "print(filtered_combinations)"
   ]
  },
  {
   "cell_type": "code",
   "execution_count": 17,
   "metadata": {
    "colab": {
     "base_uri": "https://localhost:8080/"
    },
    "executionInfo": {
     "elapsed": 498,
     "status": "ok",
     "timestamp": 1725370555428,
     "user": {
      "displayName": "김지성",
      "userId": "08089280915681010656"
     },
     "user_tz": -540
    },
    "id": "aAwhI0m4FBCV",
    "outputId": "93d5b742-56fc-4ff6-da03-beec0b2c73ca"
   },
   "outputs": [
    {
     "name": "stdout",
     "output_type": "stream",
     "text": [
      "[(2, 'A'), (2, 'B'), (2, 'C')]\n"
     ]
    }
   ],
   "source": [
    "# 결과: [(2, 'A'), (2, 'B'), (2, 'C')]\n",
    "filtered_combinations = [(x,y) for x in range(1,4) if x%2 ==0  for y in 'ABC']\n",
    "print(filtered_combinations)"
   ]
  },
  {
   "cell_type": "markdown",
   "metadata": {
    "id": "hl5lEh5XKbAY"
   },
   "source": [
    "## 3.for문이 2개이고 if-else 조건이 있을 때"
   ]
  },
  {
   "cell_type": "code",
   "execution_count": 18,
   "metadata": {
    "colab": {
     "base_uri": "https://localhost:8080/"
    },
    "executionInfo": {
     "elapsed": 440,
     "status": "ok",
     "timestamp": 1725371611538,
     "user": {
      "displayName": "김지성",
      "userId": "08089280915681010656"
     },
     "user_tz": -540
    },
    "id": "-5Wymba6HafR",
    "outputId": "cf0e5769-520e-43f8-e1e1-b2e4dab7940e"
   },
   "outputs": [
    {
     "name": "stdout",
     "output_type": "stream",
     "text": [
      "[(1, 'a'), (1, 'b'), (1, 'c'), (2, 'A'), (2, 'B'), (2, 'C'), (3, 'a'), (3, 'b'), (3, 'c')]\n"
     ]
    }
   ],
   "source": [
    "# 결과: [(1, 'a'), (1, 'b'), (1, 'c'), (2, 'A'), (2, 'B'), (2, 'C'), (3, 'a'), (3, 'b'), (3, 'c')]\n",
    "results = []\n",
    "for x in range(1,4):\n",
    "    for y in 'ABC':\n",
    "        if x %2 ==0:\n",
    "            results.append((x,y))\n",
    "        else:\n",
    "            results.append((x,y.lower()))\n",
    "print(results)"
   ]
  },
  {
   "cell_type": "code",
   "execution_count": 23,
   "metadata": {
    "colab": {
     "base_uri": "https://localhost:8080/"
    },
    "executionInfo": {
     "elapsed": 538,
     "status": "ok",
     "timestamp": 1725371749098,
     "user": {
      "displayName": "김지성",
      "userId": "08089280915681010656"
     },
     "user_tz": -540
    },
    "id": "ApyqCKzPKXXD",
    "outputId": "33d65a3b-78fd-4774-e4d5-17f3bebcd788"
   },
   "outputs": [
    {
     "data": {
      "text/plain": [
       "[(1, 'a'),\n",
       " (1, 'b'),\n",
       " (1, 'c'),\n",
       " (2, 'A'),\n",
       " (2, 'B'),\n",
       " (2, 'C'),\n",
       " (3, 'a'),\n",
       " (3, 'b'),\n",
       " (3, 'c')]"
      ]
     },
     "execution_count": 23,
     "metadata": {},
     "output_type": "execute_result"
    }
   ],
   "source": [
    "# 결과: [(1, 'a'), (1, 'b'), (1, 'c'), (2, 'A'), (2, 'B'), (2, 'C'), (3, 'a'), (3, 'b'), (3, 'c')]\n",
    "results = [(x,y) if x%2==0 else (x, y.lower()) for x in range(1,4) for y in 'ABC']\n",
    "results"
   ]
  },
  {
   "cell_type": "code",
   "execution_count": null,
   "metadata": {
    "id": "XIQWqzcSKeMJ"
   },
   "outputs": [],
   "source": []
  }
 ],
 "metadata": {
  "colab": {
   "authorship_tag": "ABX9TyOPMCETu1gMeGleVH2+waKm",
   "provenance": [],
   "toc_visible": true
  },
  "kernelspec": {
   "display_name": "sesac",
   "language": "python",
   "name": "python3"
  },
  "language_info": {
   "codemirror_mode": {
    "name": "ipython",
    "version": 3
   },
   "file_extension": ".py",
   "mimetype": "text/x-python",
   "name": "python",
   "nbconvert_exporter": "python",
   "pygments_lexer": "ipython3",
   "version": "3.10.15"
  }
 },
 "nbformat": 4,
 "nbformat_minor": 0
}
