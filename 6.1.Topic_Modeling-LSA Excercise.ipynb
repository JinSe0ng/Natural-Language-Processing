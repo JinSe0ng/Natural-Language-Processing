{
 "cells": [
  {
   "cell_type": "markdown",
   "metadata": {
    "id": "L3HduQWCKyCE"
   },
   "source": [
    "# IMDB 영화 데이터셋 LSA"
   ]
  },
  {
   "cell_type": "markdown",
   "metadata": {
    "id": "6mRIUo_YK02v"
   },
   "source": [
    "## 1.데이터 로드"
   ]
  },
  {
   "cell_type": "code",
   "execution_count": 8,
   "metadata": {
    "colab": {
     "base_uri": "https://localhost:8080/"
    },
    "executionInfo": {
     "elapsed": 1530,
     "status": "ok",
     "timestamp": 1725938822320,
     "user": {
      "displayName": "김지성",
      "userId": "08089280915681010656"
     },
     "user_tz": -540
    },
    "id": "bBDTbEQ4HXLr",
    "outputId": "b8b579e5-91c9-428d-9c0d-bb0a79771b52"
   },
   "outputs": [
    {
     "name": "stdout",
     "output_type": "stream",
     "text": [
      "(120000, 3)\n",
      "첫 번째 리뷰:\n",
      "Reuters - Short-sellers, Wall Street's dwindling\\band of ultra-cynics, are seeing green again.\n",
      "리뷰 개수: 1000\n",
      "<class 'pandas.core.frame.DataFrame'>\n",
      "RangeIndex: 1000 entries, 0 to 999\n",
      "Data columns (total 3 columns):\n",
      " #   Column       Non-Null Count  Dtype \n",
      "---  ------       --------------  ----- \n",
      " 0   Class Index  1000 non-null   int64 \n",
      " 1   Title        1000 non-null   object\n",
      " 2   Description  1000 non-null   object\n",
      "dtypes: int64(1), object(2)\n",
      "memory usage: 23.6+ KB\n"
     ]
    }
   ],
   "source": [
    "import pandas as pd\n",
    "from sklearn.feature_extraction.text import TfidfVectorizer\n",
    "from sklearn.decomposition import TruncatedSVD\n",
    "\n",
    "# CSV 파일을 불러와 DataFrame으로 변환\n",
    "imdb_df = pd.read_csv('imdb.csv')  # 파일 경로에 맞게 변경\n",
    "print(imdb_df.shape)\n",
    "\n",
    "# 상위 1000개의 리뷰만 사용\n",
    "imdb_df = imdb_df.head(1000)\n",
    "\n",
    "# 첫 번째 리뷰 출력\n",
    "print(\"첫 번째 리뷰:\")\n",
    "print(imdb_df['Description'][0])  # 첫 번째 리뷰 출력\n",
    "print('리뷰 개수:', len(imdb_df))\n",
    "imdb_df.info()"
   ]
  },
  {
   "cell_type": "code",
   "execution_count": 9,
   "metadata": {
    "colab": {
     "base_uri": "https://localhost:8080/",
     "height": 424
    },
    "executionInfo": {
     "elapsed": 988,
     "status": "ok",
     "timestamp": 1725939109246,
     "user": {
      "displayName": "김지성",
      "userId": "08089280915681010656"
     },
     "user_tz": -540
    },
    "id": "dRU5hTh1-G4i",
    "outputId": "97c1abf4-0807-4b03-de74-5de3467b8d6c"
   },
   "outputs": [
    {
     "data": {
      "text/html": [
       "<div>\n",
       "<style scoped>\n",
       "    .dataframe tbody tr th:only-of-type {\n",
       "        vertical-align: middle;\n",
       "    }\n",
       "\n",
       "    .dataframe tbody tr th {\n",
       "        vertical-align: top;\n",
       "    }\n",
       "\n",
       "    .dataframe thead th {\n",
       "        text-align: right;\n",
       "    }\n",
       "</style>\n",
       "<table border=\"1\" class=\"dataframe\">\n",
       "  <thead>\n",
       "    <tr style=\"text-align: right;\">\n",
       "      <th></th>\n",
       "      <th>Title</th>\n",
       "      <th>Description</th>\n",
       "    </tr>\n",
       "  </thead>\n",
       "  <tbody>\n",
       "    <tr>\n",
       "      <th>0</th>\n",
       "      <td>Wall St. Bears Claw Back Into the Black (Reuters)</td>\n",
       "      <td>Reuters - Short-sellers, Wall Street's dwindli...</td>\n",
       "    </tr>\n",
       "    <tr>\n",
       "      <th>1</th>\n",
       "      <td>Carlyle Looks Toward Commercial Aerospace (Reu...</td>\n",
       "      <td>Reuters - Private investment firm Carlyle Grou...</td>\n",
       "    </tr>\n",
       "    <tr>\n",
       "      <th>2</th>\n",
       "      <td>Oil and Economy Cloud Stocks' Outlook (Reuters)</td>\n",
       "      <td>Reuters - Soaring crude prices plus worries\\ab...</td>\n",
       "    </tr>\n",
       "    <tr>\n",
       "      <th>3</th>\n",
       "      <td>Iraq Halts Oil Exports from Main Southern Pipe...</td>\n",
       "      <td>Reuters - Authorities have halted oil export\\f...</td>\n",
       "    </tr>\n",
       "    <tr>\n",
       "      <th>4</th>\n",
       "      <td>Oil prices soar to all-time record, posing new...</td>\n",
       "      <td>AFP - Tearaway world oil prices, toppling reco...</td>\n",
       "    </tr>\n",
       "    <tr>\n",
       "      <th>...</th>\n",
       "      <td>...</td>\n",
       "      <td>...</td>\n",
       "    </tr>\n",
       "    <tr>\n",
       "      <th>995</th>\n",
       "      <td>U.S. Stocks Rebound as Oil Prices Ease</td>\n",
       "      <td>NEW YORK (Reuters) - U.S. stocks rebounded on...</td>\n",
       "    </tr>\n",
       "    <tr>\n",
       "      <th>996</th>\n",
       "      <td>Dollar Rises Vs Euro After Asset Data</td>\n",
       "      <td>NEW YORK (Reuters) - The dollar gained agains...</td>\n",
       "    </tr>\n",
       "    <tr>\n",
       "      <th>997</th>\n",
       "      <td>Bikes Bring Internet to Indian Villagers (AP)</td>\n",
       "      <td>AP - For 12-year-old Anju Sharma, hope for a b...</td>\n",
       "    </tr>\n",
       "    <tr>\n",
       "      <th>998</th>\n",
       "      <td>Celebrity Chefs Are Everywhere in Vegas</td>\n",
       "      <td>By ADAM GOLDMAN    LAS VEGAS (AP) -- The waite...</td>\n",
       "    </tr>\n",
       "    <tr>\n",
       "      <th>999</th>\n",
       "      <td>Entertainment World Wary of Microsoft Technology</td>\n",
       "      <td>By GARY GENTILE    LOS ANGELES (AP) -- CinemaN...</td>\n",
       "    </tr>\n",
       "  </tbody>\n",
       "</table>\n",
       "<p>1000 rows × 2 columns</p>\n",
       "</div>"
      ],
      "text/plain": [
       "                                                 Title  \\\n",
       "0    Wall St. Bears Claw Back Into the Black (Reuters)   \n",
       "1    Carlyle Looks Toward Commercial Aerospace (Reu...   \n",
       "2      Oil and Economy Cloud Stocks' Outlook (Reuters)   \n",
       "3    Iraq Halts Oil Exports from Main Southern Pipe...   \n",
       "4    Oil prices soar to all-time record, posing new...   \n",
       "..                                                 ...   \n",
       "995             U.S. Stocks Rebound as Oil Prices Ease   \n",
       "996              Dollar Rises Vs Euro After Asset Data   \n",
       "997      Bikes Bring Internet to Indian Villagers (AP)   \n",
       "998            Celebrity Chefs Are Everywhere in Vegas   \n",
       "999   Entertainment World Wary of Microsoft Technology   \n",
       "\n",
       "                                           Description  \n",
       "0    Reuters - Short-sellers, Wall Street's dwindli...  \n",
       "1    Reuters - Private investment firm Carlyle Grou...  \n",
       "2    Reuters - Soaring crude prices plus worries\\ab...  \n",
       "3    Reuters - Authorities have halted oil export\\f...  \n",
       "4    AFP - Tearaway world oil prices, toppling reco...  \n",
       "..                                                 ...  \n",
       "995   NEW YORK (Reuters) - U.S. stocks rebounded on...  \n",
       "996   NEW YORK (Reuters) - The dollar gained agains...  \n",
       "997  AP - For 12-year-old Anju Sharma, hope for a b...  \n",
       "998  By ADAM GOLDMAN    LAS VEGAS (AP) -- The waite...  \n",
       "999  By GARY GENTILE    LOS ANGELES (AP) -- CinemaN...  \n",
       "\n",
       "[1000 rows x 2 columns]"
      ]
     },
     "execution_count": 9,
     "metadata": {},
     "output_type": "execute_result"
    }
   ],
   "source": [
    "imdb_df[['Title', 'Description']]"
   ]
  },
  {
   "cell_type": "code",
   "execution_count": 11,
   "metadata": {
    "colab": {
     "base_uri": "https://localhost:8080/"
    },
    "executionInfo": {
     "elapsed": 634,
     "status": "ok",
     "timestamp": 1725938999511,
     "user": {
      "displayName": "김지성",
      "userId": "08089280915681010656"
     },
     "user_tz": -540
    },
    "id": "J_J_Mo1Q-wyU",
    "outputId": "8581fcb4-fd8e-430e-b20f-fac9380209b9"
   },
   "outputs": [
    {
     "name": "stdout",
     "output_type": "stream",
     "text": [
      "                                                 Title  \\\n",
      "0    Wall St. Bears Claw Back Into the Black (Reuters)   \n",
      "1    Carlyle Looks Toward Commercial Aerospace (Reu...   \n",
      "2      Oil and Economy Cloud Stocks' Outlook (Reuters)   \n",
      "3    Iraq Halts Oil Exports from Main Southern Pipe...   \n",
      "4    Oil prices soar to all-time record, posing new...   \n",
      "..                                                 ...   \n",
      "995             U.S. Stocks Rebound as Oil Prices Ease   \n",
      "996              Dollar Rises Vs Euro After Asset Data   \n",
      "997      Bikes Bring Internet to Indian Villagers (AP)   \n",
      "998            Celebrity Chefs Are Everywhere in Vegas   \n",
      "999   Entertainment World Wary of Microsoft Technology   \n",
      "\n",
      "                                           Description  \n",
      "0    Reuters - Short-sellers, Wall Street's dwindli...  \n",
      "1    Reuters - Private investment firm Carlyle Grou...  \n",
      "2    Reuters - Soaring crude prices plus worries\\ab...  \n",
      "3    Reuters - Authorities have halted oil export\\f...  \n",
      "4    AFP - Tearaway world oil prices, toppling reco...  \n",
      "..                                                 ...  \n",
      "995   NEW YORK (Reuters) - U.S. stocks rebounded on...  \n",
      "996   NEW YORK (Reuters) - The dollar gained agains...  \n",
      "997  AP - For 12-year-old Anju Sharma, hope for a b...  \n",
      "998  By ADAM GOLDMAN    LAS VEGAS (AP) -- The waite...  \n",
      "999  By GARY GENTILE    LOS ANGELES (AP) -- CinemaN...  \n",
      "\n",
      "[1000 rows x 2 columns]\n"
     ]
    }
   ],
   "source": [
    "print(imdb_df[['Title', 'Description']])"
   ]
  },
  {
   "cell_type": "markdown",
   "metadata": {
    "id": "Sf-GhKJWKwD7"
   },
   "source": [
    "## 2.전처리"
   ]
  },
  {
   "cell_type": "code",
   "execution_count": 18,
   "metadata": {
    "colab": {
     "base_uri": "https://localhost:8080/"
    },
    "executionInfo": {
     "elapsed": 324,
     "status": "ok",
     "timestamp": 1725930714229,
     "user": {
      "displayName": "김지성",
      "userId": "08089280915681010656"
     },
     "user_tz": -540
    },
    "id": "3yLhb0dbKMRb",
    "outputId": "986a225e-79da-44ee-87c9-6c2dbf1ab3d3"
   },
   "outputs": [
    {
     "name": "stdout",
     "output_type": "stream",
     "text": [
      "0    reuters short sellers wall street dwindling ba...\n",
      "1    reuters private investment firm carlyle group ...\n",
      "2    reuters soaring crude prices plus worries abou...\n",
      "3    reuters authorities have halted export flows f...\n",
      "4    tearaway world prices toppling records straini...\n",
      "Name: clean_doc, dtype: object\n"
     ]
    }
   ],
   "source": [
    "# 특수 문자 재고 맟 전처리\n",
    "imdb_df['clean_doc'] = imdb_df['Description'].str.replace(\"[^a-zA-Z]\",\" \",regex=True)    # regex = regular expression\n",
    "\n",
    "# 길이가 3 이하인 단어는 제거\n",
    "imdb_df['clean_doc'] = imdb_df['clean_doc'].apply(lambda x: ' '.join([w for w in x.split() if len(w) > 3]))\n",
    "\n",
    "# 대소문자 정규화\n",
    "imdb_df['clean_doc'] = imdb_df['clean_doc'].apply(lambda x: x.lower())\n",
    "\n",
    "print(imdb_df['clean_doc'].head())\n"
   ]
  },
  {
   "cell_type": "markdown",
   "metadata": {
    "id": "qN0BHvTsK6w_"
   },
   "source": [
    "## 3.TF-IDF 벡터화"
   ]
  },
  {
   "cell_type": "code",
   "execution_count": 16,
   "metadata": {
    "colab": {
     "base_uri": "https://localhost:8080/"
    },
    "executionInfo": {
     "elapsed": 442,
     "status": "ok",
     "timestamp": 1725930716634,
     "user": {
      "displayName": "김지성",
      "userId": "08089280915681010656"
     },
     "user_tz": -540
    },
    "id": "ZhNvwB7bJHkw",
    "outputId": "d1683b59-0c75-4022-f192-4c6981b63a01"
   },
   "outputs": [
    {
     "data": {
      "text/plain": [
       "(1000, 1000)"
      ]
     },
     "execution_count": 16,
     "metadata": {},
     "output_type": "execute_result"
    }
   ],
   "source": [
    "vectorizer = TfidfVectorizer(stop_words='english', max_features=1000, max_df=0.5, smooth_idf = True)\n",
    "\n",
    "X = vectorizer.fit_transform(imdb_df['clean_doc'])\n",
    "\n",
    "X.shape"
   ]
  },
  {
   "cell_type": "markdown",
   "metadata": {
    "id": "bC2SDKULM5Rw"
   },
   "source": [
    "## 4.LSA 적용"
   ]
  },
  {
   "cell_type": "code",
   "execution_count": 19,
   "metadata": {
    "colab": {
     "base_uri": "https://localhost:8080/"
    },
    "executionInfo": {
     "elapsed": 348,
     "status": "ok",
     "timestamp": 1725930718019,
     "user": {
      "displayName": "김지성",
      "userId": "08089280915681010656"
     },
     "user_tz": -540
    },
    "id": "dyVcO7lCKGGa",
    "outputId": "9c9aee76-3388-45d7-e429-4f083837985a"
   },
   "outputs": [
    {
     "name": "stdout",
     "output_type": "stream",
     "text": [
      "TruncatedSVD(n_components=20, n_iter=100, random_state=42)\n"
     ]
    }
   ],
   "source": [
    "svd_model = TruncatedSVD(n_components=20, algorithm='randomized', n_iter=100, random_state=42)\n",
    "svd_model.fit(X)\n",
    "\n",
    "print(svd_model)"
   ]
  },
  {
   "cell_type": "markdown",
   "metadata": {
    "id": "YIKROX6FNCtM"
   },
   "source": [
    "## 5.토픽 확인"
   ]
  },
  {
   "cell_type": "code",
   "execution_count": 23,
   "metadata": {
    "colab": {
     "base_uri": "https://localhost:8080/"
    },
    "executionInfo": {
     "elapsed": 3,
     "status": "ok",
     "timestamp": 1725930719373,
     "user": {
      "displayName": "김지성",
      "userId": "08089280915681010656"
     },
     "user_tz": -540
    },
    "id": "WO_0edjqM8KO",
    "outputId": "c71714a5-e236-4889-a720-4f3eec5358ed"
   },
   "outputs": [
    {
     "name": "stdout",
     "output_type": "stream",
     "text": [
      "Document 1: [('Topic 1', 0.10501), ('Topic 4', 0.07552), ('Topic 8', 0.06529), ('Topic 10', 0.04661), ('Topic 18', 0.04259)]\n",
      "Document 2: [('Topic 1', 0.14318), ('Topic 20', 0.06137), ('Topic 4', 0.05243), ('Topic 15', 0.04796), ('Topic 8', 0.04223)]\n",
      "Document 3: [('Topic 8', 0.31316), ('Topic 6', 0.19527), ('Topic 11', 0.1857), ('Topic 1', 0.18284), ('Topic 4', 0.15127)]\n",
      "Document 4: [('Topic 1', 0.17524), ('Topic 5', 0.13552), ('Topic 12', 0.1175), ('Topic 4', 0.05847), ('Topic 18', 0.04912)]\n",
      "Document 5: [('Topic 15', 0.12098), ('Topic 8', 0.11785), ('Topic 1', 0.10466), ('Topic 14', 0.08082), ('Topic 20', 0.06878)]\n",
      "Document 6: [('Topic 1', 0.17878), ('Topic 8', 0.1302), ('Topic 10', 0.09047), ('Topic 4', 0.06776), ('Topic 20', 0.05736)]\n",
      "Document 7: [('Topic 1', 0.17361), ('Topic 15', 0.16632), ('Topic 12', 0.09141), ('Topic 6', 0.07011), ('Topic 13', 0.06996)]\n",
      "Document 8: [('Topic 1', 0.1635), ('Topic 15', 0.12911), ('Topic 20', 0.10043), ('Topic 4', 0.08301), ('Topic 13', 0.07571)]\n",
      "Document 9: [('Topic 8', 0.04723), ('Topic 9', 0.04685), ('Topic 1', 0.04519), ('Topic 15', 0.02616), ('Topic 14', 0.0209)]\n",
      "Document 10: [('Topic 1', 0.13352), ('Topic 8', 0.12666), ('Topic 4', 0.09989), ('Topic 18', 0.07873), ('Topic 10', 0.05921)]\n"
     ]
    }
   ],
   "source": [
    "# 문서별 가장 관련성이 높은 (비중이 높은) 토픽 상위 n개를 추출하는 함수 생성\n",
    "terms = vectorizer.get_feature_names_out()\n",
    "\n",
    "def get_document_topics(lsa_matrix, n=5):\n",
    "    for idx, doc in enumerate(lsa_matrix):\n",
    "        if idx == 10: break\n",
    "        print(f\"Document {idx+1}:\", [(f\"Topic {i+1}\", doc[i].round(5)) for i in doc.argsort()[::-1][:n]])\n",
    "\n",
    "# 문서별 토픽 비율 확인\n",
    "lsa_matrix = svd_model.transform(X)\n",
    "\n",
    "# 함수 호출\n",
    "get_document_topics(lsa_matrix, n=5)"
   ]
  },
  {
   "cell_type": "code",
   "execution_count": 24,
   "metadata": {
    "colab": {
     "base_uri": "https://localhost:8080/"
    },
    "executionInfo": {
     "elapsed": 327,
     "status": "ok",
     "timestamp": 1725930722618,
     "user": {
      "displayName": "김지성",
      "userId": "08089280915681010656"
     },
     "user_tz": -540
    },
    "id": "2-QWyfwPNGVD",
    "outputId": "088d9406-5590-45b8-8b95-a5c0bd871059"
   },
   "outputs": [
    {
     "name": "stdout",
     "output_type": "stream",
     "text": [
      "Topic 1: [('reuters', 0.36062), ('monday', 0.28934), ('said', 0.25494), ('sunday', 0.22402), ('athens', 0.17717)]\n",
      "Topic 2: [('athens', 0.41798), ('olympic', 0.30958), ('sunday', 0.25798), ('team', 0.23184), ('phelps', 0.17064)]\n",
      "Topic 3: [('president', 0.27886), ('chavez', 0.22478), ('hugo', 0.22478), ('referendum', 0.22148), ('venezuela', 0.21818)]\n",
      "Topic 4: [('monday', 0.28527), ('reuters', 0.23932), ('profit', 0.15149), ('sales', 0.12486), ('billion', 0.11989)]\n",
      "Topic 5: [('space', 0.29037), ('said', 0.24735), ('people', 0.11468), ('scientists', 0.11404), ('national', 0.10832)]\n",
      "Topic 6: [('space', 0.34336), ('google', 0.32354), ('public', 0.15628), ('search', 0.14791), ('auction', 0.13344)]\n",
      "Topic 7: [('space', 0.39243), ('nasa', 0.13092), ('earth', 0.12246), ('telescope', 0.10664), ('software', 0.10635)]\n",
      "Topic 8: [('york', 0.22706), ('prices', 0.2218), ('hurricane', 0.21618), ('florida', 0.18107), ('charley', 0.16682)]\n",
      "Topic 9: [('hurricane', 0.24158), ('charley', 0.22961), ('florida', 0.17574), ('reported', 0.16803), ('left', 0.16226)]\n",
      "Topic 10: [('year', 0.2551), ('championship', 0.24777), ('singh', 0.19601), ('sunday', 0.19498), ('vijay', 0.17943)]\n",
      "Topic 11: [('space', 0.25588), ('najaf', 0.21795), ('iraq', 0.19374), ('conference', 0.15639), ('baghdad', 0.11942)]\n",
      "Topic 12: [('said', 0.31159), ('reuters', 0.16993), ('security', 0.16554), ('sunday', 0.15538), ('microsoft', 0.132)]\n",
      "Topic 13: [('freestyle', 0.27211), ('phelps', 0.25652), ('michael', 0.23156), ('team', 0.22592), ('thorpe', 0.16051)]\n",
      "Topic 14: [('scientists', 0.27923), ('university', 0.25826), ('press', 0.19026), ('people', 0.18229), ('release', 0.16488)]\n",
      "Topic 15: [('world', 0.33735), ('company', 0.28047), ('strong', 0.17342), ('week', 0.13652), ('global', 0.12058)]\n",
      "Topic 16: [('team', 0.42083), ('monday', 0.22448), ('like', 0.10468), ('country', 0.10226), ('najaf', 0.09847)]\n",
      "Topic 17: [('team', 0.23135), ('region', 0.20854), ('darfur', 0.20595), ('sudan', 0.19244), ('phone', 0.18299)]\n",
      "Topic 18: [('team', 0.24148), ('game', 0.20114), ('company', 0.18042), ('second', 0.14145), ('york', 0.13428)]\n",
      "Topic 19: [('font', 0.27953), ('home', 0.17414), ('company', 0.16525), ('second', 0.15408), ('face', 0.15289)]\n",
      "Topic 20: [('strong', 0.48319), ('world', 0.19039), ('week', 0.16019), ('windows', 0.13409), ('team', 0.11361)]\n"
     ]
    }
   ],
   "source": [
    "# 토픽과 가장 관련성이 높은 상위 n개의 단어만 뽑아주는 함수 생성\n",
    "\n",
    "def get_topics(components, feature_names, n=5):\n",
    "    for idx, topic in enumerate(components):\n",
    "        print(\"Topic %d:\"%(idx+1), [(feature_names[i], topic[i].round(5)) for i in topic.argsort()[::-1][:n]])\n",
    "\n",
    "# 각 토픽별 상위 5개 단어 출력\n",
    "get_topics(svd_model.components_, terms)"
   ]
  },
  {
   "cell_type": "code",
   "execution_count": null,
   "metadata": {
    "id": "tLgM-PShNHC4"
   },
   "outputs": [],
   "source": []
  }
 ],
 "metadata": {
  "colab": {
   "authorship_tag": "ABX9TyNGbkWlgOFfCjXLYWM2nFhJ",
   "provenance": []
  },
  "kernelspec": {
   "display_name": "sesac",
   "language": "python",
   "name": "python3"
  },
  "language_info": {
   "codemirror_mode": {
    "name": "ipython",
    "version": 3
   },
   "file_extension": ".py",
   "mimetype": "text/x-python",
   "name": "python",
   "nbconvert_exporter": "python",
   "pygments_lexer": "ipython3",
   "version": "3.10.15"
  }
 },
 "nbformat": 4,
 "nbformat_minor": 0
}
