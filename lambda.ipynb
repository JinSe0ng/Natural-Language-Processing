{
 "cells": [
  {
   "cell_type": "markdown",
   "metadata": {
    "id": "WXd2s-HMYYF6"
   },
   "source": [
    "# 1.lambda : 익명 함수\n",
    "- lambda 함수의 특징\n",
    "  - 간결함: 한 줄로 표현할 수 있는 간단한 함수를 정의할 때 유용.\n",
    "  - 일회성: 함수에 이름을 붙이지 않아도 되며, 일회성으로 사용할 수 있음."
   ]
  },
  {
   "cell_type": "markdown",
   "metadata": {
    "id": "ZlYNeW9yYokh"
   },
   "source": [
    "## 1.파라미터가 없는 함수"
   ]
  },
  {
   "cell_type": "code",
   "execution_count": 1,
   "metadata": {},
   "outputs": [
    {
     "name": "stdout",
     "output_type": "stream",
     "text": [
      "hello\n"
     ]
    }
   ],
   "source": [
    "def say_hello():\n",
    "    return 'hello'\n",
    "\n",
    "print(say_hello())"
   ]
  },
  {
   "cell_type": "code",
   "execution_count": 2,
   "metadata": {},
   "outputs": [
    {
     "name": "stdout",
     "output_type": "stream",
     "text": [
      "<function <lambda> at 0x105961ea0>\n"
     ]
    }
   ],
   "source": [
    "say_hello = lambda: 'hello'\n",
    "print(say_hello)"
   ]
  },
  {
   "cell_type": "code",
   "execution_count": 3,
   "metadata": {},
   "outputs": [
    {
     "data": {
      "text/plain": [
       "function"
      ]
     },
     "execution_count": 3,
     "metadata": {},
     "output_type": "execute_result"
    }
   ],
   "source": [
    "type(say_hello)"
   ]
  },
  {
   "cell_type": "markdown",
   "metadata": {
    "id": "qbAb36B1Y3Cb"
   },
   "source": [
    "## 2.파라미터가 1개인 함수"
   ]
  },
  {
   "cell_type": "markdown",
   "metadata": {
    "id": "Ai1kgkb8ZeQo"
   },
   "source": [
    "- 1개의 값을 받아서 제곱으로 반환"
   ]
  },
  {
   "cell_type": "code",
   "execution_count": 5,
   "metadata": {},
   "outputs": [
    {
     "name": "stdout",
     "output_type": "stream",
     "text": [
      "25\n"
     ]
    }
   ],
   "source": [
    "def square(x):\n",
    "    return x**2\n",
    "print(square(5))"
   ]
  },
  {
   "cell_type": "code",
   "execution_count": null,
   "metadata": {},
   "outputs": [],
   "source": [
    "square_lambda = "
   ]
  },
  {
   "cell_type": "markdown",
   "metadata": {
    "id": "VP8WoFlZZhdt"
   },
   "source": [
    "- 문자를 받아서 문자의 길이를 반환"
   ]
  },
  {
   "cell_type": "code",
   "execution_count": null,
   "metadata": {},
   "outputs": [
    {
     "name": "stdout",
     "output_type": "stream",
     "text": [
      "6\n"
     ]
    }
   ],
   "source": [
    "def string_length(s):\n",
    "    return len(s)\n",
    "\n",
    "print(string_length('lambda'))"
   ]
  },
  {
   "cell_type": "code",
   "execution_count": 9,
   "metadata": {},
   "outputs": [
    {
     "name": "stdout",
     "output_type": "stream",
     "text": [
      "6\n"
     ]
    }
   ],
   "source": [
    "string_length_lamda = lambda s: len(s)\n",
    "print(string_length_lamda('lambda'))"
   ]
  },
  {
   "cell_type": "markdown",
   "metadata": {
    "id": "zZStokLMZKFW"
   },
   "source": [
    "## 3.파라미터 2개인 함수"
   ]
  },
  {
   "cell_type": "markdown",
   "metadata": {
    "id": "2KyoyX_EZtXN"
   },
   "source": [
    "- 2개의 값을 받아서 두 값의 합을 반환"
   ]
  },
  {
   "cell_type": "code",
   "execution_count": 10,
   "metadata": {},
   "outputs": [
    {
     "name": "stdout",
     "output_type": "stream",
     "text": [
      "7\n"
     ]
    }
   ],
   "source": [
    "def add(x,y):\n",
    "    return x+y\n",
    "\n",
    "print(add(3,4))"
   ]
  },
  {
   "cell_type": "code",
   "execution_count": 11,
   "metadata": {},
   "outputs": [
    {
     "name": "stdout",
     "output_type": "stream",
     "text": [
      "7\n"
     ]
    }
   ],
   "source": [
    "add_lambda = lambda x,y : x+y\n",
    "\n",
    "print(add_lambda(3,4))"
   ]
  },
  {
   "cell_type": "markdown",
   "metadata": {
    "id": "HD5P3_QoZ3NB"
   },
   "source": [
    "- 2개의 문자를 받아서 두 문자를 결합"
   ]
  },
  {
   "cell_type": "code",
   "execution_count": 15,
   "metadata": {},
   "outputs": [
    {
     "name": "stdout",
     "output_type": "stream",
     "text": [
      "hello world\n"
     ]
    }
   ],
   "source": [
    "def concat_strings(s1,s2):\n",
    "    return s1 + \" \" + s2\n",
    "\n",
    "print(concat_strings('hello', 'world'))"
   ]
  },
  {
   "cell_type": "code",
   "execution_count": 16,
   "metadata": {},
   "outputs": [
    {
     "name": "stdout",
     "output_type": "stream",
     "text": [
      "hello world\n"
     ]
    }
   ],
   "source": [
    "concat_strings_lambda = lambda s1, s2:s1 + \" \" + s2\n",
    "print(concat_strings_lambda('hello', 'world'))"
   ]
  },
  {
   "cell_type": "markdown",
   "metadata": {
    "id": "UUR7Sv0ValMT"
   },
   "source": [
    "# 2.defaultdict\n",
    "-  기본 딕셔너리와 달리, 존재하지 않는 키를 조회할 때 자동으로 기본값을 반환.\n",
    "- 함수,클래스를 파라미터로 받음. 이때 인자로 받는 함수/파라미터는 파라미터가 없는 함수이다."
   ]
  },
  {
   "cell_type": "code",
   "execution_count": 18,
   "metadata": {},
   "outputs": [
    {
     "name": "stdout",
     "output_type": "stream",
     "text": [
      "'a'\n",
      "a키가 존재하지 않습니다.\n"
     ]
    }
   ],
   "source": [
    "# 기존 딕셔너리 사용\n",
    "d = {}\n",
    "\n",
    "# {'a' : 1}\n",
    "try:\n",
    "    d['a'] += 1\n",
    "except KeyError as e:\n",
    "    print(e)\n",
    "    print('a키가 존재하지 않습니다.')"
   ]
  },
  {
   "cell_type": "code",
   "execution_count": 21,
   "metadata": {},
   "outputs": [
    {
     "name": "stdout",
     "output_type": "stream",
     "text": [
      "defaultdict(<class 'int'>, {'a': 1})\n",
      "<class 'collections.defaultdict'>\n",
      "{'a': 1}\n"
     ]
    }
   ],
   "source": [
    "from collections import defaultdict\n",
    "\n",
    "# 기본값이 0인 defaultdict 생성\n",
    "d = defaultdict(int)  # value에 적용될 함수/클래스를 파라미터로 전달\n",
    "\n",
    "# 키'a'가 존재하지 않으면 자동으로 0이 설정되고, 그 후 1이 더해짐\n",
    "d['a'] += 1\n",
    "\n",
    "print(d)\n",
    "print(type(d))\n",
    "print(dict(d))"
   ]
  },
  {
   "cell_type": "code",
   "execution_count": 22,
   "metadata": {},
   "outputs": [
    {
     "name": "stdout",
     "output_type": "stream",
     "text": [
      "0\n",
      "0\n",
      "0\n"
     ]
    },
    {
     "data": {
      "text/plain": [
       "{'key1': 0, 'key2': 0, 'key3': 0}"
      ]
     },
     "execution_count": 22,
     "metadata": {},
     "output_type": "execute_result"
    }
   ],
   "source": [
    "d = defaultdict(int)\n",
    "print(d['key1'])\n",
    "print(d['key2'])\n",
    "print(d['key3'])\n",
    "dict(d)"
   ]
  },
  {
   "cell_type": "code",
   "execution_count": 23,
   "metadata": {},
   "outputs": [
    {
     "name": "stdout",
     "output_type": "stream",
     "text": [
      "defaultdict(<class 'list'>, {})\n",
      "{'a': [1]}\n"
     ]
    }
   ],
   "source": [
    "d = defaultdict(list)\n",
    "print(d)\n",
    "\n",
    "d['a'].append(1)\n",
    "print(dict(d))"
   ]
  },
  {
   "cell_type": "markdown",
   "metadata": {},
   "source": [
    "- 동작 방식\n",
    "    - key1이라는 키가 d에 존재하지 않으면 defaultdict의 인자인 default_factory가 호출 됨 \n",
    "    - default_factory인 lambda 함수가 실행되고, 현재 딕셔너리 d의 길이 len(d)를 계산 \n",
    "    - d는 아직 비어있으므로 len(d)는 0임 \n",
    "    - 따라서 0 + 1 = 1로 설정 됨 \n",
    "    - 'key1' 키가 추가되고 값은 1이 됨 "
   ]
  },
  {
   "cell_type": "code",
   "execution_count": null,
   "metadata": {},
   "outputs": [
    {
     "name": "stdout",
     "output_type": "stream",
     "text": [
      "1\n",
      "2\n",
      "3\n"
     ]
    },
    {
     "data": {
      "text/plain": [
       "{'key1': 1, 'key2': 2, 'key3': 3}"
      ]
     },
     "execution_count": 27,
     "metadata": {},
     "output_type": "execute_result"
    }
   ],
   "source": [
    "# defaultdict 를 lambda로 초기화, 기본값을 0으로 설정\n",
    "d = defaultdict(lambda:len(d)+1)\n",
    "\n",
    "print(d['key1'])\n",
    "print(d['key2'])\n",
    "print(d['key3'])\n",
    "\n",
    "dict(d)"
   ]
  },
  {
   "cell_type": "code",
   "execution_count": null,
   "metadata": {},
   "outputs": [],
   "source": []
  },
  {
   "cell_type": "markdown",
   "metadata": {
    "id": "92B0-JU-ewzC"
   },
   "source": [
    "# 3.map\n",
    "map 함수의 파라미터 구조\n",
    "  - 첫 번째 파라미터: 함수 (function)\n",
    "    - 이 함수는 두 번째 파라미터로 전달된 반복 가능한 객체(들)의 각 요소에 적용.\n",
    "\n",
    "  - 두 번째 파라미터: 반복 가능한 객체 (iterable)\n",
    "    - 이 반복 가능한 객체는 리스트, 튜플, 문자열 등."
   ]
  },
  {
   "cell_type": "code",
   "execution_count": 29,
   "metadata": {},
   "outputs": [
    {
     "data": {
      "text/plain": [
       "[1, 4, 9, 16]"
      ]
     },
     "execution_count": 29,
     "metadata": {},
     "output_type": "execute_result"
    }
   ],
   "source": [
    "numbers = [1,2,3,4]\n",
    "\n",
    "squared = map(lambda x: x**2, numbers)\n",
    "list(squared)"
   ]
  },
  {
   "cell_type": "code",
   "execution_count": 31,
   "metadata": {},
   "outputs": [
    {
     "data": {
      "text/plain": [
       "[5, 7, 9]"
      ]
     },
     "execution_count": 31,
     "metadata": {},
     "output_type": "execute_result"
    }
   ],
   "source": [
    "numbers1 = [1,2,3]\n",
    "numbers2 = [4,5,6]\n",
    "\n",
    "summed = map(lambda x,y: x+y, numbers1, numbers2)\n",
    "list(summed)"
   ]
  },
  {
   "cell_type": "code",
   "execution_count": 34,
   "metadata": {},
   "outputs": [
    {
     "data": {
      "text/plain": [
       "[[1, 2, 3], [4, 5, 6]]"
      ]
     },
     "execution_count": 34,
     "metadata": {},
     "output_type": "execute_result"
    }
   ],
   "source": [
    "numbers = [[1,2,3],[4,5,6]]\n",
    "\n",
    "test = map(lambda x: x, numbers)\n",
    "list(test)"
   ]
  },
  {
   "cell_type": "code",
   "execution_count": 36,
   "metadata": {},
   "outputs": [
    {
     "data": {
      "text/plain": [
       "[(1, 4), (2, 5), (3, 6)]"
      ]
     },
     "execution_count": 36,
     "metadata": {},
     "output_type": "execute_result"
    }
   ],
   "source": [
    "summed = map(lambda x,y: (x, y), numbers[0], numbers[1])\n",
    "list(summed)"
   ]
  },
  {
   "cell_type": "code",
   "execution_count": null,
   "metadata": {},
   "outputs": [],
   "source": []
  }
 ],
 "metadata": {
  "colab": {
   "authorship_tag": "ABX9TyNxbXh/SwnvZna4acDlOzCV",
   "provenance": [],
   "toc_visible": true
  },
  "kernelspec": {
   "display_name": "sesac",
   "language": "python",
   "name": "python3"
  },
  "language_info": {
   "codemirror_mode": {
    "name": "ipython",
    "version": 3
   },
   "file_extension": ".py",
   "mimetype": "text/x-python",
   "name": "python",
   "nbconvert_exporter": "python",
   "pygments_lexer": "ipython3",
   "version": "3.10.15"
  }
 },
 "nbformat": 4,
 "nbformat_minor": 0
}
