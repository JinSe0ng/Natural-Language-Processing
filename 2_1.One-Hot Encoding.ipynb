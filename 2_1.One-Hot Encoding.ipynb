{
 "cells": [
  {
   "cell_type": "markdown",
   "metadata": {
    "id": "ndox2tUi2zru"
   },
   "source": [
    "# 단어의 표현 (Word Representation)\n",
    "\n",
    "\n",
    "기계는 문자를 그대로 인식할 수 없기때문에 숫자로 변환\n"
   ]
  },
  {
   "cell_type": "markdown",
   "metadata": {
    "id": "XC6w-2SZ24hn"
   },
   "source": [
    "# 1.원-핫 인코딩 (One-Hot Encoding)"
   ]
  },
  {
   "cell_type": "markdown",
   "metadata": {
    "id": "dRr2X_DF26wc"
   },
   "source": [
    "## 1.1. 직접 구현"
   ]
  },
  {
   "cell_type": "code",
   "execution_count": 44,
   "metadata": {},
   "outputs": [],
   "source": [
    "from collections import defaultdict \n",
    "import numpy as np "
   ]
  },
  {
   "cell_type": "code",
   "execution_count": 45,
   "metadata": {
    "id": "7hPsVDeH2f9i"
   },
   "outputs": [],
   "source": [
    "# 인코딩 대상 단어들을 담은 리스트\n",
    "word_ls = ['원숭이','바나나','사과','개', '고양이']\n"
   ]
  },
  {
   "cell_type": "code",
   "execution_count": 46,
   "metadata": {
    "colab": {
     "base_uri": "https://localhost:8080/"
    },
    "executionInfo": {
     "elapsed": 4,
     "status": "ok",
     "timestamp": 1725428412149,
     "user": {
      "displayName": "김지성",
      "userId": "08089280915681010656"
     },
     "user_tz": -540
    },
    "id": "zaOp2R46AYhm",
    "outputId": "235dbbf5-c054-4751-bdba-3c10c33f60dc"
   },
   "outputs": [
    {
     "name": "stdout",
     "output_type": "stream",
     "text": [
      "{'원숭이': 0, '바나나': 1, '개': 2}\n"
     ]
    }
   ],
   "source": [
    "# 예시) 고유 단어와 인덱스 매칭\n",
    "test_defaultdict = defaultdict(lambda: len(test_defaultdict))\n",
    "test_defaultdict['원숭이']\n",
    "test_defaultdict['바나나']\n",
    "test_defaultdict['바나나']\n",
    "test_defaultdict['개']\n",
    "print(dict(test_defaultdict))"
   ]
  },
  {
   "cell_type": "code",
   "execution_count": 47,
   "metadata": {},
   "outputs": [],
   "source": [
    "word_ls = ['원숭이','바나나','사과','개', '고양이']\n",
    "\n",
    "def one_hot_encode(word_ls):\n",
    "    # 고유 단어와 인덱스(열 인덱스로 쓰임)를 매칭시켜주는 dict 생성 \n",
    "    word2dict_dic = defaultdict(lambda: len(word2dict_dic))\n",
    "\n",
    "    # {단어: 인덱스} 어휘 사전 구축 \n",
    "    for word in word_ls:\n",
    "        word2dict_dic[word]\n",
    "\n",
    "    n_unique_words = len(word2dict_dic) # 고유 단어 갯수 \n",
    "    one_hot_vectors = np.zeros((len(word_ls), n_unique_words), int) # 원핫벡터를 만들기 위한 비어있는 벡터 생성 (행=문서 개수, 열=고유토큰 개수)\n",
    "\n",
    "    # 해당 단어의 고유 인덱스에만 값을 1로 변경 \n",
    "    for i, word in enumerate(word_ls):\n",
    "        index = word2dict_dic[word] # 해당 단어의 고유 인덱스 \n",
    "        one_hot_vectors[i, index] = 1  # 해당 단어의 고유 인덱스에만 값을 1로 변경 (i행에 index 열에 해당하는 요소 값을 1로 변경)\n",
    "    \n",
    "    return one_hot_vectors"
   ]
  },
  {
   "cell_type": "markdown",
   "metadata": {},
   "source": [
    "- 함수 풀이 "
   ]
  },
  {
   "cell_type": "code",
   "execution_count": 48,
   "metadata": {},
   "outputs": [
    {
     "name": "stdout",
     "output_type": "stream",
     "text": [
      "[[1 0 0 0 0]\n",
      " [0 1 0 0 0]\n",
      " [0 0 1 0 0]\n",
      " [0 0 0 1 0]\n",
      " [0 0 0 0 1]]\n"
     ]
    }
   ],
   "source": [
    "# 비어있는 벡터행렬 생성하는 함수 \n",
    "# np.identity(n): 단위행렬을 생성해주는 메서드 (n: 행렬의 크기를 결정)\n",
    "# 단위행렬: 대각 요소가 모두 1인 정방행렬 \n",
    "# 정방행렬: 행과 열의 개수가 똑같은 행렬 \n",
    "\n",
    "def one_hot_encode(word_ls):\n",
    "    one_hot_vectors = np.identity(len(word_ls), dtype=int)\n",
    "    return one_hot_vectors\n",
    "\n",
    "print(one_hot_encode(word_ls))"
   ]
  },
  {
   "cell_type": "code",
   "execution_count": 6,
   "metadata": {
    "id": "EusopsqCtekn"
   },
   "outputs": [],
   "source": [
    "# 고유 단어와 인덱스를 매칭시켜주는 사전 생성\n",
    "word2id_dic = defaultdict(lambda: len(word2id_dic))"
   ]
  },
  {
   "cell_type": "code",
   "execution_count": 7,
   "metadata": {
    "id": "FfEwp_DJtVZP"
   },
   "outputs": [
    {
     "name": "stdout",
     "output_type": "stream",
     "text": [
      "{'원숭이': 0, '바나나': 1, '사과': 2, '개': 3, '고양이': 4}\n"
     ]
    }
   ],
   "source": [
    "# {단어 : 인덱스} 사전 구축\n",
    "# word_ls=말뭉치(corpus), word=문서 \n",
    "for word in word_ls:\n",
    "    word2id_dic[word] \n",
    "\n",
    "print(dict(word2id_dic)) # 어휘 사전 생성 "
   ]
  },
  {
   "cell_type": "code",
   "execution_count": 9,
   "metadata": {
    "colab": {
     "base_uri": "https://localhost:8080/"
    },
    "executionInfo": {
     "elapsed": 2,
     "status": "ok",
     "timestamp": 1725428412149,
     "user": {
      "displayName": "김지성",
      "userId": "08089280915681010656"
     },
     "user_tz": -540
    },
    "id": "MmYAqh0KtbWK",
    "outputId": "94d45a18-bec6-4a79-a79c-de95c7008801"
   },
   "outputs": [
    {
     "name": "stdout",
     "output_type": "stream",
     "text": [
      "5\n",
      "[[0. 0. 0. 0. 0.]\n",
      " [0. 0. 0. 0. 0.]\n",
      " [0. 0. 0. 0. 0.]\n",
      " [0. 0. 0. 0. 0.]\n",
      " [0. 0. 0. 0. 0.]]\n"
     ]
    }
   ],
   "source": [
    "# 고유한 단어(토큰)의 개수 \n",
    "n_unique_words = len(word2id_dic)\n",
    "\n",
    "# 원핫벡터 만들기 위해서 비어있는 벡터 생성 \n",
    "one_hot_vectors = np.zeros((len(word_ls), n_unique_words))\n",
    "print(n_unique_words)\n",
    "print(one_hot_vectors)"
   ]
  },
  {
   "cell_type": "code",
   "execution_count": 11,
   "metadata": {
    "colab": {
     "base_uri": "https://localhost:8080/"
    },
    "executionInfo": {
     "elapsed": 2,
     "status": "ok",
     "timestamp": 1725428412149,
     "user": {
      "displayName": "김지성",
      "userId": "08089280915681010656"
     },
     "user_tz": -540
    },
    "id": "EblQn1nxuGD6",
    "outputId": "9ee38b6d-5cac-4f84-b0e6-e025fd67497e"
   },
   "outputs": [
    {
     "name": "stdout",
     "output_type": "stream",
     "text": [
      "[[1. 0. 0. 0. 0.]\n",
      " [0. 1. 0. 0. 0.]\n",
      " [0. 0. 1. 0. 0.]\n",
      " [0. 0. 0. 1. 0.]\n",
      " [0. 0. 0. 0. 1.]]\n"
     ]
    }
   ],
   "source": [
    "for i, word in enumerate(word_ls):\n",
    "    index = word2id_dic[word] # 해당 단어의 고유 인덱스 (열 인덱스)\n",
    "    one_hot_vectors[i, index] = 1 # 해당 단어의 고유 인덱스에만 값을 1로 변경 \n",
    "\n",
    "print(one_hot_vectors)"
   ]
  },
  {
   "cell_type": "code",
   "execution_count": null,
   "metadata": {},
   "outputs": [],
   "source": [
    "example_corpus = ['마우스', '오리온', '연필', '커피', '핸드폰', '애플', '노트북', '알약']"
   ]
  },
  {
   "cell_type": "markdown",
   "metadata": {
    "id": "0mF5hiCg4Xor"
   },
   "source": [
    "## 1.2. sklearn 구현\n",
    "\n",
    "함수명 | 설명\n",
    "--|--\n",
    "fit(X[, y])\t| Fit OneHotEncoder to X.\n",
    "fit_transform(X[, y])\t| Fit OneHotEncoder to X, then transform X.\n",
    "inverse_transform(X)\t| Convert the back data to the original representation.\n",
    "transform(X)\t| Transform X using one-hot encoding."
   ]
  },
  {
   "cell_type": "code",
   "execution_count": null,
   "metadata": {},
   "outputs": [],
   "source": [
    "! pip install scikit-learn "
   ]
  },
  {
   "cell_type": "code",
   "execution_count": 13,
   "metadata": {
    "colab": {
     "base_uri": "https://localhost:8080/"
    },
    "executionInfo": {
     "elapsed": 1427,
     "status": "ok",
     "timestamp": 1725428413575,
     "user": {
      "displayName": "김지성",
      "userId": "08089280915681010656"
     },
     "user_tz": -540
    },
    "id": "pU0Fb3ij3ViW",
    "outputId": "f7ec09b1-0d1d-45e3-bb1e-38fe2626ff8e"
   },
   "outputs": [
    {
     "name": "stdout",
     "output_type": "stream",
     "text": [
      "<class 'numpy.ndarray'>\n",
      "['원숭이' '바나나' '사과' '개' '고양이'] (5,) 1\n"
     ]
    }
   ],
   "source": [
    "# sklearn을 활용한 one-hot encoding\n",
    "from sklearn.preprocessing import OneHotEncoder \n",
    "import pandas as pd \n",
    "\n",
    "word_ls = ['원숭이','바나나','사과','개', '고양이']\n",
    "\n",
    "# 예제 데이터 배열\n",
    "values = np.array(word_ls)\n",
    "print(type(values))\n",
    "print(values, values.shape, values.ndim)"
   ]
  },
  {
   "cell_type": "code",
   "execution_count": 15,
   "metadata": {
    "colab": {
     "base_uri": "https://localhost:8080/"
    },
    "executionInfo": {
     "elapsed": 16,
     "status": "ok",
     "timestamp": 1725428413575,
     "user": {
      "displayName": "김지성",
      "userId": "08089280915681010656"
     },
     "user_tz": -540
    },
    "id": "fjg3mkxoHrKn",
    "outputId": "3d3bd5e2-5918-4f26-cbc4-36880cf0abcb"
   },
   "outputs": [
    {
     "name": "stdout",
     "output_type": "stream",
     "text": [
      "[['원숭이']\n",
      " ['바나나']\n",
      " ['사과']\n",
      " ['개']\n",
      " ['고양이']]\n"
     ]
    }
   ],
   "source": [
    "# 1차원 리스트를 2차원으로 변환 (n, 1) 형태로\n",
    "values_reshaped = np.array(values).reshape(-1, 1)\n",
    "print(values_reshaped)\n"
   ]
  },
  {
   "cell_type": "code",
   "execution_count": 16,
   "metadata": {
    "colab": {
     "base_uri": "https://localhost:8080/"
    },
    "executionInfo": {
     "elapsed": 15,
     "status": "ok",
     "timestamp": 1725428413575,
     "user": {
      "displayName": "김지성",
      "userId": "08089280915681010656"
     },
     "user_tz": -540
    },
    "id": "d3PmHg8zEqhF",
    "outputId": "4133b9f3-fd0b-47c6-8984-f23feeeddd37"
   },
   "outputs": [
    {
     "name": "stdout",
     "output_type": "stream",
     "text": [
      "[[0. 0. 0. 0. 1.]\n",
      " [0. 0. 1. 0. 0.]\n",
      " [0. 0. 0. 1. 0.]\n",
      " [1. 0. 0. 0. 0.]\n",
      " [0. 1. 0. 0. 0.]]\n"
     ]
    }
   ],
   "source": [
    "# 원-핫 인코더 생성\n",
    "encoder = OneHotEncoder(sparse_output=False)\n",
    "one_hot_encoded = encoder.fit_transform(values_reshaped)\n",
    "print(one_hot_encoded)"
   ]
  },
  {
   "cell_type": "code",
   "execution_count": 17,
   "metadata": {
    "colab": {
     "base_uri": "https://localhost:8080/"
    },
    "executionInfo": {
     "elapsed": 19,
     "status": "ok",
     "timestamp": 1725428413580,
     "user": {
      "displayName": "김지성",
      "userId": "08089280915681010656"
     },
     "user_tz": -540
    },
    "id": "wSZxKckrst4E",
    "outputId": "1855b6d1-f33b-499c-f29d-64a81f484700"
   },
   "outputs": [
    {
     "data": {
      "text/plain": [
       "array(['x0_개', 'x0_고양이', 'x0_바나나', 'x0_사과', 'x0_원숭이'], dtype=object)"
      ]
     },
     "execution_count": 17,
     "metadata": {},
     "output_type": "execute_result"
    }
   ],
   "source": [
    "# 고유 어휘 뽑기 \n",
    "encoder.get_feature_names_out()"
   ]
  },
  {
   "cell_type": "code",
   "execution_count": 18,
   "metadata": {
    "colab": {
     "base_uri": "https://localhost:8080/",
     "height": 206
    },
    "executionInfo": {
     "elapsed": 19,
     "status": "ok",
     "timestamp": 1725428413580,
     "user": {
      "displayName": "김지성",
      "userId": "08089280915681010656"
     },
     "user_tz": -540
    },
    "id": "PlSUvp5EsRq_",
    "outputId": "aeebe295-6913-4f84-a8bf-c56452fec9bc"
   },
   "outputs": [
    {
     "data": {
      "text/html": [
       "<div>\n",
       "<style scoped>\n",
       "    .dataframe tbody tr th:only-of-type {\n",
       "        vertical-align: middle;\n",
       "    }\n",
       "\n",
       "    .dataframe tbody tr th {\n",
       "        vertical-align: top;\n",
       "    }\n",
       "\n",
       "    .dataframe thead th {\n",
       "        text-align: right;\n",
       "    }\n",
       "</style>\n",
       "<table border=\"1\" class=\"dataframe\">\n",
       "  <thead>\n",
       "    <tr style=\"text-align: right;\">\n",
       "      <th></th>\n",
       "      <th>x0_개</th>\n",
       "      <th>x0_고양이</th>\n",
       "      <th>x0_바나나</th>\n",
       "      <th>x0_사과</th>\n",
       "      <th>x0_원숭이</th>\n",
       "    </tr>\n",
       "  </thead>\n",
       "  <tbody>\n",
       "    <tr>\n",
       "      <th>원숭이</th>\n",
       "      <td>0.0</td>\n",
       "      <td>0.0</td>\n",
       "      <td>0.0</td>\n",
       "      <td>0.0</td>\n",
       "      <td>1.0</td>\n",
       "    </tr>\n",
       "    <tr>\n",
       "      <th>바나나</th>\n",
       "      <td>0.0</td>\n",
       "      <td>0.0</td>\n",
       "      <td>1.0</td>\n",
       "      <td>0.0</td>\n",
       "      <td>0.0</td>\n",
       "    </tr>\n",
       "    <tr>\n",
       "      <th>사과</th>\n",
       "      <td>0.0</td>\n",
       "      <td>0.0</td>\n",
       "      <td>0.0</td>\n",
       "      <td>1.0</td>\n",
       "      <td>0.0</td>\n",
       "    </tr>\n",
       "    <tr>\n",
       "      <th>개</th>\n",
       "      <td>1.0</td>\n",
       "      <td>0.0</td>\n",
       "      <td>0.0</td>\n",
       "      <td>0.0</td>\n",
       "      <td>0.0</td>\n",
       "    </tr>\n",
       "    <tr>\n",
       "      <th>고양이</th>\n",
       "      <td>0.0</td>\n",
       "      <td>1.0</td>\n",
       "      <td>0.0</td>\n",
       "      <td>0.0</td>\n",
       "      <td>0.0</td>\n",
       "    </tr>\n",
       "  </tbody>\n",
       "</table>\n",
       "</div>"
      ],
      "text/plain": [
       "     x0_개  x0_고양이  x0_바나나  x0_사과  x0_원숭이\n",
       "원숭이   0.0     0.0     0.0    0.0     1.0\n",
       "바나나   0.0     0.0     1.0    0.0     0.0\n",
       "사과    0.0     0.0     0.0    1.0     0.0\n",
       "개     1.0     0.0     0.0    0.0     0.0\n",
       "고양이   0.0     1.0     0.0    0.0     0.0"
      ]
     },
     "execution_count": 18,
     "metadata": {},
     "output_type": "execute_result"
    }
   ],
   "source": [
    "# 인덱스와 컬럼명 설정\n",
    "df = pd.DataFrame(one_hot_encoded, index=word_ls, columns=encoder.get_feature_names_out())\n",
    "df"
   ]
  },
  {
   "cell_type": "code",
   "execution_count": 19,
   "metadata": {
    "colab": {
     "base_uri": "https://localhost:8080/"
    },
    "executionInfo": {
     "elapsed": 18,
     "status": "ok",
     "timestamp": 1725428413580,
     "user": {
      "displayName": "김지성",
      "userId": "08089280915681010656"
     },
     "user_tz": -540
    },
    "id": "TWNMAZgWIQJv",
    "outputId": "6882c0b0-2557-46fd-dc6d-4f6c7a5c9b8e"
   },
   "outputs": [
    {
     "name": "stdout",
     "output_type": "stream",
     "text": [
      "<Compressed Sparse Row sparse matrix of dtype 'float64'\n",
      "\twith 5 stored elements and shape (5, 5)>\n",
      "  Coords\tValues\n",
      "  (0, 4)\t1.0\n",
      "  (1, 2)\t1.0\n",
      "  (2, 3)\t1.0\n",
      "  (3, 0)\t1.0\n",
      "  (4, 1)\t1.0\n"
     ]
    }
   ],
   "source": [
    "# 희소 행렬로 생성\n",
    "encoder = OneHotEncoder(sparse_output=True)\n",
    "one_hot_encoded = encoder.fit_transform(values_reshaped)\n",
    "print(one_hot_encoded)"
   ]
  },
  {
   "cell_type": "markdown",
   "metadata": {
    "id": "aZJ14npdIYQI"
   },
   "source": [
    "# 2.텍스트 데이터 실습"
   ]
  },
  {
   "cell_type": "code",
   "execution_count": 40,
   "metadata": {
    "id": "-k9I4ehTPyIp"
   },
   "outputs": [],
   "source": [
    "import pandas as pd\n",
    "import numpy as np\n",
    "import re\n",
    "from sklearn.preprocessing import OneHotEncoder\n"
   ]
  },
  {
   "cell_type": "markdown",
   "metadata": {
    "id": "V5VIwsSCIzni"
   },
   "source": [
    "## 1.텍스트 데이터 확인"
   ]
  },
  {
   "cell_type": "code",
   "execution_count": 49,
   "metadata": {
    "id": "aSklS26XPwYB"
   },
   "outputs": [],
   "source": [
    "# reviews = corpus(말뭉치)\n",
    "# 한 개의 문장 = 하나의 문서 \n",
    "\n",
    "reviews = [\n",
    "    \"The product is great\",\n",
    "    \"The product is not good\",\n",
    "    \"I love this product\",\n",
    "    \"I will buy this product again\",\n",
    "    \"The product broke after one use\",\n",
    "    \"Great product and fast delivery\",\n",
    "    \"Not satisfied with the product\",\n",
    "    \"The delivery was delayed\",\n",
    "    \"I am very happy with this purchase\",\n",
    "    \"The product is worth the price\"\n",
    "]"
   ]
  },
  {
   "cell_type": "markdown",
   "metadata": {
    "id": "1SmRgoWMI2Df"
   },
   "source": [
    "## 2.텍스트 전처리\n",
    "- 소문자 변환\n",
    "- 구두점 제거\n",
    "# re : 정규표현식을 사용하여 문자열을 처리하는 도구\n",
    "\n",
    "## ‘[ ]‘ 문자 - 문자 클래스\n",
    "  - 문자 클래스로 만들어진 정규식은 ‘[  ]’ 사이의 문자들과 매치’라는 의미를 가짐.\n",
    "    - 안에 포함된 문자열 중 하나라도 매치되면 해당 문자열이 선택 됨 \n",
    "\n",
    "  - 문자 클래스를 만드는 메타 문자인 [ ] 사이에는 어떤 문자도 들어갈 수 있다.\n",
    "\n",
    "  - 정규 표현식이 [abc]라면 이 표현식의 의미는 ‘a, b, c 중 한 개의 문자와 매치’를 뜻함. \n",
    "      - 이해를 돕기 위해 문자열 \"a\", \"before\", \"dude\"가 정규식 [abc]와 어떻게 매치되는지 살펴보자. \\\n",
    "        \"a\"는 정규식과 일치하는 문자인 \"a\"가 있으므로 매치된다. \\\n",
    "        \"before\"는 정규식과 일치하는 문자인 \"b\"가 있으므로 매치된다. \\\n",
    "        \"dude\"는 정규식과 일치하는 문자인 a, b, c 중 어느 하나도 포함하고 있지 않으므로 매치되지 않는다.\n",
    "- [] 안의 두 문자 사이에 하이픈(-)을 사용하면 두 문자 사이의 범위를 의미한다. 예를 들어 [a-c]라는 정규 표현식은 [abc]와 동일하고 [0-5]는 [012345]와 동일하다.\n",
    "\n",
    "- 다음은 하이픈(-)을 사용한 문자 클래스의 사용 예이다.\n",
    "\n",
    "      [a-zA-Z] : 모든 알파벳\n",
    "      [0-9] : 모든 숫자\n",
    "- 문자 클래스 안에 ^ 메타 문자를 사용할 경우에는 반대(not)라는 의미를 갖는다. 예를 들어 [^0-9]라는 정규 표현식은 숫자가 아닌 문자만 매치된다.\n",
    "\n",
    "## 자주 사용되는 정규표현식\n",
    "    - \\d - 숫자와 매치된다. [0-9]와 동일한 표현식.\n",
    "    - \\D - 숫자가 아닌 것과 매치된다. [^0-9]와 동일한 표현식.\n",
    "    - \\s - 화이트스페이스(whitespace) 문자와 매치된다. (스페이스, 탭, 줄바꿈과 같은 빈공간을 의미)\n",
    "    - \\S - 화이트스페이스 문자가 아닌 것과 매치된다.\n",
    "    - \\w - 문자+숫자(alphanumeric)와 매치된다. [a-zA-Z0-9_]와 동일한 표현식이다.\n",
    "    - \\W - 문자+숫자(alphanumeric)가 아닌 문자와 매치된다. [^a-zA-Z0-9_]와 동일한 표현식이다.\n",
    "\n"
   ]
  },
  {
   "cell_type": "code",
   "execution_count": 50,
   "metadata": {
    "id": "oJ3ELgwnP4Qs"
   },
   "outputs": [
    {
     "data": {
      "text/plain": [
       "['the product is great',\n",
       " 'the product is not good',\n",
       " 'i love this product',\n",
       " 'i will buy this product again',\n",
       " 'the product broke after one use',\n",
       " 'great product and fast delivery',\n",
       " 'not satisfied with the product',\n",
       " 'the delivery was delayed',\n",
       " 'i am very happy with this purchase',\n",
       " 'the product is worth the price']"
      ]
     },
     "execution_count": 50,
     "metadata": {},
     "output_type": "execute_result"
    }
   ],
   "source": [
    "# 소문자 변환 / 구두점 제거\n",
    "# 정규표현식: 단어 문자(\\w)와 공백 문자(\\s)가 아닌 문자들과 매치 됨 (즉, 알파멧, 숫자, 밑줄, 공백을 제외한 모든 문자에 해당)\n",
    "reviews = [re.sub(r'[^\\w\\s]', '', review.lower()) for review in reviews] \n",
    "reviews"
   ]
  },
  {
   "cell_type": "markdown",
   "metadata": {
    "id": "wIhU-2aGJixa"
   },
   "source": [
    "## 3.토큰화"
   ]
  },
  {
   "cell_type": "code",
   "execution_count": 51,
   "metadata": {},
   "outputs": [
    {
     "data": {
      "text/plain": [
       "['the', 'product', 'is', 'great']"
      ]
     },
     "execution_count": 51,
     "metadata": {},
     "output_type": "execute_result"
    }
   ],
   "source": [
    "reviews[0].split()"
   ]
  },
  {
   "cell_type": "code",
   "execution_count": 52,
   "metadata": {
    "colab": {
     "base_uri": "https://localhost:8080/"
    },
    "executionInfo": {
     "elapsed": 24,
     "status": "ok",
     "timestamp": 1725428413586,
     "user": {
      "displayName": "김지성",
      "userId": "08089280915681010656"
     },
     "user_tz": -540
    },
    "id": "qPcR-yewQK4-",
    "outputId": "4c9d7f0c-caa9-43f5-8e75-95997461ae9c"
   },
   "outputs": [
    {
     "name": "stdout",
     "output_type": "stream",
     "text": [
      "[['the', 'product', 'is', 'great'], ['the', 'product', 'is', 'not', 'good'], ['i', 'love', 'this', 'product'], ['i', 'will', 'buy', 'this', 'product', 'again'], ['the', 'product', 'broke', 'after', 'one', 'use'], ['great', 'product', 'and', 'fast', 'delivery'], ['not', 'satisfied', 'with', 'the', 'product'], ['the', 'delivery', 'was', 'delayed'], ['i', 'am', 'very', 'happy', 'with', 'this', 'purchase'], ['the', 'product', 'is', 'worth', 'the', 'price']]\n"
     ]
    }
   ],
   "source": [
    "# 토큰화 (간단하게 공백으로 분할)\n",
    "tokens = [review.split() for review in reviews]\n",
    "print(tokens)"
   ]
  },
  {
   "cell_type": "code",
   "execution_count": 53,
   "metadata": {
    "colab": {
     "base_uri": "https://localhost:8080/"
    },
    "executionInfo": {
     "elapsed": 23,
     "status": "ok",
     "timestamp": 1725428413586,
     "user": {
      "displayName": "김지성",
      "userId": "08089280915681010656"
     },
     "user_tz": -540
    },
    "id": "lFGUWJLkQc2B",
    "outputId": "e9ef4579-e547-4711-8509-f104fb38a8b1"
   },
   "outputs": [
    {
     "name": "stdout",
     "output_type": "stream",
     "text": [
      "['the', 'product', 'is', 'great', 'the', 'product', 'is', 'not', 'good', 'i', 'love', 'this', 'product', 'i', 'will', 'buy', 'this', 'product', 'again', 'the', 'product', 'broke', 'after', 'one', 'use', 'great', 'product', 'and', 'fast', 'delivery', 'not', 'satisfied', 'with', 'the', 'product', 'the', 'delivery', 'was', 'delayed', 'i', 'am', 'very', 'happy', 'with', 'this', 'purchase', 'the', 'product', 'is', 'worth', 'the', 'price']\n"
     ]
    }
   ],
   "source": [
    "# 리스트 평탄화\n",
    "all_tokens = sum(tokens, [])\n",
    "print(all_tokens)"
   ]
  },
  {
   "cell_type": "code",
   "execution_count": 54,
   "metadata": {},
   "outputs": [
    {
     "data": {
      "text/plain": [
       "['the',\n",
       " 'product',\n",
       " 'is',\n",
       " 'great',\n",
       " 'the',\n",
       " 'product',\n",
       " 'is',\n",
       " 'not',\n",
       " 'good',\n",
       " 'i',\n",
       " 'love',\n",
       " 'this',\n",
       " 'product',\n",
       " 'i',\n",
       " 'will',\n",
       " 'buy',\n",
       " 'this',\n",
       " 'product',\n",
       " 'again',\n",
       " 'the',\n",
       " 'product',\n",
       " 'broke',\n",
       " 'after',\n",
       " 'one',\n",
       " 'use',\n",
       " 'great',\n",
       " 'product',\n",
       " 'and',\n",
       " 'fast',\n",
       " 'delivery',\n",
       " 'not',\n",
       " 'satisfied',\n",
       " 'with',\n",
       " 'the',\n",
       " 'product',\n",
       " 'the',\n",
       " 'delivery',\n",
       " 'was',\n",
       " 'delayed',\n",
       " 'i',\n",
       " 'am',\n",
       " 'very',\n",
       " 'happy',\n",
       " 'with',\n",
       " 'this',\n",
       " 'purchase',\n",
       " 'the',\n",
       " 'product',\n",
       " 'is',\n",
       " 'worth',\n",
       " 'the',\n",
       " 'price']"
      ]
     },
     "execution_count": 54,
     "metadata": {},
     "output_type": "execute_result"
    }
   ],
   "source": [
    "[token for sublist in tokens for token in sublist]"
   ]
  },
  {
   "cell_type": "markdown",
   "metadata": {
    "id": "-XJu6N78JmrC"
   },
   "source": [
    "## 4.고유 단어 리스트 생성"
   ]
  },
  {
   "cell_type": "code",
   "execution_count": 55,
   "metadata": {
    "colab": {
     "base_uri": "https://localhost:8080/"
    },
    "executionInfo": {
     "elapsed": 23,
     "status": "ok",
     "timestamp": 1725428413586,
     "user": {
      "displayName": "김지성",
      "userId": "08089280915681010656"
     },
     "user_tz": -540
    },
    "id": "2f2iRJcRQICf",
    "outputId": "1b5e8587-2460-4b15-bb22-fdfaa40ff505"
   },
   "outputs": [
    {
     "name": "stdout",
     "output_type": "stream",
     "text": [
      "['delivery', 'price', 'this', 'satisfied', 'i', 'delayed', 'again', 'buy', 'and', 'good', 'not', 'broke', 'am', 'product', 'love', 'will', 'was', 'happy', 'is', 'the', 'fast', 'use', 'with', 'one', 'worth', 'great', 'after', 'very', 'purchase']\n"
     ]
    }
   ],
   "source": [
    "# 중복 단어 제거\n",
    "unique_words = list(set(all_tokens))\n",
    "print(unique_words) # 어휘집 (고유 토큰으로만 이루어진 어휘 사전)"
   ]
  },
  {
   "cell_type": "code",
   "execution_count": 56,
   "metadata": {},
   "outputs": [
    {
     "name": "stdout",
     "output_type": "stream",
     "text": [
      "{'delivery', 'price', 'this', 'satisfied', 'i', 'delayed', 'again', 'buy', 'and', 'good', 'not', 'broke', 'am', 'product', 'love', 'will', 'was', 'happy', 'is', 'the', 'fast', 'use', 'with', 'one', 'worth', 'great', 'after', 'very', 'purchase'}\n"
     ]
    }
   ],
   "source": [
    "print(set(all_tokens))"
   ]
  },
  {
   "cell_type": "markdown",
   "metadata": {
    "id": "WnM_fIePJwTU"
   },
   "source": [
    "## 4.One-Hot Encoding\n",
    "- categories\n",
    "    - 원핫 인코딩에서 사용할 고유 값(범주)의 목록 지정\n",
    "    - 기본적으로 입력 데이터에서 고유 값을 자동으로 감지하여 카테고리 생성하지만,\n",
    "    - categories를 명시적으로 제공하면 특정 카테고리를 직접 설정할 수 있음 \n",
    "    - 리스트를 사용하는 이유: 데이터가 다차원일 경우, 각 열마다 고유값을 지정할 수 있기 때문 \n",
    "- reshape하는 이유: 각 단어를 개별 샘플로 인식하고 원핫 인코딩을 수행할 수 있음 "
   ]
  },
  {
   "cell_type": "code",
   "execution_count": 57,
   "metadata": {
    "colab": {
     "base_uri": "https://localhost:8080/",
     "height": 162
    },
    "executionInfo": {
     "elapsed": 327,
     "status": "ok",
     "timestamp": 1725428413892,
     "user": {
      "displayName": "김지성",
      "userId": "08089280915681010656"
     },
     "user_tz": -540
    },
    "id": "5CSRuD6IQjv-",
    "outputId": "a9308f3a-5d8d-45ba-88ca-103eb1442d5a"
   },
   "outputs": [
    {
     "data": {
      "text/html": [
       "<style>#sk-container-id-2 {\n",
       "  /* Definition of color scheme common for light and dark mode */\n",
       "  --sklearn-color-text: #000;\n",
       "  --sklearn-color-text-muted: #666;\n",
       "  --sklearn-color-line: gray;\n",
       "  /* Definition of color scheme for unfitted estimators */\n",
       "  --sklearn-color-unfitted-level-0: #fff5e6;\n",
       "  --sklearn-color-unfitted-level-1: #f6e4d2;\n",
       "  --sklearn-color-unfitted-level-2: #ffe0b3;\n",
       "  --sklearn-color-unfitted-level-3: chocolate;\n",
       "  /* Definition of color scheme for fitted estimators */\n",
       "  --sklearn-color-fitted-level-0: #f0f8ff;\n",
       "  --sklearn-color-fitted-level-1: #d4ebff;\n",
       "  --sklearn-color-fitted-level-2: #b3dbfd;\n",
       "  --sklearn-color-fitted-level-3: cornflowerblue;\n",
       "\n",
       "  /* Specific color for light theme */\n",
       "  --sklearn-color-text-on-default-background: var(--sg-text-color, var(--theme-code-foreground, var(--jp-content-font-color1, black)));\n",
       "  --sklearn-color-background: var(--sg-background-color, var(--theme-background, var(--jp-layout-color0, white)));\n",
       "  --sklearn-color-border-box: var(--sg-text-color, var(--theme-code-foreground, var(--jp-content-font-color1, black)));\n",
       "  --sklearn-color-icon: #696969;\n",
       "\n",
       "  @media (prefers-color-scheme: dark) {\n",
       "    /* Redefinition of color scheme for dark theme */\n",
       "    --sklearn-color-text-on-default-background: var(--sg-text-color, var(--theme-code-foreground, var(--jp-content-font-color1, white)));\n",
       "    --sklearn-color-background: var(--sg-background-color, var(--theme-background, var(--jp-layout-color0, #111)));\n",
       "    --sklearn-color-border-box: var(--sg-text-color, var(--theme-code-foreground, var(--jp-content-font-color1, white)));\n",
       "    --sklearn-color-icon: #878787;\n",
       "  }\n",
       "}\n",
       "\n",
       "#sk-container-id-2 {\n",
       "  color: var(--sklearn-color-text);\n",
       "}\n",
       "\n",
       "#sk-container-id-2 pre {\n",
       "  padding: 0;\n",
       "}\n",
       "\n",
       "#sk-container-id-2 input.sk-hidden--visually {\n",
       "  border: 0;\n",
       "  clip: rect(1px 1px 1px 1px);\n",
       "  clip: rect(1px, 1px, 1px, 1px);\n",
       "  height: 1px;\n",
       "  margin: -1px;\n",
       "  overflow: hidden;\n",
       "  padding: 0;\n",
       "  position: absolute;\n",
       "  width: 1px;\n",
       "}\n",
       "\n",
       "#sk-container-id-2 div.sk-dashed-wrapped {\n",
       "  border: 1px dashed var(--sklearn-color-line);\n",
       "  margin: 0 0.4em 0.5em 0.4em;\n",
       "  box-sizing: border-box;\n",
       "  padding-bottom: 0.4em;\n",
       "  background-color: var(--sklearn-color-background);\n",
       "}\n",
       "\n",
       "#sk-container-id-2 div.sk-container {\n",
       "  /* jupyter's `normalize.less` sets `[hidden] { display: none; }`\n",
       "     but bootstrap.min.css set `[hidden] { display: none !important; }`\n",
       "     so we also need the `!important` here to be able to override the\n",
       "     default hidden behavior on the sphinx rendered scikit-learn.org.\n",
       "     See: https://github.com/scikit-learn/scikit-learn/issues/21755 */\n",
       "  display: inline-block !important;\n",
       "  position: relative;\n",
       "}\n",
       "\n",
       "#sk-container-id-2 div.sk-text-repr-fallback {\n",
       "  display: none;\n",
       "}\n",
       "\n",
       "div.sk-parallel-item,\n",
       "div.sk-serial,\n",
       "div.sk-item {\n",
       "  /* draw centered vertical line to link estimators */\n",
       "  background-image: linear-gradient(var(--sklearn-color-text-on-default-background), var(--sklearn-color-text-on-default-background));\n",
       "  background-size: 2px 100%;\n",
       "  background-repeat: no-repeat;\n",
       "  background-position: center center;\n",
       "}\n",
       "\n",
       "/* Parallel-specific style estimator block */\n",
       "\n",
       "#sk-container-id-2 div.sk-parallel-item::after {\n",
       "  content: \"\";\n",
       "  width: 100%;\n",
       "  border-bottom: 2px solid var(--sklearn-color-text-on-default-background);\n",
       "  flex-grow: 1;\n",
       "}\n",
       "\n",
       "#sk-container-id-2 div.sk-parallel {\n",
       "  display: flex;\n",
       "  align-items: stretch;\n",
       "  justify-content: center;\n",
       "  background-color: var(--sklearn-color-background);\n",
       "  position: relative;\n",
       "}\n",
       "\n",
       "#sk-container-id-2 div.sk-parallel-item {\n",
       "  display: flex;\n",
       "  flex-direction: column;\n",
       "}\n",
       "\n",
       "#sk-container-id-2 div.sk-parallel-item:first-child::after {\n",
       "  align-self: flex-end;\n",
       "  width: 50%;\n",
       "}\n",
       "\n",
       "#sk-container-id-2 div.sk-parallel-item:last-child::after {\n",
       "  align-self: flex-start;\n",
       "  width: 50%;\n",
       "}\n",
       "\n",
       "#sk-container-id-2 div.sk-parallel-item:only-child::after {\n",
       "  width: 0;\n",
       "}\n",
       "\n",
       "/* Serial-specific style estimator block */\n",
       "\n",
       "#sk-container-id-2 div.sk-serial {\n",
       "  display: flex;\n",
       "  flex-direction: column;\n",
       "  align-items: center;\n",
       "  background-color: var(--sklearn-color-background);\n",
       "  padding-right: 1em;\n",
       "  padding-left: 1em;\n",
       "}\n",
       "\n",
       "\n",
       "/* Toggleable style: style used for estimator/Pipeline/ColumnTransformer box that is\n",
       "clickable and can be expanded/collapsed.\n",
       "- Pipeline and ColumnTransformer use this feature and define the default style\n",
       "- Estimators will overwrite some part of the style using the `sk-estimator` class\n",
       "*/\n",
       "\n",
       "/* Pipeline and ColumnTransformer style (default) */\n",
       "\n",
       "#sk-container-id-2 div.sk-toggleable {\n",
       "  /* Default theme specific background. It is overwritten whether we have a\n",
       "  specific estimator or a Pipeline/ColumnTransformer */\n",
       "  background-color: var(--sklearn-color-background);\n",
       "}\n",
       "\n",
       "/* Toggleable label */\n",
       "#sk-container-id-2 label.sk-toggleable__label {\n",
       "  cursor: pointer;\n",
       "  display: flex;\n",
       "  width: 100%;\n",
       "  margin-bottom: 0;\n",
       "  padding: 0.5em;\n",
       "  box-sizing: border-box;\n",
       "  text-align: center;\n",
       "  align-items: start;\n",
       "  justify-content: space-between;\n",
       "  gap: 0.5em;\n",
       "}\n",
       "\n",
       "#sk-container-id-2 label.sk-toggleable__label .caption {\n",
       "  font-size: 0.6rem;\n",
       "  font-weight: lighter;\n",
       "  color: var(--sklearn-color-text-muted);\n",
       "}\n",
       "\n",
       "#sk-container-id-2 label.sk-toggleable__label-arrow:before {\n",
       "  /* Arrow on the left of the label */\n",
       "  content: \"▸\";\n",
       "  float: left;\n",
       "  margin-right: 0.25em;\n",
       "  color: var(--sklearn-color-icon);\n",
       "}\n",
       "\n",
       "#sk-container-id-2 label.sk-toggleable__label-arrow:hover:before {\n",
       "  color: var(--sklearn-color-text);\n",
       "}\n",
       "\n",
       "/* Toggleable content - dropdown */\n",
       "\n",
       "#sk-container-id-2 div.sk-toggleable__content {\n",
       "  max-height: 0;\n",
       "  max-width: 0;\n",
       "  overflow: hidden;\n",
       "  text-align: left;\n",
       "  /* unfitted */\n",
       "  background-color: var(--sklearn-color-unfitted-level-0);\n",
       "}\n",
       "\n",
       "#sk-container-id-2 div.sk-toggleable__content.fitted {\n",
       "  /* fitted */\n",
       "  background-color: var(--sklearn-color-fitted-level-0);\n",
       "}\n",
       "\n",
       "#sk-container-id-2 div.sk-toggleable__content pre {\n",
       "  margin: 0.2em;\n",
       "  border-radius: 0.25em;\n",
       "  color: var(--sklearn-color-text);\n",
       "  /* unfitted */\n",
       "  background-color: var(--sklearn-color-unfitted-level-0);\n",
       "}\n",
       "\n",
       "#sk-container-id-2 div.sk-toggleable__content.fitted pre {\n",
       "  /* unfitted */\n",
       "  background-color: var(--sklearn-color-fitted-level-0);\n",
       "}\n",
       "\n",
       "#sk-container-id-2 input.sk-toggleable__control:checked~div.sk-toggleable__content {\n",
       "  /* Expand drop-down */\n",
       "  max-height: 200px;\n",
       "  max-width: 100%;\n",
       "  overflow: auto;\n",
       "}\n",
       "\n",
       "#sk-container-id-2 input.sk-toggleable__control:checked~label.sk-toggleable__label-arrow:before {\n",
       "  content: \"▾\";\n",
       "}\n",
       "\n",
       "/* Pipeline/ColumnTransformer-specific style */\n",
       "\n",
       "#sk-container-id-2 div.sk-label input.sk-toggleable__control:checked~label.sk-toggleable__label {\n",
       "  color: var(--sklearn-color-text);\n",
       "  background-color: var(--sklearn-color-unfitted-level-2);\n",
       "}\n",
       "\n",
       "#sk-container-id-2 div.sk-label.fitted input.sk-toggleable__control:checked~label.sk-toggleable__label {\n",
       "  background-color: var(--sklearn-color-fitted-level-2);\n",
       "}\n",
       "\n",
       "/* Estimator-specific style */\n",
       "\n",
       "/* Colorize estimator box */\n",
       "#sk-container-id-2 div.sk-estimator input.sk-toggleable__control:checked~label.sk-toggleable__label {\n",
       "  /* unfitted */\n",
       "  background-color: var(--sklearn-color-unfitted-level-2);\n",
       "}\n",
       "\n",
       "#sk-container-id-2 div.sk-estimator.fitted input.sk-toggleable__control:checked~label.sk-toggleable__label {\n",
       "  /* fitted */\n",
       "  background-color: var(--sklearn-color-fitted-level-2);\n",
       "}\n",
       "\n",
       "#sk-container-id-2 div.sk-label label.sk-toggleable__label,\n",
       "#sk-container-id-2 div.sk-label label {\n",
       "  /* The background is the default theme color */\n",
       "  color: var(--sklearn-color-text-on-default-background);\n",
       "}\n",
       "\n",
       "/* On hover, darken the color of the background */\n",
       "#sk-container-id-2 div.sk-label:hover label.sk-toggleable__label {\n",
       "  color: var(--sklearn-color-text);\n",
       "  background-color: var(--sklearn-color-unfitted-level-2);\n",
       "}\n",
       "\n",
       "/* Label box, darken color on hover, fitted */\n",
       "#sk-container-id-2 div.sk-label.fitted:hover label.sk-toggleable__label.fitted {\n",
       "  color: var(--sklearn-color-text);\n",
       "  background-color: var(--sklearn-color-fitted-level-2);\n",
       "}\n",
       "\n",
       "/* Estimator label */\n",
       "\n",
       "#sk-container-id-2 div.sk-label label {\n",
       "  font-family: monospace;\n",
       "  font-weight: bold;\n",
       "  display: inline-block;\n",
       "  line-height: 1.2em;\n",
       "}\n",
       "\n",
       "#sk-container-id-2 div.sk-label-container {\n",
       "  text-align: center;\n",
       "}\n",
       "\n",
       "/* Estimator-specific */\n",
       "#sk-container-id-2 div.sk-estimator {\n",
       "  font-family: monospace;\n",
       "  border: 1px dotted var(--sklearn-color-border-box);\n",
       "  border-radius: 0.25em;\n",
       "  box-sizing: border-box;\n",
       "  margin-bottom: 0.5em;\n",
       "  /* unfitted */\n",
       "  background-color: var(--sklearn-color-unfitted-level-0);\n",
       "}\n",
       "\n",
       "#sk-container-id-2 div.sk-estimator.fitted {\n",
       "  /* fitted */\n",
       "  background-color: var(--sklearn-color-fitted-level-0);\n",
       "}\n",
       "\n",
       "/* on hover */\n",
       "#sk-container-id-2 div.sk-estimator:hover {\n",
       "  /* unfitted */\n",
       "  background-color: var(--sklearn-color-unfitted-level-2);\n",
       "}\n",
       "\n",
       "#sk-container-id-2 div.sk-estimator.fitted:hover {\n",
       "  /* fitted */\n",
       "  background-color: var(--sklearn-color-fitted-level-2);\n",
       "}\n",
       "\n",
       "/* Specification for estimator info (e.g. \"i\" and \"?\") */\n",
       "\n",
       "/* Common style for \"i\" and \"?\" */\n",
       "\n",
       ".sk-estimator-doc-link,\n",
       "a:link.sk-estimator-doc-link,\n",
       "a:visited.sk-estimator-doc-link {\n",
       "  float: right;\n",
       "  font-size: smaller;\n",
       "  line-height: 1em;\n",
       "  font-family: monospace;\n",
       "  background-color: var(--sklearn-color-background);\n",
       "  border-radius: 1em;\n",
       "  height: 1em;\n",
       "  width: 1em;\n",
       "  text-decoration: none !important;\n",
       "  margin-left: 0.5em;\n",
       "  text-align: center;\n",
       "  /* unfitted */\n",
       "  border: var(--sklearn-color-unfitted-level-1) 1pt solid;\n",
       "  color: var(--sklearn-color-unfitted-level-1);\n",
       "}\n",
       "\n",
       ".sk-estimator-doc-link.fitted,\n",
       "a:link.sk-estimator-doc-link.fitted,\n",
       "a:visited.sk-estimator-doc-link.fitted {\n",
       "  /* fitted */\n",
       "  border: var(--sklearn-color-fitted-level-1) 1pt solid;\n",
       "  color: var(--sklearn-color-fitted-level-1);\n",
       "}\n",
       "\n",
       "/* On hover */\n",
       "div.sk-estimator:hover .sk-estimator-doc-link:hover,\n",
       ".sk-estimator-doc-link:hover,\n",
       "div.sk-label-container:hover .sk-estimator-doc-link:hover,\n",
       ".sk-estimator-doc-link:hover {\n",
       "  /* unfitted */\n",
       "  background-color: var(--sklearn-color-unfitted-level-3);\n",
       "  color: var(--sklearn-color-background);\n",
       "  text-decoration: none;\n",
       "}\n",
       "\n",
       "div.sk-estimator.fitted:hover .sk-estimator-doc-link.fitted:hover,\n",
       ".sk-estimator-doc-link.fitted:hover,\n",
       "div.sk-label-container:hover .sk-estimator-doc-link.fitted:hover,\n",
       ".sk-estimator-doc-link.fitted:hover {\n",
       "  /* fitted */\n",
       "  background-color: var(--sklearn-color-fitted-level-3);\n",
       "  color: var(--sklearn-color-background);\n",
       "  text-decoration: none;\n",
       "}\n",
       "\n",
       "/* Span, style for the box shown on hovering the info icon */\n",
       ".sk-estimator-doc-link span {\n",
       "  display: none;\n",
       "  z-index: 9999;\n",
       "  position: relative;\n",
       "  font-weight: normal;\n",
       "  right: .2ex;\n",
       "  padding: .5ex;\n",
       "  margin: .5ex;\n",
       "  width: min-content;\n",
       "  min-width: 20ex;\n",
       "  max-width: 50ex;\n",
       "  color: var(--sklearn-color-text);\n",
       "  box-shadow: 2pt 2pt 4pt #999;\n",
       "  /* unfitted */\n",
       "  background: var(--sklearn-color-unfitted-level-0);\n",
       "  border: .5pt solid var(--sklearn-color-unfitted-level-3);\n",
       "}\n",
       "\n",
       ".sk-estimator-doc-link.fitted span {\n",
       "  /* fitted */\n",
       "  background: var(--sklearn-color-fitted-level-0);\n",
       "  border: var(--sklearn-color-fitted-level-3);\n",
       "}\n",
       "\n",
       ".sk-estimator-doc-link:hover span {\n",
       "  display: block;\n",
       "}\n",
       "\n",
       "/* \"?\"-specific style due to the `<a>` HTML tag */\n",
       "\n",
       "#sk-container-id-2 a.estimator_doc_link {\n",
       "  float: right;\n",
       "  font-size: 1rem;\n",
       "  line-height: 1em;\n",
       "  font-family: monospace;\n",
       "  background-color: var(--sklearn-color-background);\n",
       "  border-radius: 1rem;\n",
       "  height: 1rem;\n",
       "  width: 1rem;\n",
       "  text-decoration: none;\n",
       "  /* unfitted */\n",
       "  color: var(--sklearn-color-unfitted-level-1);\n",
       "  border: var(--sklearn-color-unfitted-level-1) 1pt solid;\n",
       "}\n",
       "\n",
       "#sk-container-id-2 a.estimator_doc_link.fitted {\n",
       "  /* fitted */\n",
       "  border: var(--sklearn-color-fitted-level-1) 1pt solid;\n",
       "  color: var(--sklearn-color-fitted-level-1);\n",
       "}\n",
       "\n",
       "/* On hover */\n",
       "#sk-container-id-2 a.estimator_doc_link:hover {\n",
       "  /* unfitted */\n",
       "  background-color: var(--sklearn-color-unfitted-level-3);\n",
       "  color: var(--sklearn-color-background);\n",
       "  text-decoration: none;\n",
       "}\n",
       "\n",
       "#sk-container-id-2 a.estimator_doc_link.fitted:hover {\n",
       "  /* fitted */\n",
       "  background-color: var(--sklearn-color-fitted-level-3);\n",
       "}\n",
       "</style><div id=\"sk-container-id-2\" class=\"sk-top-container\"><div class=\"sk-text-repr-fallback\"><pre>OneHotEncoder(categories=[[&#x27;delivery&#x27;, &#x27;price&#x27;, &#x27;this&#x27;, &#x27;satisfied&#x27;, &#x27;i&#x27;,\n",
       "                           &#x27;delayed&#x27;, &#x27;again&#x27;, &#x27;buy&#x27;, &#x27;and&#x27;, &#x27;good&#x27;, &#x27;not&#x27;,\n",
       "                           &#x27;broke&#x27;, &#x27;am&#x27;, &#x27;product&#x27;, &#x27;love&#x27;, &#x27;will&#x27;, &#x27;was&#x27;,\n",
       "                           &#x27;happy&#x27;, &#x27;is&#x27;, &#x27;the&#x27;, &#x27;fast&#x27;, &#x27;use&#x27;, &#x27;with&#x27;, &#x27;one&#x27;,\n",
       "                           &#x27;worth&#x27;, &#x27;great&#x27;, &#x27;after&#x27;, &#x27;very&#x27;, &#x27;purchase&#x27;]],\n",
       "              sparse_output=False)</pre><b>In a Jupyter environment, please rerun this cell to show the HTML representation or trust the notebook. <br />On GitHub, the HTML representation is unable to render, please try loading this page with nbviewer.org.</b></div><div class=\"sk-container\" hidden><div class=\"sk-item\"><div class=\"sk-estimator fitted sk-toggleable\"><input class=\"sk-toggleable__control sk-hidden--visually\" id=\"sk-estimator-id-2\" type=\"checkbox\" checked><label for=\"sk-estimator-id-2\" class=\"sk-toggleable__label fitted sk-toggleable__label-arrow\"><div><div>OneHotEncoder</div></div><div><a class=\"sk-estimator-doc-link fitted\" rel=\"noreferrer\" target=\"_blank\" href=\"https://scikit-learn.org/1.6/modules/generated/sklearn.preprocessing.OneHotEncoder.html\">?<span>Documentation for OneHotEncoder</span></a><span class=\"sk-estimator-doc-link fitted\">i<span>Fitted</span></span></div></label><div class=\"sk-toggleable__content fitted\"><pre>OneHotEncoder(categories=[[&#x27;delivery&#x27;, &#x27;price&#x27;, &#x27;this&#x27;, &#x27;satisfied&#x27;, &#x27;i&#x27;,\n",
       "                           &#x27;delayed&#x27;, &#x27;again&#x27;, &#x27;buy&#x27;, &#x27;and&#x27;, &#x27;good&#x27;, &#x27;not&#x27;,\n",
       "                           &#x27;broke&#x27;, &#x27;am&#x27;, &#x27;product&#x27;, &#x27;love&#x27;, &#x27;will&#x27;, &#x27;was&#x27;,\n",
       "                           &#x27;happy&#x27;, &#x27;is&#x27;, &#x27;the&#x27;, &#x27;fast&#x27;, &#x27;use&#x27;, &#x27;with&#x27;, &#x27;one&#x27;,\n",
       "                           &#x27;worth&#x27;, &#x27;great&#x27;, &#x27;after&#x27;, &#x27;very&#x27;, &#x27;purchase&#x27;]],\n",
       "              sparse_output=False)</pre></div> </div></div></div></div>"
      ],
      "text/plain": [
       "OneHotEncoder(categories=[['delivery', 'price', 'this', 'satisfied', 'i',\n",
       "                           'delayed', 'again', 'buy', 'and', 'good', 'not',\n",
       "                           'broke', 'am', 'product', 'love', 'will', 'was',\n",
       "                           'happy', 'is', 'the', 'fast', 'use', 'with', 'one',\n",
       "                           'worth', 'great', 'after', 'very', 'purchase']],\n",
       "              sparse_output=False)"
      ]
     },
     "execution_count": 57,
     "metadata": {},
     "output_type": "execute_result"
    }
   ],
   "source": [
    "# 원핫 인코더 실행\n",
    "one_hot_encoder = OneHotEncoder(categories=[unique_words], sparse_output=False)\n",
    "one_hot_encoder.fit(np.array(unique_words).reshape(-1, 1))"
   ]
  },
  {
   "cell_type": "code",
   "execution_count": 58,
   "metadata": {},
   "outputs": [
    {
     "data": {
      "text/plain": [
       "['the', 'product', 'is', 'great']"
      ]
     },
     "execution_count": 58,
     "metadata": {},
     "output_type": "execute_result"
    }
   ],
   "source": [
    "tokens[0]"
   ]
  },
  {
   "cell_type": "code",
   "execution_count": 59,
   "metadata": {
    "colab": {
     "base_uri": "https://localhost:8080/"
    },
    "executionInfo": {
     "elapsed": 5,
     "status": "ok",
     "timestamp": 1725428413892,
     "user": {
      "displayName": "김지성",
      "userId": "08089280915681010656"
     },
     "user_tz": -540
    },
    "id": "n8yunBRERxwm",
    "outputId": "7438e341-98da-4fa3-a34b-a24acdc044ec"
   },
   "outputs": [
    {
     "data": {
      "text/plain": [
       "array([[0., 0., 0., 0., 0., 0., 0., 0., 0., 0., 0., 0., 0., 0., 0., 0.,\n",
       "        0., 0., 0., 1., 0., 0., 0., 0., 0., 0., 0., 0., 0.],\n",
       "       [0., 0., 0., 0., 0., 0., 0., 0., 0., 0., 0., 0., 0., 1., 0., 0.,\n",
       "        0., 0., 0., 0., 0., 0., 0., 0., 0., 0., 0., 0., 0.],\n",
       "       [0., 0., 0., 0., 0., 0., 0., 0., 0., 0., 0., 0., 0., 0., 0., 0.,\n",
       "        0., 0., 1., 0., 0., 0., 0., 0., 0., 0., 0., 0., 0.],\n",
       "       [0., 0., 0., 0., 0., 0., 0., 0., 0., 0., 0., 0., 0., 0., 0., 0.,\n",
       "        0., 0., 0., 0., 0., 0., 0., 0., 0., 1., 0., 0., 0.]])"
      ]
     },
     "execution_count": 59,
     "metadata": {},
     "output_type": "execute_result"
    }
   ],
   "source": [
    "# toeken[0] 리뷰에 대해 원핫 인코딩 실행 \n",
    "# reshape\n",
    "one_hot_encoder.transform(np.array(tokens[0]).reshape(-1, 1)) # 하나의 문서에 대한 원핫벡터 반환 "
   ]
  },
  {
   "cell_type": "code",
   "execution_count": 60,
   "metadata": {},
   "outputs": [
    {
     "data": {
      "text/plain": [
       "(4, 29)"
      ]
     },
     "execution_count": 60,
     "metadata": {},
     "output_type": "execute_result"
    }
   ],
   "source": [
    "test = one_hot_encoder.transform(np.array(tokens[0]).reshape(-1, 1)) \n",
    "test.shape # 4=첫 번째 문장의(문서의)토큰 개수, 29=어휘집의 고유 토큰 개수 "
   ]
  },
  {
   "cell_type": "markdown",
   "metadata": {
    "id": "B7SmnoUQkZYK"
   },
   "source": [
    "- sum(axis=) : axis에 명시된 차원으로 값을 더함"
   ]
  },
  {
   "cell_type": "code",
   "execution_count": 61,
   "metadata": {
    "colab": {
     "base_uri": "https://localhost:8080/"
    },
    "executionInfo": {
     "elapsed": 4,
     "status": "ok",
     "timestamp": 1725428413892,
     "user": {
      "displayName": "김지성",
      "userId": "08089280915681010656"
     },
     "user_tz": -540
    },
    "id": "BHGaEDuYkXvt",
    "outputId": "b0bf5bbb-9c14-474e-fa57-62e6a9647221"
   },
   "outputs": [
    {
     "name": "stdout",
     "output_type": "stream",
     "text": [
      "3차원 배열:\n",
      "[[[ 1  2  3  4]\n",
      "  [ 5  6  7  8]\n",
      "  [ 9 10 11 12]]\n",
      "\n",
      " [[13 14 15 16]\n",
      "  [17 18 19 20]\n",
      "  [21 22 23 24]]]\n",
      "\n",
      "axis=0을 기준으로 합계:\n",
      "[[14 16 18 20]\n",
      " [22 24 26 28]\n",
      " [30 32 34 36]]\n",
      "\n",
      "axis=1을 기준으로 합계:\n",
      "[[15 18 21 24]\n",
      " [51 54 57 60]]\n",
      "\n",
      "axis=2을 기준으로 합계:\n",
      "[[10 26 42]\n",
      " [58 74 90]]\n"
     ]
    }
   ],
   "source": [
    "# 3차원 배열 생성 (shape = (2, 3, 4))\n",
    "array_3d = np.array([\n",
    "    [[1, 2, 3, 4],\n",
    "     [5, 6, 7, 8],\n",
    "     [9, 10, 11, 12]],\n",
    "\n",
    "    [[13, 14, 15, 16],\n",
    "     [17, 18, 19, 20],\n",
    "     [21, 22, 23, 24]]\n",
    "])\n",
    "\n",
    "print(\"3차원 배열:\")\n",
    "print(array_3d)\n",
    "\n",
    "# axis=0을 기준으로 합계\n",
    "sum_axis_0 = array_3d.sum(axis=0)\n",
    "sum_axis_1 = array_3d.sum(axis=1)\n",
    "sum_axis_2 = array_3d.sum(axis=2)\n",
    "print(\"\\naxis=0을 기준으로 합계:\")\n",
    "print(sum_axis_0)\n",
    "print(\"\\naxis=1을 기준으로 합계:\")\n",
    "print(sum_axis_1)\n",
    "print(\"\\naxis=2을 기준으로 합계:\") # 가장 안쪽 축(깊이)\"**을 따라 계산\n",
    "print(sum_axis_2)\n"
   ]
  },
  {
   "cell_type": "code",
   "execution_count": 62,
   "metadata": {
    "colab": {
     "base_uri": "https://localhost:8080/"
    },
    "executionInfo": {
     "elapsed": 4,
     "status": "ok",
     "timestamp": 1725428413892,
     "user": {
      "displayName": "김지성",
      "userId": "08089280915681010656"
     },
     "user_tz": -540
    },
    "id": "R6wKXHY_RzAW",
    "outputId": "93dc080b-810b-49d5-fc00-2db446298e0b"
   },
   "outputs": [
    {
     "data": {
      "text/plain": [
       "array([0., 0., 0., 0., 0., 0., 0., 0., 0., 0., 0., 0., 0., 1., 0., 0., 0.,\n",
       "       0., 1., 1., 0., 0., 0., 0., 0., 1., 0., 0., 0.])"
      ]
     },
     "execution_count": 62,
     "metadata": {},
     "output_type": "execute_result"
    }
   ],
   "source": [
    "# sum(axis=0)\n",
    "one_hot_encoder.transform(np.array(tokens[0]).reshape(-1, 1)).sum(axis=0) # 하나의 행이 하나의 문서를 표현하도록 함 "
   ]
  },
  {
   "cell_type": "code",
   "execution_count": 64,
   "metadata": {},
   "outputs": [
    {
     "data": {
      "text/plain": [
       "array([[0., 0., 0., 0., 0., 0., 0., 0., 0., 0., 0., 0., 0., 0., 0., 0.,\n",
       "        0., 0., 0., 1., 0., 0., 0., 0., 0., 0., 0., 0., 0.],\n",
       "       [0., 0., 0., 0., 0., 0., 0., 0., 0., 0., 0., 0., 0., 1., 0., 0.,\n",
       "        0., 0., 0., 0., 0., 0., 0., 0., 0., 0., 0., 0., 0.],\n",
       "       [0., 0., 0., 0., 0., 0., 0., 0., 0., 0., 0., 0., 0., 0., 0., 0.,\n",
       "        0., 0., 1., 0., 0., 0., 0., 0., 0., 0., 0., 0., 0.],\n",
       "       [0., 0., 0., 0., 0., 0., 0., 0., 0., 0., 0., 0., 0., 0., 0., 0.,\n",
       "        0., 0., 0., 0., 0., 0., 0., 0., 1., 0., 0., 0., 0.],\n",
       "       [0., 0., 0., 0., 0., 0., 0., 0., 0., 0., 0., 0., 0., 0., 0., 0.,\n",
       "        0., 0., 0., 1., 0., 0., 0., 0., 0., 0., 0., 0., 0.],\n",
       "       [0., 1., 0., 0., 0., 0., 0., 0., 0., 0., 0., 0., 0., 0., 0., 0.,\n",
       "        0., 0., 0., 0., 0., 0., 0., 0., 0., 0., 0., 0., 0.]])"
      ]
     },
     "execution_count": 64,
     "metadata": {},
     "output_type": "execute_result"
    }
   ],
   "source": [
    "# 예제 \n",
    "\"The product is worth the price\"\n",
    "one_hot_encoder.transform(np.array(tokens[-1]).reshape(-1, 1))"
   ]
  },
  {
   "cell_type": "code",
   "execution_count": 65,
   "metadata": {
    "colab": {
     "base_uri": "https://localhost:8080/"
    },
    "executionInfo": {
     "elapsed": 4,
     "status": "ok",
     "timestamp": 1725428413892,
     "user": {
      "displayName": "김지성",
      "userId": "08089280915681010656"
     },
     "user_tz": -540
    },
    "id": "T8RNoWREQvRE",
    "outputId": "86968abf-a853-4f09-f70a-ebd2d387779a"
   },
   "outputs": [
    {
     "name": "stdout",
     "output_type": "stream",
     "text": [
      "[array([0., 0., 0., 0., 0., 0., 0., 0., 0., 0., 0., 0., 0., 1., 0., 0., 0.,\n",
      "       0., 1., 1., 0., 0., 0., 0., 0., 1., 0., 0., 0.]), array([0., 0., 0., 0., 0., 0., 0., 0., 0., 1., 1., 0., 0., 1., 0., 0., 0.,\n",
      "       0., 1., 1., 0., 0., 0., 0., 0., 0., 0., 0., 0.]), array([0., 0., 1., 0., 1., 0., 0., 0., 0., 0., 0., 0., 0., 1., 1., 0., 0.,\n",
      "       0., 0., 0., 0., 0., 0., 0., 0., 0., 0., 0., 0.]), array([0., 0., 1., 0., 1., 0., 1., 1., 0., 0., 0., 0., 0., 1., 0., 1., 0.,\n",
      "       0., 0., 0., 0., 0., 0., 0., 0., 0., 0., 0., 0.]), array([0., 0., 0., 0., 0., 0., 0., 0., 0., 0., 0., 1., 0., 1., 0., 0., 0.,\n",
      "       0., 0., 1., 0., 1., 0., 1., 0., 0., 1., 0., 0.]), array([1., 0., 0., 0., 0., 0., 0., 0., 1., 0., 0., 0., 0., 1., 0., 0., 0.,\n",
      "       0., 0., 0., 1., 0., 0., 0., 0., 1., 0., 0., 0.]), array([0., 0., 0., 1., 0., 0., 0., 0., 0., 0., 1., 0., 0., 1., 0., 0., 0.,\n",
      "       0., 0., 1., 0., 0., 1., 0., 0., 0., 0., 0., 0.]), array([1., 0., 0., 0., 0., 1., 0., 0., 0., 0., 0., 0., 0., 0., 0., 0., 1.,\n",
      "       0., 0., 1., 0., 0., 0., 0., 0., 0., 0., 0., 0.]), array([0., 0., 1., 0., 1., 0., 0., 0., 0., 0., 0., 0., 1., 0., 0., 0., 0.,\n",
      "       1., 0., 0., 0., 0., 1., 0., 0., 0., 0., 1., 1.]), array([0., 1., 0., 0., 0., 0., 0., 0., 0., 0., 0., 0., 0., 1., 0., 0., 0.,\n",
      "       0., 1., 2., 0., 0., 0., 0., 1., 0., 0., 0., 0.])]\n"
     ]
    }
   ],
   "source": [
    "# 각 리뷰에 대해 원핫 인코딩 수행\n",
    "one_hot_encoded_reviews = [one_hot_encoder.transform(np.array(review).reshape(-1, 1)).sum(axis=0) for review in tokens]\n",
    "print(one_hot_encoded_reviews)"
   ]
  },
  {
   "cell_type": "code",
   "execution_count": 66,
   "metadata": {
    "colab": {
     "base_uri": "https://localhost:8080/"
    },
    "executionInfo": {
     "elapsed": 3,
     "status": "ok",
     "timestamp": 1725428413892,
     "user": {
      "displayName": "김지성",
      "userId": "08089280915681010656"
     },
     "user_tz": -540
    },
    "id": "CVYNyFddSHNQ",
    "outputId": "b60e4001-9898-4d4f-938c-cb9cc2d1c20f"
   },
   "outputs": [
    {
     "name": "stdout",
     "output_type": "stream",
     "text": [
      "<class 'numpy.ndarray'>\n",
      "[[0. 0. 0. 0. 0. 0. 0. 0. 0. 0. 0. 0. 0. 1. 0. 0. 0. 0. 1. 1. 0. 0. 0. 0.\n",
      "  0. 1. 0. 0. 0.]\n",
      " [0. 0. 0. 0. 0. 0. 0. 0. 0. 1. 1. 0. 0. 1. 0. 0. 0. 0. 1. 1. 0. 0. 0. 0.\n",
      "  0. 0. 0. 0. 0.]\n",
      " [0. 0. 1. 0. 1. 0. 0. 0. 0. 0. 0. 0. 0. 1. 1. 0. 0. 0. 0. 0. 0. 0. 0. 0.\n",
      "  0. 0. 0. 0. 0.]\n",
      " [0. 0. 1. 0. 1. 0. 1. 1. 0. 0. 0. 0. 0. 1. 0. 1. 0. 0. 0. 0. 0. 0. 0. 0.\n",
      "  0. 0. 0. 0. 0.]\n",
      " [0. 0. 0. 0. 0. 0. 0. 0. 0. 0. 0. 1. 0. 1. 0. 0. 0. 0. 0. 1. 0. 1. 0. 1.\n",
      "  0. 0. 1. 0. 0.]\n",
      " [1. 0. 0. 0. 0. 0. 0. 0. 1. 0. 0. 0. 0. 1. 0. 0. 0. 0. 0. 0. 1. 0. 0. 0.\n",
      "  0. 1. 0. 0. 0.]\n",
      " [0. 0. 0. 1. 0. 0. 0. 0. 0. 0. 1. 0. 0. 1. 0. 0. 0. 0. 0. 1. 0. 0. 1. 0.\n",
      "  0. 0. 0. 0. 0.]\n",
      " [1. 0. 0. 0. 0. 1. 0. 0. 0. 0. 0. 0. 0. 0. 0. 0. 1. 0. 0. 1. 0. 0. 0. 0.\n",
      "  0. 0. 0. 0. 0.]\n",
      " [0. 0. 1. 0. 1. 0. 0. 0. 0. 0. 0. 0. 1. 0. 0. 0. 0. 1. 0. 0. 0. 0. 1. 0.\n",
      "  0. 0. 0. 1. 1.]\n",
      " [0. 1. 0. 0. 0. 0. 0. 0. 0. 0. 0. 0. 0. 1. 0. 0. 0. 0. 1. 1. 0. 0. 0. 0.\n",
      "  1. 0. 0. 0. 0.]]\n"
     ]
    }
   ],
   "source": [
    "# 원핫 인코딩은 각 단어가 등장하면 1로 표시해야 하므로, 1보다 큰 값을 1로 수정\n",
    "# (마지막 리뷰는 the가 두 개 있어서 원소에 2가 들어가있음  -> 1로 바꿔줘야 함)\n",
    "# clip(a, a_min, a_max)는 배열 a의 값을 지정된 범위 [a_min, a_max]로 자르는(clipping) 함수\n",
    "# a_min: 최소값. 배열의 값이 이보다 작으면 a_min으로 변경 됨 \n",
    "# a_max: 최대값. 배열의 값이 이보다 크면 a_max로 변경됨 \n",
    "one_hot_encoded_reviews = np.clip(one_hot_encoded_reviews, 0, 1)\n",
    "print(type(one_hot_encoded_reviews))\n",
    "print(one_hot_encoded_reviews)"
   ]
  },
  {
   "cell_type": "code",
   "execution_count": 68,
   "metadata": {
    "colab": {
     "base_uri": "https://localhost:8080/"
    },
    "executionInfo": {
     "elapsed": 3,
     "status": "ok",
     "timestamp": 1725428413892,
     "user": {
      "displayName": "김지성",
      "userId": "08089280915681010656"
     },
     "user_tz": -540
    },
    "id": "PiNAM41oQ3k_",
    "outputId": "c6821549-4569-47c4-b56a-4b04a89e528d"
   },
   "outputs": [
    {
     "name": "stdout",
     "output_type": "stream",
     "text": [
      "   delivery  price  this  satisfied  i  ...  worth  great  after  very  purchase\n",
      "0         0      0     0          0  0  ...      0      1      0     0         0\n",
      "1         0      0     0          0  0  ...      0      0      0     0         0\n",
      "2         0      0     1          0  1  ...      0      0      0     0         0\n",
      "3         0      0     1          0  1  ...      0      0      0     0         0\n",
      "4         0      0     0          0  0  ...      0      0      1     0         0\n",
      "5         1      0     0          0  0  ...      0      1      0     0         0\n",
      "6         0      0     0          1  0  ...      0      0      0     0         0\n",
      "7         1      0     0          0  0  ...      0      0      0     0         0\n",
      "8         0      0     1          0  1  ...      0      0      0     1         1\n",
      "9         0      1     0          0  0  ...      1      0      0     0         0\n",
      "\n",
      "[10 rows x 29 columns]\n"
     ]
    }
   ],
   "source": [
    "# 4. 데이터프레임 생성 및 정수형으로 변환\n",
    "df_one_hot = pd.DataFrame(one_hot_encoded_reviews, columns=unique_words).astype(int)\n",
    "\n",
    "# 출력\n",
    "print(df_one_hot)"
   ]
  },
  {
   "cell_type": "code",
   "execution_count": 69,
   "metadata": {
    "colab": {
     "base_uri": "https://localhost:8080/"
    },
    "executionInfo": {
     "elapsed": 2,
     "status": "ok",
     "timestamp": 1725428413892,
     "user": {
      "displayName": "김지성",
      "userId": "08089280915681010656"
     },
     "user_tz": -540
    },
    "id": "PwxbvRWoS2zJ",
    "outputId": "8249d6c5-a8af-4130-ccab-0740ac792bb3"
   },
   "outputs": [
    {
     "name": "stdout",
     "output_type": "stream",
     "text": [
      "delivery     0\n",
      "price        0\n",
      "this         0\n",
      "satisfied    0\n",
      "i            0\n",
      "delayed      0\n",
      "again        0\n",
      "buy          0\n",
      "and          0\n",
      "good         0\n",
      "not          0\n",
      "broke        0\n",
      "am           0\n",
      "product      1\n",
      "love         0\n",
      "will         0\n",
      "was          0\n",
      "happy        0\n",
      "is           1\n",
      "the          1\n",
      "fast         0\n",
      "use          0\n",
      "with         0\n",
      "one          0\n",
      "worth        0\n",
      "great        1\n",
      "after        0\n",
      "very         0\n",
      "purchase     0\n",
      "Name: 0, dtype: int64\n"
     ]
    }
   ],
   "source": [
    "# 6. 0번째 문장과 데이터프레임의 0번째 행 비교\n",
    "first_review_tokens = tokens[0] # 0번째 문자의 토큰들 \n",
    "first_review_encoding = df_one_hot.iloc[0]\n",
    "\n",
    "print(first_review_encoding)"
   ]
  },
  {
   "cell_type": "code",
   "execution_count": 70,
   "metadata": {
    "colab": {
     "base_uri": "https://localhost:8080/"
    },
    "executionInfo": {
     "elapsed": 2,
     "status": "ok",
     "timestamp": 1725428413892,
     "user": {
      "displayName": "김지성",
      "userId": "08089280915681010656"
     },
     "user_tz": -540
    },
    "id": "Xm_RtxSJ23Sp",
    "outputId": "354fa44f-8add-4ce5-aa41-e150b1a5c435"
   },
   "outputs": [
    {
     "name": "stdout",
     "output_type": "stream",
     "text": [
      "\n",
      "Tokens in the first review:\n",
      "['the', 'product', 'is', 'great']\n",
      "\n",
      "Encoded words in the first review from DataFrame:\n",
      "['product', 'is', 'the', 'great']\n"
     ]
    }
   ],
   "source": [
    "# 실제 0번째 문장에 있는 단어들 출력\n",
    "print(\"\\nTokens in the first review:\")\n",
    "print(first_review_tokens)\n",
    "\n",
    "# 데이터프레임에서 0번째 행의 값이 1인 단어들 출력\n",
    "encoded_words = first_review_encoding[first_review_encoding == 1].index.tolist()\n",
    "print(\"\\nEncoded words in the first review from DataFrame:\")\n",
    "print(encoded_words)"
   ]
  },
  {
   "cell_type": "code",
   "execution_count": 31,
   "metadata": {},
   "outputs": [
    {
     "name": "stdout",
     "output_type": "stream",
     "text": [
      "<class 'pandas.core.series.Series'>\n"
     ]
    },
    {
     "data": {
      "text/plain": [
       "is         1\n",
       "product    1\n",
       "great      1\n",
       "the        1\n",
       "Name: 0, dtype: int64"
      ]
     },
     "execution_count": 31,
     "metadata": {},
     "output_type": "execute_result"
    }
   ],
   "source": [
    "print(type(first_review_encoding[first_review_encoding == 1]))\n",
    "first_review_encoding[first_review_encoding == 1]"
   ]
  },
  {
   "cell_type": "markdown",
   "metadata": {},
   "source": [
    "---"
   ]
  },
  {
   "cell_type": "code",
   "execution_count": 33,
   "metadata": {},
   "outputs": [
    {
     "name": "stdout",
     "output_type": "stream",
     "text": [
      "[array([0., 1., 1., 0., 0., 0., 0., 0., 0., 0., 0., 1., 0., 0., 0., 0., 0.,\n",
      "       0., 1., 0., 0., 0., 0., 0., 0., 0., 0., 0., 0.]), array([0., 1., 1., 0., 0., 0., 0., 1., 0., 1., 0., 0., 0., 0., 0., 0., 0.,\n",
      "       0., 1., 0., 0., 0., 0., 0., 0., 0., 0., 0., 0.]), array([0., 0., 1., 0., 0., 0., 0., 0., 0., 0., 0., 0., 0., 0., 0., 0., 1.,\n",
      "       0., 0., 0., 0., 0., 0., 0., 1., 0., 0., 0., 1.]), array([0., 0., 1., 1., 0., 0., 0., 0., 0., 0., 0., 0., 0., 0., 0., 0., 1.,\n",
      "       0., 0., 1., 0., 0., 1., 0., 1., 0., 0., 0., 0.]), array([1., 0., 1., 0., 0., 0., 0., 0., 1., 0., 1., 0., 0., 0., 0., 0., 0.,\n",
      "       1., 1., 0., 0., 0., 0., 0., 0., 0., 0., 0., 0.]), array([0., 0., 1., 0., 0., 0., 1., 0., 0., 0., 0., 1., 1., 0., 0., 0., 0.,\n",
      "       0., 0., 0., 0., 0., 0., 0., 0., 1., 0., 0., 0.]), array([0., 0., 1., 0., 0., 1., 0., 0., 0., 1., 0., 0., 0., 1., 0., 0., 0.,\n",
      "       0., 1., 0., 0., 0., 0., 0., 0., 0., 0., 0., 0.]), array([0., 0., 0., 0., 1., 0., 0., 0., 0., 0., 0., 0., 1., 0., 0., 0., 0.,\n",
      "       0., 1., 0., 0., 1., 0., 0., 0., 0., 0., 0., 0.]), array([0., 0., 0., 0., 0., 0., 0., 0., 0., 0., 0., 0., 0., 1., 0., 1., 1.,\n",
      "       0., 0., 0., 1., 0., 0., 1., 1., 0., 1., 0., 0.]), array([0., 1., 1., 0., 0., 0., 0., 0., 0., 0., 0., 0., 0., 0., 1., 0., 0.,\n",
      "       0., 2., 0., 0., 0., 0., 0., 0., 0., 0., 1., 0.])]\n",
      "\n",
      "[array([0., 1., 1., 0., 0., 0., 0., 0., 0., 0., 0., 1., 0., 0., 0., 0., 0.,\n",
      "       0., 1., 0., 0., 0., 0., 0., 0., 0., 0., 0., 0.]), array([0., 1., 1., 0., 0., 0., 0., 1., 0., 1., 0., 0., 0., 0., 0., 0., 0.,\n",
      "       0., 1., 0., 0., 0., 0., 0., 0., 0., 0., 0., 0.]), array([0., 0., 1., 0., 0., 0., 0., 0., 0., 0., 0., 0., 0., 0., 0., 0., 1.,\n",
      "       0., 0., 0., 0., 0., 0., 0., 1., 0., 0., 0., 1.]), array([0., 0., 1., 1., 0., 0., 0., 0., 0., 0., 0., 0., 0., 0., 0., 0., 1.,\n",
      "       0., 0., 1., 0., 0., 1., 0., 1., 0., 0., 0., 0.]), array([1., 0., 1., 0., 0., 0., 0., 0., 1., 0., 1., 0., 0., 0., 0., 0., 0.,\n",
      "       1., 1., 0., 0., 0., 0., 0., 0., 0., 0., 0., 0.]), array([0., 0., 1., 0., 0., 0., 1., 0., 0., 0., 0., 1., 1., 0., 0., 0., 0.,\n",
      "       0., 0., 0., 0., 0., 0., 0., 0., 1., 0., 0., 0.]), array([0., 0., 1., 0., 0., 1., 0., 0., 0., 1., 0., 0., 0., 1., 0., 0., 0.,\n",
      "       0., 1., 0., 0., 0., 0., 0., 0., 0., 0., 0., 0.]), array([0., 0., 0., 0., 1., 0., 0., 0., 0., 0., 0., 0., 1., 0., 0., 0., 0.,\n",
      "       0., 1., 0., 0., 1., 0., 0., 0., 0., 0., 0., 0.]), array([0., 0., 0., 0., 0., 0., 0., 0., 0., 0., 0., 0., 0., 1., 0., 1., 1.,\n",
      "       0., 0., 0., 1., 0., 0., 1., 1., 0., 1., 0., 0.]), array([0., 1., 1., 0., 0., 0., 0., 0., 0., 0., 0., 0., 0., 0., 1., 0., 0.,\n",
      "       0., 2., 0., 0., 0., 0., 0., 0., 0., 0., 1., 0.])]\n"
     ]
    }
   ],
   "source": [
    "one_hot_encoder = OneHotEncoder(categories=[unique_words], sparse_output=False)\n",
    "\n",
    "# fit_transform으로 한 번에 처리하는 경우 -> 입력 데이터가 동일할 경우 결과도 동일 \n",
    "\n",
    "# 각 리뷰에 대해 원핫 인코딩 수행 (학습과 적용 동시 진행)\n",
    "one_hot_encoded_reviews = [one_hot_encoder.fit_transform(np.array(review).reshape(-1, 1)).sum(axis=0) for review in tokens]\n",
    "print(one_hot_encoded_reviews)\n",
    "print()\n",
    "\n",
    "# 각 리뷰에 대해 원핫 인코딩 수행 (학습과 적용을 따로 수행)\n",
    "one_hot_encoder.fit(np.array(unique_words).reshape(-1, 1))\n",
    "one_hot_encoded_reviews = [one_hot_encoder.transform(np.array(review).reshape(-1, 1)).sum(axis=0) for review in tokens]\n",
    "print(one_hot_encoded_reviews)"
   ]
  }
 ],
 "metadata": {
  "colab": {
   "provenance": []
  },
  "kernelspec": {
   "display_name": "sesac",
   "language": "python",
   "name": "python3"
  },
  "language_info": {
   "codemirror_mode": {
    "name": "ipython",
    "version": 3
   },
   "file_extension": ".py",
   "mimetype": "text/x-python",
   "name": "python",
   "nbconvert_exporter": "python",
   "pygments_lexer": "ipython3",
   "version": "3.10.15"
  }
 },
 "nbformat": 4,
 "nbformat_minor": 0
}
