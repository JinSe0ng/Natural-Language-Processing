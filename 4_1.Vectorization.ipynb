{
 "cells": [
  {
   "cell_type": "markdown",
   "metadata": {
    "id": "5lpz37H5V8L4"
   },
   "source": [
    "# 문서 표현 (Document Representation)"
   ]
  },
  {
   "cell_type": "markdown",
   "metadata": {
    "id": "_Zr2Xcs0V_Gv"
   },
   "source": [
    "# 1.BoW (Bag of Words)\n",
    "<img src=\"https://image.slidesharecdn.com/vector-space-models-170118145044/95/cs571-vector-space-models-3-638.jpg?cb=1485433004\" />\n",
    "\n",
    "https://en.wikipedia.org/wiki/Bag-of-words_model\n",
    "https://www.slideshare.net/jchoi7s/cs571-vector-space-models"
   ]
  },
  {
   "cell_type": "markdown",
   "metadata": {
    "id": "FxH55kPIWFpl"
   },
   "source": [
    "## 1.1. 직접 구현"
   ]
  },
  {
   "cell_type": "code",
   "execution_count": 3,
   "metadata": {
    "executionInfo": {
     "elapsed": 317,
     "status": "ok",
     "timestamp": 1725257851788,
     "user": {
      "displayName": "김지성",
      "userId": "08089280915681010656"
     },
     "user_tz": -540
    },
    "id": "A3jJWqUSVzd3"
   },
   "outputs": [],
   "source": [
    "# corpus\n",
    "docs = ['오늘 동물원에서 원숭이를 봤어',\n",
    "        '오늘 동물원에서 코끼리를 봤어 봤어',\n",
    "        '동물원에서 원숭이에게 바나나를 줬어 바나나를']"
   ]
  },
  {
   "cell_type": "markdown",
   "metadata": {
    "id": "3Qm8lYXIWu8d"
   },
   "source": [
    "### 1) 띄어쓰기 단위로 토큰화"
   ]
  },
  {
   "cell_type": "code",
   "execution_count": 4,
   "metadata": {},
   "outputs": [
    {
     "data": {
      "text/plain": [
       "[['오늘', '동물원에서', '원숭이를', '봤어'],\n",
       " ['오늘', '동물원에서', '코끼리를', '봤어', '봤어'],\n",
       " ['동물원에서', '원숭이에게', '바나나를', '줬어', '바나나를']]"
      ]
     },
     "execution_count": 4,
     "metadata": {},
     "output_type": "execute_result"
    }
   ],
   "source": [
    "doc_ls = [doc.split() for doc in docs]\n",
    "doc_ls"
   ]
  },
  {
   "cell_type": "markdown",
   "metadata": {
    "id": "PpBwaQ74W1UA"
   },
   "source": [
    "### 2) 각 고유 토큰에 인덱스(Index)를 지정"
   ]
  },
  {
   "cell_type": "code",
   "execution_count": null,
   "metadata": {},
   "outputs": [
    {
     "data": {
      "text/plain": [
       "defaultdict(<function __main__.<lambda>()>,\n",
       "            {'오늘': 0,\n",
       "             '동물원에서': 1,\n",
       "             '원숭이를': 2,\n",
       "             '봤어': 3,\n",
       "             '코끼리를': 4,\n",
       "             '원숭이에게': 5,\n",
       "             '바나나를': 6,\n",
       "             '줬어': 7})"
      ]
     },
     "execution_count": 6,
     "metadata": {},
     "output_type": "execute_result"
    }
   ],
   "source": [
    "# 어휘집 생성\n",
    "from collections import defaultdict\n",
    "word2id = defaultdict(lambda: len(word2id))\n",
    "[word2id[token] for doc in doc_ls for token in doc]\n",
    "word2id"
   ]
  },
  {
   "cell_type": "markdown",
   "metadata": {
    "id": "yMs-Rj_FW6m1"
   },
   "source": [
    "### 3) BoW 생성"
   ]
  },
  {
   "cell_type": "code",
   "execution_count": null,
   "metadata": {},
   "outputs": [
    {
     "data": {
      "text/plain": [
       "[[1, 1, 1, 1, 0, 0, 0, 0], [1, 1, 0, 2, 1, 0, 0, 0], [0, 1, 0, 0, 0, 1, 2, 1]]"
      ]
     },
     "execution_count": 12,
     "metadata": {},
     "output_type": "execute_result"
    }
   ],
   "source": [
    "import numpy as np\n",
    "BoW_ls = [] \n",
    "\n",
    "# 말뭉치에서 문서 하나씩 꺼냄\n",
    "for i, doc in enumerate(doc_ls):\n",
    "\n",
    "\n",
    "    # 고유토큰 개수 크기의 1차원 배열 생성\n",
    "    bow = np.zeros(len(word2id), dtype = int)\n",
    "\n",
    "    # 각 문서마다 토큰 하나씩 꺼내옴\n",
    "    for token in doc:\n",
    "        bow[word2id[token]] += 1        # 어휘집에서 해당 토큰의 위치 (= column)\n",
    "\n",
    "    BoW_ls.append(bow.tolist())\n",
    "\n",
    "BoW_ls"
   ]
  },
  {
   "cell_type": "code",
   "execution_count": 21,
   "metadata": {},
   "outputs": [
    {
     "data": {
      "text/plain": [
       "['오늘', '동물원에서', '원숭이를', '봤어', '코끼리를', '원숭이에게', '바나나를', '줬어']"
      ]
     },
     "execution_count": 21,
     "metadata": {},
     "output_type": "execute_result"
    }
   ],
   "source": [
    "from IPython.display import display\n",
    "import pandas as pd\n",
    "\n",
    "vocab = list(word2id.keys())\n",
    "vocab"
   ]
  },
  {
   "cell_type": "code",
   "execution_count": 20,
   "metadata": {},
   "outputs": [
    {
     "name": "stdout",
     "output_type": "stream",
     "text": [
      "0:오늘 동물원에서 원숭이를 봤어\n"
     ]
    },
    {
     "data": {
      "text/html": [
       "<div>\n",
       "<style scoped>\n",
       "    .dataframe tbody tr th:only-of-type {\n",
       "        vertical-align: middle;\n",
       "    }\n",
       "\n",
       "    .dataframe tbody tr th {\n",
       "        vertical-align: top;\n",
       "    }\n",
       "\n",
       "    .dataframe thead th {\n",
       "        text-align: right;\n",
       "    }\n",
       "</style>\n",
       "<table border=\"1\" class=\"dataframe\">\n",
       "  <thead>\n",
       "    <tr style=\"text-align: right;\">\n",
       "      <th></th>\n",
       "      <th>오늘</th>\n",
       "      <th>동물원에서</th>\n",
       "      <th>원숭이를</th>\n",
       "      <th>봤어</th>\n",
       "      <th>코끼리를</th>\n",
       "      <th>원숭이에게</th>\n",
       "      <th>바나나를</th>\n",
       "      <th>줬어</th>\n",
       "    </tr>\n",
       "  </thead>\n",
       "  <tbody>\n",
       "    <tr>\n",
       "      <th>0</th>\n",
       "      <td>1</td>\n",
       "      <td>1</td>\n",
       "      <td>1</td>\n",
       "      <td>1</td>\n",
       "      <td>0</td>\n",
       "      <td>0</td>\n",
       "      <td>0</td>\n",
       "      <td>0</td>\n",
       "    </tr>\n",
       "  </tbody>\n",
       "</table>\n",
       "</div>"
      ],
      "text/plain": [
       "   오늘  동물원에서  원숭이를  봤어  코끼리를  원숭이에게  바나나를  줬어\n",
       "0   1      1     1   1     0      0     0   0"
      ]
     },
     "metadata": {},
     "output_type": "display_data"
    },
    {
     "name": "stdout",
     "output_type": "stream",
     "text": [
      "\n",
      "\n",
      "\n",
      "1:오늘 동물원에서 코끼리를 봤어 봤어\n"
     ]
    },
    {
     "data": {
      "text/html": [
       "<div>\n",
       "<style scoped>\n",
       "    .dataframe tbody tr th:only-of-type {\n",
       "        vertical-align: middle;\n",
       "    }\n",
       "\n",
       "    .dataframe tbody tr th {\n",
       "        vertical-align: top;\n",
       "    }\n",
       "\n",
       "    .dataframe thead th {\n",
       "        text-align: right;\n",
       "    }\n",
       "</style>\n",
       "<table border=\"1\" class=\"dataframe\">\n",
       "  <thead>\n",
       "    <tr style=\"text-align: right;\">\n",
       "      <th></th>\n",
       "      <th>오늘</th>\n",
       "      <th>동물원에서</th>\n",
       "      <th>원숭이를</th>\n",
       "      <th>봤어</th>\n",
       "      <th>코끼리를</th>\n",
       "      <th>원숭이에게</th>\n",
       "      <th>바나나를</th>\n",
       "      <th>줬어</th>\n",
       "    </tr>\n",
       "  </thead>\n",
       "  <tbody>\n",
       "    <tr>\n",
       "      <th>0</th>\n",
       "      <td>1</td>\n",
       "      <td>1</td>\n",
       "      <td>0</td>\n",
       "      <td>2</td>\n",
       "      <td>1</td>\n",
       "      <td>0</td>\n",
       "      <td>0</td>\n",
       "      <td>0</td>\n",
       "    </tr>\n",
       "  </tbody>\n",
       "</table>\n",
       "</div>"
      ],
      "text/plain": [
       "   오늘  동물원에서  원숭이를  봤어  코끼리를  원숭이에게  바나나를  줬어\n",
       "0   1      1     0   2     1      0     0   0"
      ]
     },
     "metadata": {},
     "output_type": "display_data"
    },
    {
     "name": "stdout",
     "output_type": "stream",
     "text": [
      "\n",
      "\n",
      "\n",
      "2:동물원에서 원숭이에게 바나나를 줬어 바나나를\n"
     ]
    },
    {
     "data": {
      "text/html": [
       "<div>\n",
       "<style scoped>\n",
       "    .dataframe tbody tr th:only-of-type {\n",
       "        vertical-align: middle;\n",
       "    }\n",
       "\n",
       "    .dataframe tbody tr th {\n",
       "        vertical-align: top;\n",
       "    }\n",
       "\n",
       "    .dataframe thead th {\n",
       "        text-align: right;\n",
       "    }\n",
       "</style>\n",
       "<table border=\"1\" class=\"dataframe\">\n",
       "  <thead>\n",
       "    <tr style=\"text-align: right;\">\n",
       "      <th></th>\n",
       "      <th>오늘</th>\n",
       "      <th>동물원에서</th>\n",
       "      <th>원숭이를</th>\n",
       "      <th>봤어</th>\n",
       "      <th>코끼리를</th>\n",
       "      <th>원숭이에게</th>\n",
       "      <th>바나나를</th>\n",
       "      <th>줬어</th>\n",
       "    </tr>\n",
       "  </thead>\n",
       "  <tbody>\n",
       "    <tr>\n",
       "      <th>0</th>\n",
       "      <td>0</td>\n",
       "      <td>1</td>\n",
       "      <td>0</td>\n",
       "      <td>0</td>\n",
       "      <td>0</td>\n",
       "      <td>1</td>\n",
       "      <td>2</td>\n",
       "      <td>1</td>\n",
       "    </tr>\n",
       "  </tbody>\n",
       "</table>\n",
       "</div>"
      ],
      "text/plain": [
       "   오늘  동물원에서  원숭이를  봤어  코끼리를  원숭이에게  바나나를  줬어\n",
       "0   0      1     0   0     0      1     2   1"
      ]
     },
     "metadata": {},
     "output_type": "display_data"
    },
    {
     "name": "stdout",
     "output_type": "stream",
     "text": [
      "\n",
      "\n",
      "\n"
     ]
    }
   ],
   "source": [
    "for i in range(len(docs)):\n",
    "    print(\"{}:{}\".format(i,docs[i]))\n",
    "\n",
    "    # 각 문서의 bow 출력\n",
    "    display(pd.DataFrame([BoW_ls[i]], columns=vocab))\n",
    "    print('\\n\\n')"
   ]
  },
  {
   "cell_type": "markdown",
   "metadata": {
    "id": "OAhIzdotXHlC"
   },
   "source": [
    "## 1.2. sklearn 활용\n"
   ]
  },
  {
   "cell_type": "code",
   "execution_count": 41,
   "metadata": {
    "executionInfo": {
     "elapsed": 2,
     "status": "ok",
     "timestamp": 1725258510969,
     "user": {
      "displayName": "김지성",
      "userId": "08089280915681010656"
     },
     "user_tz": -540
    },
    "id": "9VykU04UW-oA"
   },
   "outputs": [],
   "source": [
    "docs = ['오늘 동물원에서 원숭이를 봤어',\n",
    "        '오늘 동물원에서 코끼리를 봤어 봤어',\n",
    "        '동물원에서 원숭이에게 바나나를 줬어 바나나를']"
   ]
  },
  {
   "cell_type": "code",
   "execution_count": 24,
   "metadata": {},
   "outputs": [
    {
     "name": "stdout",
     "output_type": "stream",
     "text": [
      "[[1 0 1 1 1 0 0 0]\n",
      " [1 0 2 1 0 0 0 1]\n",
      " [1 2 0 0 0 1 1 0]]\n"
     ]
    }
   ],
   "source": [
    "from sklearn.feature_extraction.text import CountVectorizer\n",
    "\n",
    "count_vect = CountVectorizer()\n",
    "BoW = count_vect.fit_transform(docs)\n",
    "\n",
    "print(BoW.toarray())"
   ]
  },
  {
   "cell_type": "code",
   "execution_count": 25,
   "metadata": {},
   "outputs": [
    {
     "name": "stdout",
     "output_type": "stream",
     "text": [
      "['동물원에서' '바나나를' '봤어' '오늘' '원숭이를' '원숭이에게' '줬어' '코끼리를']\n"
     ]
    }
   ],
   "source": [
    "from IPython.display import display\n",
    "\n",
    "# 어휘집 생성\n",
    "vocab = count_vect.get_feature_names_out()\n",
    "print(vocab)"
   ]
  },
  {
   "cell_type": "code",
   "execution_count": null,
   "metadata": {},
   "outputs": [
    {
     "ename": "AttributeError",
     "evalue": "'int' object has no attribute 'docs'",
     "output_type": "error",
     "traceback": [
      "\u001b[0;31m---------------------------------------------------------------------------\u001b[0m",
      "\u001b[0;31mAttributeError\u001b[0m                            Traceback (most recent call last)",
      "Cell \u001b[0;32mIn[26], line 4\u001b[0m\n\u001b[1;32m      1\u001b[0m \u001b[38;5;66;03m# 각 문서별로 df 생성\u001b[39;00m\n\u001b[1;32m      3\u001b[0m \u001b[38;5;28;01mfor\u001b[39;00m i \u001b[38;5;129;01min\u001b[39;00m \u001b[38;5;28mrange\u001b[39m(\u001b[38;5;28mlen\u001b[39m(docs)):\n\u001b[0;32m----> 4\u001b[0m     \u001b[38;5;28mprint\u001b[39m ( \u001b[38;5;124m\"\u001b[39m\u001b[38;5;132;01m{}\u001b[39;00m\u001b[38;5;124m:\u001b[39m\u001b[38;5;132;01m{}\u001b[39;00m\u001b[38;5;124m\"\u001b[39m\u001b[38;5;241m.\u001b[39mformat(\u001b[43mi\u001b[49m\u001b[38;5;241;43m.\u001b[39;49m\u001b[43m \u001b[49m\u001b[43mdocs\u001b[49m[i]))\n\u001b[1;32m      6\u001b[0m     display\n",
      "\u001b[0;31mAttributeError\u001b[0m: 'int' object has no attribute 'docs'"
     ]
    }
   ],
   "source": [
    "# 각 문서별로 df 생성\n",
    "\n",
    "for i in range(len(docs)):\n",
    "    print ( \"{}:{}\".format(i,   docs[i]))\n",
    "\n",
    "    display(pd.DataFrame   , columns=vocab)\n",
    "    print(\"\\n\\n\")"
   ]
  },
  {
   "cell_type": "markdown",
   "metadata": {
    "id": "l-tjjgAZXslI"
   },
   "source": [
    "## 1.3. gensim 활용"
   ]
  },
  {
   "cell_type": "code",
   "execution_count": 5,
   "metadata": {
    "executionInfo": {
     "elapsed": 319,
     "status": "ok",
     "timestamp": 1725258531276,
     "user": {
      "displayName": "김지성",
      "userId": "08089280915681010656"
     },
     "user_tz": -540
    },
    "id": "TYM9HIyUXiJh"
   },
   "outputs": [],
   "source": [
    "docs = ['오늘 동물원에서 원숭이를 봤어',\n",
    "        '오늘 동물원에서 코끼리를 봤어 봤어',\n",
    "        '동물원에서 원숭이에게 바나나를 줬어 바나나를']"
   ]
  },
  {
   "cell_type": "code",
   "execution_count": 28,
   "metadata": {},
   "outputs": [
    {
     "name": "stdout",
     "output_type": "stream",
     "text": [
      "Collecting gensim\n",
      "  Downloading gensim-4.3.3-cp310-cp310-macosx_11_0_arm64.whl.metadata (8.2 kB)\n",
      "Collecting numpy<2.0,>=1.18.5 (from gensim)\n",
      "  Downloading numpy-1.26.4-cp310-cp310-macosx_11_0_arm64.whl.metadata (61 kB)\n",
      "Collecting scipy<1.14.0,>=1.7.0 (from gensim)\n",
      "  Downloading scipy-1.13.1-cp310-cp310-macosx_12_0_arm64.whl.metadata (60 kB)\n",
      "Collecting smart-open>=1.8.1 (from gensim)\n",
      "  Downloading smart_open-7.1.0-py3-none-any.whl.metadata (24 kB)\n",
      "Collecting wrapt (from smart-open>=1.8.1->gensim)\n",
      "  Downloading wrapt-1.17.0-cp310-cp310-macosx_11_0_arm64.whl.metadata (6.4 kB)\n",
      "Downloading gensim-4.3.3-cp310-cp310-macosx_11_0_arm64.whl (24.0 MB)\n",
      "\u001b[2K   \u001b[90m━━━━━━━━━━━━━━━━━━━━━━━━━━━━━━━━━━━━━━━━\u001b[0m \u001b[32m24.0/24.0 MB\u001b[0m \u001b[31m10.9 MB/s\u001b[0m eta \u001b[36m0:00:00\u001b[0ma \u001b[36m0:00:01\u001b[0m\n",
      "\u001b[?25hDownloading numpy-1.26.4-cp310-cp310-macosx_11_0_arm64.whl (14.0 MB)\n",
      "\u001b[2K   \u001b[90m━━━━━━━━━━━━━━━━━━━━━━━━━━━━━━━━━━━━━━━━\u001b[0m \u001b[32m14.0/14.0 MB\u001b[0m \u001b[31m10.3 MB/s\u001b[0m eta \u001b[36m0:00:00\u001b[0ma \u001b[36m0:00:01\u001b[0m\n",
      "\u001b[?25hDownloading scipy-1.13.1-cp310-cp310-macosx_12_0_arm64.whl (30.3 MB)\n",
      "\u001b[2K   \u001b[90m━━━━━━━━━━━━━━━━━━━━━━━━━━━━━━━━━━━━━━━━\u001b[0m \u001b[32m30.3/30.3 MB\u001b[0m \u001b[31m11.1 MB/s\u001b[0m eta \u001b[36m0:00:00\u001b[0ma \u001b[36m0:00:01\u001b[0m\n",
      "\u001b[?25hDownloading smart_open-7.1.0-py3-none-any.whl (61 kB)\n",
      "Downloading wrapt-1.17.0-cp310-cp310-macosx_11_0_arm64.whl (38 kB)\n",
      "Installing collected packages: wrapt, numpy, smart-open, scipy, gensim\n",
      "  Attempting uninstall: numpy\n",
      "    Found existing installation: numpy 2.2.0\n",
      "    Uninstalling numpy-2.2.0:\n",
      "      Successfully uninstalled numpy-2.2.0\n",
      "  Attempting uninstall: scipy\n",
      "    Found existing installation: scipy 1.14.1\n",
      "    Uninstalling scipy-1.14.1:\n",
      "      Successfully uninstalled scipy-1.14.1\n",
      "Successfully installed gensim-4.3.3 numpy-1.26.4 scipy-1.13.1 smart-open-7.1.0 wrapt-1.17.0\n"
     ]
    }
   ],
   "source": [
    "! pip install gensim"
   ]
  },
  {
   "cell_type": "code",
   "execution_count": null,
   "metadata": {},
   "outputs": [],
   "source": [
    "import gensim\n",
    "import numpy as np\n",
    "from gensim import corpora"
   ]
  },
  {
   "cell_type": "code",
   "execution_count": 6,
   "metadata": {},
   "outputs": [
    {
     "name": "stdout",
     "output_type": "stream",
     "text": [
      "[['오늘', '동물원에서', '원숭이를', '봤어'], ['오늘', '동물원에서', '코끼리를', '봤어', '봤어'], ['동물원에서', '원숭이에게', '바나나를', '줬어', '바나나를']]\n"
     ]
    }
   ],
   "source": [
    "# 각 문서마다 토큰화\n",
    "doc_ls = [doc.split() for doc in docs]\n",
    "print(doc_ls)"
   ]
  },
  {
   "cell_type": "code",
   "execution_count": 8,
   "metadata": {},
   "outputs": [
    {
     "name": "stdout",
     "output_type": "stream",
     "text": [
      "<class 'gensim.corpora.dictionary.Dictionary'>\n",
      "Dictionary<8 unique tokens: ['동물원에서', '봤어', '오늘', '원숭이를', '코끼리를']...>\n",
      "{0: '동물원에서', 1: '봤어', 2: '오늘', 3: '원숭이를', 4: '코끼리를', 5: '바나나를', 6: '원숭이에게', 7: '줬어'}\n"
     ]
    }
   ],
   "source": [
    "# 어휘집 생성\n",
    "id2word = corpora.Dictionary(doc_ls)\n",
    "print(type(id2word))\n",
    "print(id2word)\n",
    "print(dict(id2word))"
   ]
  },
  {
   "cell_type": "code",
   "execution_count": 9,
   "metadata": {},
   "outputs": [
    {
     "data": {
      "text/plain": [
       "[(2, 1)]"
      ]
     },
     "execution_count": 9,
     "metadata": {},
     "output_type": "execute_result"
    }
   ],
   "source": [
    "# test\n",
    "# 2: '오늘'토큰의 인덱스 번호, 1: '오늘'토큰의 빈도 수\n",
    "id2word.doc2bow(['오늘'])"
   ]
  },
  {
   "cell_type": "code",
   "execution_count": 10,
   "metadata": {},
   "outputs": [
    {
     "name": "stdout",
     "output_type": "stream",
     "text": [
      "[[(0, 1), (1, 1), (2, 1), (3, 1)], [(0, 1), (1, 2), (2, 1), (4, 1)], [(0, 1), (5, 2), (6, 1), (7, 1)]]\n"
     ]
    }
   ],
   "source": [
    "BoW = [id2word.doc2bow(doc) for doc in doc_ls]\n",
    "print(BoW)"
   ]
  },
  {
   "cell_type": "code",
   "execution_count": 12,
   "metadata": {},
   "outputs": [
    {
     "name": "stdout",
     "output_type": "stream",
     "text": [
      "['동물원에서', '봤어', '오늘', '원숭이를', '코끼리를', '바나나를', '원숭이에게', '줬어']\n",
      "{0: '동물원에서', 1: '봤어', 2: '오늘', 3: '원숭이를', 4: '코끼리를', 5: '바나나를', 6: '원숭이에게', 7: '줬어'}\n"
     ]
    }
   ],
   "source": [
    "from gensim.matutils import sparse2full\n",
    "from IPython.display import display\n",
    "\n",
    "# df에서 column 명으로 쓸 어휘집 생성\n",
    "vocab = list(id2word.values())\n",
    "print(vocab)\n",
    "print(dict(id2word))"
   ]
  },
  {
   "cell_type": "markdown",
   "metadata": {
    "id": "PJqFOTcWbwxG"
   },
   "source": [
    "sparse2full 함수의 역할: 밀집 벡터로의 변환\n",
    "- 입력: 희소 표현의 벡터와 전체 벡터의 길이.\n",
    "  - BoW[i]: 희소 벡터 (예: 특정 위치에 값이 존재하는 리스트 또는 배열).\n",
    "  - len(vocab): 전체 벡터의 길이 (이 벡터가 몇 개의 요소를 가져야 하는지)."
   ]
  },
  {
   "cell_type": "code",
   "execution_count": null,
   "metadata": {
    "colab": {
     "base_uri": "https://localhost:8080/",
     "height": 422
    },
    "executionInfo": {
     "elapsed": 326,
     "status": "ok",
     "timestamp": 1725259010596,
     "user": {
      "displayName": "김지성",
      "userId": "08089280915681010656"
     },
     "user_tz": -540
    },
    "id": "-4GgByuPbbU8",
    "outputId": "b19c5e1e-80fa-48ab-d831-1cc0a994f08b"
   },
   "outputs": [
    {
     "name": "stdout",
     "output_type": "stream",
     "text": [
      "[(0, 1), (1, 1), (2, 1), (3, 1)]\n"
     ]
    },
    {
     "data": {
      "text/plain": [
       "array([1., 1., 1., 1., 0., 0., 0., 0.], dtype=float32)"
      ]
     },
     "execution_count": 13,
     "metadata": {},
     "output_type": "execute_result"
    }
   ],
   "source": [
    "# 각 문서별로 df화 \n",
    "\n",
    "print(BoW[0])                        # 첫 번째 문서의 BoW 확인\n",
    "sparse2full(BoW[0], len(vocab))      # 첫 번째 문서의 밀집 벡터"
   ]
  },
  {
   "cell_type": "code",
   "execution_count": 15,
   "metadata": {},
   "outputs": [
    {
     "name": "stdout",
     "output_type": "stream",
     "text": [
      "0:오늘 동물원에서 원숭이를 봤어\n"
     ]
    },
    {
     "ename": "TypeError",
     "evalue": "ZMQDisplayPublisher.publish() got an unexpected keyword argument 'columns'",
     "output_type": "error",
     "traceback": [
      "\u001b[0;31m---------------------------------------------------------------------------\u001b[0m",
      "\u001b[0;31mTypeError\u001b[0m                                 Traceback (most recent call last)",
      "Cell \u001b[0;32mIn[15], line 6\u001b[0m\n\u001b[1;32m      3\u001b[0m \u001b[38;5;28;01mfor\u001b[39;00m i \u001b[38;5;129;01min\u001b[39;00m \u001b[38;5;28mrange\u001b[39m(\u001b[38;5;28mlen\u001b[39m(docs)):\n\u001b[1;32m      4\u001b[0m     \u001b[38;5;28mprint\u001b[39m ( \u001b[38;5;124m\"\u001b[39m\u001b[38;5;132;01m{}\u001b[39;00m\u001b[38;5;124m:\u001b[39m\u001b[38;5;132;01m{}\u001b[39;00m\u001b[38;5;124m\"\u001b[39m\u001b[38;5;241m.\u001b[39mformat(i, docs[i]))\n\u001b[0;32m----> 6\u001b[0m     \u001b[43mdisplay\u001b[49m\u001b[43m(\u001b[49m\u001b[43mpd\u001b[49m\u001b[38;5;241;43m.\u001b[39;49m\u001b[43mDataFrame\u001b[49m\u001b[43m(\u001b[49m\u001b[43m[\u001b[49m\u001b[43msparse2full\u001b[49m\u001b[43m(\u001b[49m\u001b[43mBoW\u001b[49m\u001b[43m[\u001b[49m\u001b[43mi\u001b[49m\u001b[43m]\u001b[49m\u001b[43m,\u001b[49m\u001b[43m \u001b[49m\u001b[38;5;28;43mlen\u001b[39;49m\u001b[43m(\u001b[49m\u001b[43mvocab\u001b[49m\u001b[43m)\u001b[49m\u001b[43m)\u001b[49m\u001b[43m]\u001b[49m\u001b[43m)\u001b[49m\u001b[43m \u001b[49m\u001b[43m,\u001b[49m\u001b[43m \u001b[49m\u001b[43mcolumns\u001b[49m\u001b[38;5;241;43m=\u001b[39;49m\u001b[43mvocab\u001b[49m\u001b[43m)\u001b[49m\n\u001b[1;32m      7\u001b[0m     \u001b[38;5;28mprint\u001b[39m(\u001b[38;5;124m\"\u001b[39m\u001b[38;5;130;01m\\n\u001b[39;00m\u001b[38;5;130;01m\\n\u001b[39;00m\u001b[38;5;124m\"\u001b[39m)\n",
      "File \u001b[0;32m~/.conda/envs/sesac/lib/python3.10/site-packages/IPython/core/display_functions.py:305\u001b[0m, in \u001b[0;36mdisplay\u001b[0;34m(include, exclude, metadata, transient, display_id, raw, clear, *objs, **kwargs)\u001b[0m\n\u001b[1;32m    302\u001b[0m         \u001b[38;5;28;01mif\u001b[39;00m metadata:\n\u001b[1;32m    303\u001b[0m             \u001b[38;5;66;03m# kwarg-specified metadata gets precedence\u001b[39;00m\n\u001b[1;32m    304\u001b[0m             _merge(md_dict, metadata)\n\u001b[0;32m--> 305\u001b[0m         \u001b[43mpublish_display_data\u001b[49m\u001b[43m(\u001b[49m\u001b[43mdata\u001b[49m\u001b[38;5;241;43m=\u001b[39;49m\u001b[43mformat_dict\u001b[49m\u001b[43m,\u001b[49m\u001b[43m \u001b[49m\u001b[43mmetadata\u001b[49m\u001b[38;5;241;43m=\u001b[39;49m\u001b[43mmd_dict\u001b[49m\u001b[43m,\u001b[49m\u001b[43m \u001b[49m\u001b[38;5;241;43m*\u001b[39;49m\u001b[38;5;241;43m*\u001b[39;49m\u001b[43mkwargs\u001b[49m\u001b[43m)\u001b[49m\n\u001b[1;32m    306\u001b[0m \u001b[38;5;28;01mif\u001b[39;00m display_id:\n\u001b[1;32m    307\u001b[0m     \u001b[38;5;28;01mreturn\u001b[39;00m DisplayHandle(display_id)\n",
      "File \u001b[0;32m~/.conda/envs/sesac/lib/python3.10/site-packages/IPython/core/display_functions.py:93\u001b[0m, in \u001b[0;36mpublish_display_data\u001b[0;34m(data, metadata, source, transient, **kwargs)\u001b[0m\n\u001b[1;32m     90\u001b[0m \u001b[38;5;28;01mif\u001b[39;00m transient:\n\u001b[1;32m     91\u001b[0m     kwargs[\u001b[38;5;124m'\u001b[39m\u001b[38;5;124mtransient\u001b[39m\u001b[38;5;124m'\u001b[39m] \u001b[38;5;241m=\u001b[39m transient\n\u001b[0;32m---> 93\u001b[0m \u001b[43mdisplay_pub\u001b[49m\u001b[38;5;241;43m.\u001b[39;49m\u001b[43mpublish\u001b[49m\u001b[43m(\u001b[49m\n\u001b[1;32m     94\u001b[0m \u001b[43m    \u001b[49m\u001b[43mdata\u001b[49m\u001b[38;5;241;43m=\u001b[39;49m\u001b[43mdata\u001b[49m\u001b[43m,\u001b[49m\n\u001b[1;32m     95\u001b[0m \u001b[43m    \u001b[49m\u001b[43mmetadata\u001b[49m\u001b[38;5;241;43m=\u001b[39;49m\u001b[43mmetadata\u001b[49m\u001b[43m,\u001b[49m\n\u001b[1;32m     96\u001b[0m \u001b[43m    \u001b[49m\u001b[38;5;241;43m*\u001b[39;49m\u001b[38;5;241;43m*\u001b[39;49m\u001b[43mkwargs\u001b[49m\n\u001b[1;32m     97\u001b[0m \u001b[43m\u001b[49m\u001b[43m)\u001b[49m\n",
      "\u001b[0;31mTypeError\u001b[0m: ZMQDisplayPublisher.publish() got an unexpected keyword argument 'columns'"
     ]
    }
   ],
   "source": [
    "import pandas as pd\n",
    "\n",
    "for i in range(len(docs)):\n",
    "    print ( \"{}:{}\".format(i, docs[i]))\n",
    "\n",
    "    display(pd.DataFrame([sparse2full(BoW[i], len(vocab))]) , columns=vocab)\n",
    "    print(\"\\n\\n\")"
   ]
  },
  {
   "cell_type": "markdown",
   "metadata": {
    "id": "b0-I8KkRYEvT"
   },
   "source": [
    "# 2.DTM (Document-Term Matrix)"
   ]
  },
  {
   "cell_type": "markdown",
   "metadata": {
    "id": "wWKM6IMYaHKA"
   },
   "source": [
    "## 2.1. 직접 구현"
   ]
  },
  {
   "cell_type": "code",
   "execution_count": 61,
   "metadata": {
    "executionInfo": {
     "elapsed": 418,
     "status": "ok",
     "timestamp": 1725259091773,
     "user": {
      "displayName": "김지성",
      "userId": "08089280915681010656"
     },
     "user_tz": -540
    },
    "id": "WCoj7oP6Xx_g"
   },
   "outputs": [],
   "source": [
    "docs = ['오늘 동물원에서 원숭이를 봤어',\n",
    "        '오늘 동물원에서 코끼리를 봤어 봤어',\n",
    "        '동물원에서 원숭이에게 바나나를 줬어 바나나를']"
   ]
  },
  {
   "cell_type": "markdown",
   "metadata": {
    "id": "BqiioqYAaL4E"
   },
   "source": [
    "### 1) 띄어쓰기 단위로 토큰화"
   ]
  },
  {
   "cell_type": "code",
   "execution_count": 16,
   "metadata": {},
   "outputs": [
    {
     "data": {
      "text/plain": [
       "[['오늘', '동물원에서', '원숭이를', '봤어'],\n",
       " ['오늘', '동물원에서', '코끼리를', '봤어', '봤어'],\n",
       " ['동물원에서', '원숭이에게', '바나나를', '줬어', '바나나를']]"
      ]
     },
     "execution_count": 16,
     "metadata": {},
     "output_type": "execute_result"
    }
   ],
   "source": [
    "doc_ls = [doc.split() for doc in docs]\n",
    "doc_ls"
   ]
  },
  {
   "cell_type": "markdown",
   "metadata": {
    "id": "peuqcl_raPX1"
   },
   "source": [
    "### 2) 각 고유 토큰에 index 설정"
   ]
  },
  {
   "cell_type": "code",
   "execution_count": 17,
   "metadata": {},
   "outputs": [
    {
     "data": {
      "text/plain": [
       "defaultdict(<function __main__.<lambda>()>,\n",
       "            {'오늘': 0,\n",
       "             '동물원에서': 1,\n",
       "             '원숭이를': 2,\n",
       "             '봤어': 3,\n",
       "             '코끼리를': 4,\n",
       "             '원숭이에게': 5,\n",
       "             '바나나를': 6,\n",
       "             '줬어': 7})"
      ]
     },
     "execution_count": 17,
     "metadata": {},
     "output_type": "execute_result"
    }
   ],
   "source": [
    "# 어휘집 생성\n",
    "from collections import defaultdict\n",
    "\n",
    "word2id = defaultdict(lambda: len(word2id))\n",
    "\n",
    "[word2id[token] for doc in doc_ls for token in doc]\n",
    "word2id"
   ]
  },
  {
   "cell_type": "markdown",
   "metadata": {
    "id": "RvnrUeJYaX14"
   },
   "source": [
    "### 3) DTM 생성"
   ]
  },
  {
   "cell_type": "code",
   "execution_count": null,
   "metadata": {
    "colab": {
     "base_uri": "https://localhost:8080/"
    },
    "executionInfo": {
     "elapsed": 2,
     "status": "ok",
     "timestamp": 1725259092848,
     "user": {
      "displayName": "김지성",
      "userId": "08089280915681010656"
     },
     "user_tz": -540
    },
    "id": "ZB-x8ncBaQuK",
    "outputId": "f980412b-102d-42ee-f846-eb87d25b2f55"
   },
   "outputs": [
    {
     "name": "stdout",
     "output_type": "stream",
     "text": [
      "Word2ID mapping: {'오늘': 0, '동물원에서': 1, '원숭이를': 2, '봤어': 3, '코끼리를': 4, '원숭이에게': 5, '바나나를': 6, '줬어': 7}\n",
      "Document-Term Matrix (DTM):\n",
      " [[1 1 1 1 0 0 0 0]\n",
      " [1 1 0 2 1 0 0 0]\n",
      " [0 1 0 0 0 1 2 1]]\n"
     ]
    }
   ],
   "source": [
    "import numpy as np\n",
    "\n",
    "# 빈 벡터행렬 생성 \n",
    "DTM = np.zeros((len(doc_ls), len(word2id)), dtype=int)\n",
    "\n",
    "\n",
    "# 문서별 단어 (토큰) 빈도 계산\n",
    "for i, doc in enumerate(doc_ls):\n",
    "    for token in doc:\n",
    "        # 문서별 해당 토큰 위치에 +1\n",
    "        DTM[i, word2id[token]] += 1         # 해당 문서(i)에 해당되는 토큰의 위치(column)에 값을 등가시킴\n",
    "\n",
    "# 결과 출력\n",
    "print(\"Word2ID mapping:\", dict(word2id))\n",
    "print(\"Document-Term Matrix (DTM):\\n\", DTM)"
   ]
  },
  {
   "cell_type": "code",
   "execution_count": 22,
   "metadata": {},
   "outputs": [
    {
     "data": {
      "text/html": [
       "<div>\n",
       "<style scoped>\n",
       "    .dataframe tbody tr th:only-of-type {\n",
       "        vertical-align: middle;\n",
       "    }\n",
       "\n",
       "    .dataframe tbody tr th {\n",
       "        vertical-align: top;\n",
       "    }\n",
       "\n",
       "    .dataframe thead th {\n",
       "        text-align: right;\n",
       "    }\n",
       "</style>\n",
       "<table border=\"1\" class=\"dataframe\">\n",
       "  <thead>\n",
       "    <tr style=\"text-align: right;\">\n",
       "      <th></th>\n",
       "      <th>오늘</th>\n",
       "      <th>동물원에서</th>\n",
       "      <th>원숭이를</th>\n",
       "      <th>봤어</th>\n",
       "      <th>코끼리를</th>\n",
       "      <th>원숭이에게</th>\n",
       "      <th>바나나를</th>\n",
       "      <th>줬어</th>\n",
       "    </tr>\n",
       "  </thead>\n",
       "  <tbody>\n",
       "    <tr>\n",
       "      <th>문서1</th>\n",
       "      <td>1</td>\n",
       "      <td>1</td>\n",
       "      <td>1</td>\n",
       "      <td>1</td>\n",
       "      <td>0</td>\n",
       "      <td>0</td>\n",
       "      <td>0</td>\n",
       "      <td>0</td>\n",
       "    </tr>\n",
       "    <tr>\n",
       "      <th>문서2</th>\n",
       "      <td>1</td>\n",
       "      <td>1</td>\n",
       "      <td>0</td>\n",
       "      <td>2</td>\n",
       "      <td>1</td>\n",
       "      <td>0</td>\n",
       "      <td>0</td>\n",
       "      <td>0</td>\n",
       "    </tr>\n",
       "    <tr>\n",
       "      <th>문서3</th>\n",
       "      <td>0</td>\n",
       "      <td>1</td>\n",
       "      <td>0</td>\n",
       "      <td>0</td>\n",
       "      <td>0</td>\n",
       "      <td>1</td>\n",
       "      <td>2</td>\n",
       "      <td>1</td>\n",
       "    </tr>\n",
       "  </tbody>\n",
       "</table>\n",
       "</div>"
      ],
      "text/plain": [
       "     오늘  동물원에서  원숭이를  봤어  코끼리를  원숭이에게  바나나를  줬어\n",
       "문서1   1      1     1   1     0      0     0   0\n",
       "문서2   1      1     0   2     1      0     0   0\n",
       "문서3   0      1     0   0     0      1     2   1"
      ]
     },
     "execution_count": 22,
     "metadata": {},
     "output_type": "execute_result"
    }
   ],
   "source": [
    "import pandas as pd\n",
    "\n",
    "# 문서 이름 리스트\n",
    "doc_names = ['문서' + str(i+1) for i in range(len(docs))]\n",
    "doc_names\n",
    "\n",
    "# 어휘집 (칼럼명으로 쓸 어휘집)\n",
    "vocab = list(word2id.keys())\n",
    "vocab\n",
    "\n",
    "# df 생성\n",
    "df_DTM = pd.DataFrame(DTM, index=doc_names, columns=vocab)\n",
    "df_DTM"
   ]
  },
  {
   "cell_type": "markdown",
   "metadata": {
    "id": "rMbY4HLUcYxS"
   },
   "source": [
    "## 2.2. sklearn 활용"
   ]
  },
  {
   "cell_type": "code",
   "execution_count": 23,
   "metadata": {
    "executionInfo": {
     "elapsed": 436,
     "status": "ok",
     "timestamp": 1725259235634,
     "user": {
      "displayName": "김지성",
      "userId": "08089280915681010656"
     },
     "user_tz": -540
    },
    "id": "8YvN5l7kastn"
   },
   "outputs": [],
   "source": [
    "docs = ['오늘 동물원에서 원숭이를 봤어',\n",
    "        '오늘 동물원에서 코끼리를 봤어 봤어',\n",
    "        '동물원에서 원숭이에게 바나나를 줬어 바나나를']"
   ]
  },
  {
   "cell_type": "code",
   "execution_count": 28,
   "metadata": {},
   "outputs": [
    {
     "data": {
      "text/plain": [
       "array([[1, 0, 1, 1, 1, 0, 0, 0],\n",
       "       [1, 0, 2, 1, 0, 0, 0, 1],\n",
       "       [1, 2, 0, 0, 0, 1, 1, 0]])"
      ]
     },
     "execution_count": 28,
     "metadata": {},
     "output_type": "execute_result"
    }
   ],
   "source": [
    "from sklearn.feature_extraction.text import CountVectorizer\n",
    "count_vect = CountVectorizer()\n",
    "DTM = count_vect.fit_transform(docs)\n",
    "DTM.toarray()"
   ]
  },
  {
   "cell_type": "code",
   "execution_count": 30,
   "metadata": {
    "colab": {
     "base_uri": "https://localhost:8080/",
     "height": 143
    },
    "executionInfo": {
     "elapsed": 2,
     "status": "ok",
     "timestamp": 1725259235986,
     "user": {
      "displayName": "김지성",
      "userId": "08089280915681010656"
     },
     "user_tz": -540
    },
    "id": "KNm2MiT_cevA",
    "outputId": "19f81461-48d2-4b2b-e084-ee01d2f0c361"
   },
   "outputs": [
    {
     "data": {
      "text/html": [
       "<div>\n",
       "<style scoped>\n",
       "    .dataframe tbody tr th:only-of-type {\n",
       "        vertical-align: middle;\n",
       "    }\n",
       "\n",
       "    .dataframe tbody tr th {\n",
       "        vertical-align: top;\n",
       "    }\n",
       "\n",
       "    .dataframe thead th {\n",
       "        text-align: right;\n",
       "    }\n",
       "</style>\n",
       "<table border=\"1\" class=\"dataframe\">\n",
       "  <thead>\n",
       "    <tr style=\"text-align: right;\">\n",
       "      <th></th>\n",
       "      <th>동물원에서</th>\n",
       "      <th>바나나를</th>\n",
       "      <th>봤어</th>\n",
       "      <th>오늘</th>\n",
       "      <th>원숭이를</th>\n",
       "      <th>원숭이에게</th>\n",
       "      <th>줬어</th>\n",
       "      <th>코끼리를</th>\n",
       "    </tr>\n",
       "  </thead>\n",
       "  <tbody>\n",
       "    <tr>\n",
       "      <th>문서1</th>\n",
       "      <td>1</td>\n",
       "      <td>0</td>\n",
       "      <td>1</td>\n",
       "      <td>1</td>\n",
       "      <td>1</td>\n",
       "      <td>0</td>\n",
       "      <td>0</td>\n",
       "      <td>0</td>\n",
       "    </tr>\n",
       "    <tr>\n",
       "      <th>문서2</th>\n",
       "      <td>1</td>\n",
       "      <td>0</td>\n",
       "      <td>2</td>\n",
       "      <td>1</td>\n",
       "      <td>0</td>\n",
       "      <td>0</td>\n",
       "      <td>0</td>\n",
       "      <td>1</td>\n",
       "    </tr>\n",
       "    <tr>\n",
       "      <th>문서3</th>\n",
       "      <td>1</td>\n",
       "      <td>2</td>\n",
       "      <td>0</td>\n",
       "      <td>0</td>\n",
       "      <td>0</td>\n",
       "      <td>1</td>\n",
       "      <td>1</td>\n",
       "      <td>0</td>\n",
       "    </tr>\n",
       "  </tbody>\n",
       "</table>\n",
       "</div>"
      ],
      "text/plain": [
       "     동물원에서  바나나를  봤어  오늘  원숭이를  원숭이에게  줬어  코끼리를\n",
       "문서1      1     0   1   1     1      0   0     0\n",
       "문서2      1     0   2   1     0      0   0     1\n",
       "문서3      1     2   0   0     0      1   1     0"
      ]
     },
     "metadata": {},
     "output_type": "display_data"
    }
   ],
   "source": [
    "import pandas as pd\n",
    "\n",
    "# 문서 이름 리스트 (행 인덱스)\n",
    "doc_names = ['문서' + str(i+1) for i in range(len(docs))]\n",
    "doc_names\n",
    "\n",
    "# 단어 사전의 인덱스를 기준으로 정렬된 단어 리스트 생성\n",
    "vocab = count_vect.get_feature_names_out()\n",
    "vocab\n",
    "\n",
    "# DTM 행렬을 데이터프레임으로 변환\n",
    "df_DTM = pd.DataFrame(DTM.toarray(), index=doc_names, columns=vocab)\n",
    "\n",
    "# 결과 출력\n",
    "display(df_DTM)\n"
   ]
  },
  {
   "cell_type": "markdown",
   "metadata": {
    "id": "IsoqXW6adIK5"
   },
   "source": [
    "## 2.3. gensim 활용"
   ]
  },
  {
   "cell_type": "code",
   "execution_count": 31,
   "metadata": {
    "executionInfo": {
     "elapsed": 419,
     "status": "ok",
     "timestamp": 1725259327535,
     "user": {
      "displayName": "김지성",
      "userId": "08089280915681010656"
     },
     "user_tz": -540
    },
    "id": "smrElDvfctXC"
   },
   "outputs": [],
   "source": [
    "docs = ['오늘 동물원에서 원숭이를 봤어',\n",
    "        '오늘 동물원에서 코끼리를 봤어 봤어',\n",
    "        '동물원에서 원숭이에게 바나나를 줬어 바나나를']"
   ]
  },
  {
   "cell_type": "code",
   "execution_count": 32,
   "metadata": {
    "colab": {
     "base_uri": "https://localhost:8080/"
    },
    "executionInfo": {
     "elapsed": 3,
     "status": "ok",
     "timestamp": 1725259327872,
     "user": {
      "displayName": "김지성",
      "userId": "08089280915681010656"
     },
     "user_tz": -540
    },
    "id": "tg7MNEdgdrFE",
    "outputId": "94978019-af4b-42c7-efe6-d9ef6a6857ff"
   },
   "outputs": [
    {
     "name": "stdout",
     "output_type": "stream",
     "text": [
      "[['오늘', '동물원에서', '원숭이를', '봤어'], ['오늘', '동물원에서', '코끼리를', '봤어', '봤어'], ['동물원에서', '원숭이에게', '바나나를', '줬어', '바나나를']]\n"
     ]
    }
   ],
   "source": [
    "import gensim\n",
    "from gensim import corpora\n",
    "import numpy as np\n",
    "import pandas as pd\n",
    "\n",
    "# 1. 문서를 공백으로 토큰화\n",
    "doc_ls = [doc.split() for doc in docs]\n",
    "print(doc_ls)"
   ]
  },
  {
   "cell_type": "code",
   "execution_count": 33,
   "metadata": {
    "colab": {
     "base_uri": "https://localhost:8080/"
    },
    "executionInfo": {
     "elapsed": 2,
     "status": "ok",
     "timestamp": 1725259327872,
     "user": {
      "displayName": "김지성",
      "userId": "08089280915681010656"
     },
     "user_tz": -540
    },
    "id": "ZhXJGxn-d1MV",
    "outputId": "a93364b3-fc65-4cb9-cf20-fe1bf2a5d8d9"
   },
   "outputs": [
    {
     "name": "stdout",
     "output_type": "stream",
     "text": [
      "Dictionary<8 unique tokens: ['동물원에서', '봤어', '오늘', '원숭이를', '코끼리를']...>\n",
      "{0: '동물원에서', 1: '봤어', 2: '오늘', 3: '원숭이를', 4: '코끼리를', 5: '바나나를', 6: '원숭이에게', 7: '줬어'}\n"
     ]
    }
   ],
   "source": [
    "# 2. Gensim의 사전을 생성\n",
    "id2word = corpora.Dictionary(doc_ls)\n",
    "print(id2word)\n",
    "print(dict(id2word))"
   ]
  },
  {
   "cell_type": "code",
   "execution_count": 34,
   "metadata": {
    "colab": {
     "base_uri": "https://localhost:8080/"
    },
    "executionInfo": {
     "elapsed": 2,
     "status": "ok",
     "timestamp": 1725259328202,
     "user": {
      "displayName": "김지성",
      "userId": "08089280915681010656"
     },
     "user_tz": -540
    },
    "id": "uD7x8ZIedYMu",
    "outputId": "f0ccaa8d-d49a-4da0-e2e6-58fd1fc90edc"
   },
   "outputs": [
    {
     "name": "stdout",
     "output_type": "stream",
     "text": [
      "[[(0, 1), (1, 1), (2, 1), (3, 1)], [(0, 1), (1, 2), (2, 1), (4, 1)], [(0, 1), (5, 2), (6, 1), (7, 1)]]\n"
     ]
    }
   ],
   "source": [
    "# 3. 각 문서를 BoW 형식으로 변환 (문서-단어 행렬)\n",
    "DTM =[ id2word.doc2bow(doc) for doc in doc_ls]\n",
    "print(DTM)"
   ]
  },
  {
   "cell_type": "markdown",
   "metadata": {
    "id": "RnPMtNmAeQSy"
   },
   "source": [
    "- 밀집 행렬로 변환\n",
    "- gensim.matutils.corpus2dense()\n",
    "  - 이 함수는 Gensim에서 제공하는 함수로, 희소 표현의 BOW 코퍼스를 밀집 행렬로 변환.\n",
    "  - corpus2dense 함수는 코퍼스(DTM)를 입력받아 이를 밀집 형태의 행렬로 변환.\n"
   ]
  },
  {
   "cell_type": "code",
   "execution_count": 35,
   "metadata": {
    "colab": {
     "base_uri": "https://localhost:8080/"
    },
    "executionInfo": {
     "elapsed": 2,
     "status": "ok",
     "timestamp": 1725259328517,
     "user": {
      "displayName": "김지성",
      "userId": "08089280915681010656"
     },
     "user_tz": -540
    },
    "id": "IPoRT-sud5O0",
    "outputId": "acf73419-7715-4f5b-cbdf-a7827e5189b8"
   },
   "outputs": [
    {
     "name": "stdout",
     "output_type": "stream",
     "text": [
      "[[1. 1. 1. 1. 0. 0. 0. 0.]\n",
      " [1. 2. 1. 0. 1. 0. 0. 0.]\n",
      " [1. 0. 0. 0. 0. 2. 1. 1.]]\n"
     ]
    }
   ],
   "source": [
    "# 4. BoW 형식을 풀어서 DTM을 2D 행렬로 변환\n",
    "DTM_matrix = gensim.matutils.corpus2dense(DTM,num_terms=len(id2word)).T\n",
    "print(DTM_matrix)"
   ]
  },
  {
   "cell_type": "code",
   "execution_count": 36,
   "metadata": {
    "colab": {
     "base_uri": "https://localhost:8080/"
    },
    "executionInfo": {
     "elapsed": 303,
     "status": "ok",
     "timestamp": 1725259341665,
     "user": {
      "displayName": "김지성",
      "userId": "08089280915681010656"
     },
     "user_tz": -540
    },
    "id": "0Dx5waUrd_Hb",
    "outputId": "a50d5d99-efd3-458c-a468-eb6a31df46d3"
   },
   "outputs": [
    {
     "name": "stdout",
     "output_type": "stream",
     "text": [
      "['문서1', '문서2', '문서3']\n",
      "['동물원에서', '봤어', '오늘', '원숭이를', '코끼리를', '바나나를', '원숭이에게', '줬어']\n"
     ]
    }
   ],
   "source": [
    "# 5. DataFrame으로 변환\n",
    "doc_names = ['문서' + str(i+1) for i in range(len(docs))]\n",
    "\n",
    "# 칼럼별 생성\n",
    "vocab = list(id2word.values())\n",
    "print(doc_names)\n",
    "print(vocab)"
   ]
  },
  {
   "cell_type": "code",
   "execution_count": 39,
   "metadata": {},
   "outputs": [
    {
     "data": {
      "text/html": [
       "<div>\n",
       "<style scoped>\n",
       "    .dataframe tbody tr th:only-of-type {\n",
       "        vertical-align: middle;\n",
       "    }\n",
       "\n",
       "    .dataframe tbody tr th {\n",
       "        vertical-align: top;\n",
       "    }\n",
       "\n",
       "    .dataframe thead th {\n",
       "        text-align: right;\n",
       "    }\n",
       "</style>\n",
       "<table border=\"1\" class=\"dataframe\">\n",
       "  <thead>\n",
       "    <tr style=\"text-align: right;\">\n",
       "      <th></th>\n",
       "      <th>동물원에서</th>\n",
       "      <th>봤어</th>\n",
       "      <th>오늘</th>\n",
       "      <th>원숭이를</th>\n",
       "      <th>코끼리를</th>\n",
       "      <th>바나나를</th>\n",
       "      <th>원숭이에게</th>\n",
       "      <th>줬어</th>\n",
       "    </tr>\n",
       "  </thead>\n",
       "  <tbody>\n",
       "    <tr>\n",
       "      <th>문서1</th>\n",
       "      <td>1.0</td>\n",
       "      <td>1.0</td>\n",
       "      <td>1.0</td>\n",
       "      <td>1.0</td>\n",
       "      <td>0.0</td>\n",
       "      <td>0.0</td>\n",
       "      <td>0.0</td>\n",
       "      <td>0.0</td>\n",
       "    </tr>\n",
       "    <tr>\n",
       "      <th>문서2</th>\n",
       "      <td>1.0</td>\n",
       "      <td>2.0</td>\n",
       "      <td>1.0</td>\n",
       "      <td>0.0</td>\n",
       "      <td>1.0</td>\n",
       "      <td>0.0</td>\n",
       "      <td>0.0</td>\n",
       "      <td>0.0</td>\n",
       "    </tr>\n",
       "    <tr>\n",
       "      <th>문서3</th>\n",
       "      <td>1.0</td>\n",
       "      <td>0.0</td>\n",
       "      <td>0.0</td>\n",
       "      <td>0.0</td>\n",
       "      <td>0.0</td>\n",
       "      <td>2.0</td>\n",
       "      <td>1.0</td>\n",
       "      <td>1.0</td>\n",
       "    </tr>\n",
       "  </tbody>\n",
       "</table>\n",
       "</div>"
      ],
      "text/plain": [
       "     동물원에서   봤어   오늘  원숭이를  코끼리를  바나나를  원숭이에게   줬어\n",
       "문서1    1.0  1.0  1.0   1.0   0.0   0.0    0.0  0.0\n",
       "문서2    1.0  2.0  1.0   0.0   1.0   0.0    0.0  0.0\n",
       "문서3    1.0  0.0  0.0   0.0   0.0   2.0    1.0  1.0"
      ]
     },
     "metadata": {},
     "output_type": "display_data"
    }
   ],
   "source": [
    "df_DTM = pd.DataFrame(DTM_matrix, index=doc_names, columns=vocab)\n",
    "\n",
    "display(df_DTM)"
   ]
  },
  {
   "cell_type": "markdown",
   "metadata": {
    "id": "xu1ymsoghR2L"
   },
   "source": [
    "# 3.TF-IDF (Term Frequency-Inverse Document Frequency)"
   ]
  },
  {
   "cell_type": "markdown",
   "metadata": {
    "id": "zwp83bMmhh9Q"
   },
   "source": [
    "*  TF(단어 빈도, Term Frequency) : 단어가 문서 내에 등장하는 빈도\n",
    "*  IDF(역문서 빈도, Inverse Document Frequency) : 단어가 여러 문서에 공통적으로 등장하는 빈도\n",
    "*  한 문서 내에 자주 등장하고 다른 문서에 자주 등장하지 않는 단어를 주요 단어로 판별할 수 있음"
   ]
  },
  {
   "cell_type": "markdown",
   "metadata": {
    "id": "CefN3hFehwHV"
   },
   "source": [
    "## 3.1. 직접 계산"
   ]
  },
  {
   "cell_type": "code",
   "execution_count": 89,
   "metadata": {
    "executionInfo": {
     "elapsed": 5,
     "status": "ok",
     "timestamp": 1725256715405,
     "user": {
      "displayName": "김지성",
      "userId": "08089280915681010656"
     },
     "user_tz": -540
    },
    "id": "Tx2p7uB2hb7i"
   },
   "outputs": [],
   "source": [
    "d1 = \"The cat sat on my face I hate a cat\"\n",
    "d2 = \"The dog sat on my bed I love a dog\"\n",
    "doc_ls = [d1, d2]"
   ]
  },
  {
   "cell_type": "code",
   "execution_count": null,
   "metadata": {
    "colab": {
     "base_uri": "https://localhost:8080/",
     "height": 125
    },
    "executionInfo": {
     "elapsed": 5,
     "status": "ok",
     "timestamp": 1725256715405,
     "user": {
      "displayName": "김지성",
      "userId": "08089280915681010656"
     },
     "user_tz": -540
    },
    "id": "T3nz_b_iiGHl",
    "outputId": "1fff8b6e-4402-4291-a8d2-0a943a731b92"
   },
   "outputs": [
    {
     "data": {
      "text/html": [
       "<div>\n",
       "<style scoped>\n",
       "    .dataframe tbody tr th:only-of-type {\n",
       "        vertical-align: middle;\n",
       "    }\n",
       "\n",
       "    .dataframe tbody tr th {\n",
       "        vertical-align: top;\n",
       "    }\n",
       "\n",
       "    .dataframe thead th {\n",
       "        text-align: right;\n",
       "    }\n",
       "</style>\n",
       "<table border=\"1\" class=\"dataframe\">\n",
       "  <thead>\n",
       "    <tr style=\"text-align: right;\">\n",
       "      <th></th>\n",
       "      <th>The</th>\n",
       "      <th>cat</th>\n",
       "      <th>sat</th>\n",
       "      <th>on</th>\n",
       "      <th>my</th>\n",
       "      <th>face</th>\n",
       "      <th>I</th>\n",
       "      <th>hate</th>\n",
       "      <th>a</th>\n",
       "      <th>dog</th>\n",
       "      <th>bed</th>\n",
       "      <th>love</th>\n",
       "    </tr>\n",
       "  </thead>\n",
       "  <tbody>\n",
       "    <tr>\n",
       "      <th>0</th>\n",
       "      <td>0.0</td>\n",
       "      <td>0.138629</td>\n",
       "      <td>0.0</td>\n",
       "      <td>0.0</td>\n",
       "      <td>0.0</td>\n",
       "      <td>0.069315</td>\n",
       "      <td>0.0</td>\n",
       "      <td>0.069315</td>\n",
       "      <td>0.0</td>\n",
       "      <td>0.000000</td>\n",
       "      <td>0.000000</td>\n",
       "      <td>0.000000</td>\n",
       "    </tr>\n",
       "    <tr>\n",
       "      <th>1</th>\n",
       "      <td>0.0</td>\n",
       "      <td>0.000000</td>\n",
       "      <td>0.0</td>\n",
       "      <td>0.0</td>\n",
       "      <td>0.0</td>\n",
       "      <td>0.000000</td>\n",
       "      <td>0.0</td>\n",
       "      <td>0.000000</td>\n",
       "      <td>0.0</td>\n",
       "      <td>0.138629</td>\n",
       "      <td>0.069315</td>\n",
       "      <td>0.069315</td>\n",
       "    </tr>\n",
       "  </tbody>\n",
       "</table>\n",
       "</div>"
      ],
      "text/plain": [
       "   The       cat  sat   on   my      face    I      hate    a       dog  \\\n",
       "0  0.0  0.138629  0.0  0.0  0.0  0.069315  0.0  0.069315  0.0  0.000000   \n",
       "1  0.0  0.000000  0.0  0.0  0.0  0.000000  0.0  0.000000  0.0  0.138629   \n",
       "\n",
       "        bed      love  \n",
       "0  0.000000  0.000000  \n",
       "1  0.069315  0.069315  "
      ]
     },
     "metadata": {},
     "output_type": "display_data"
    }
   ],
   "source": [
    "import numpy as np\n",
    "from collections import defaultdict\n",
    "import pandas as pd\n",
    "from IPython.display import display\n",
    "\n",
    "# tf (특정 문서 내 단어 빈도)\n",
    "# d: 특정 문서\n",
    "# t: 특정 단어 \n",
    "def tf(t, d):\n",
    "    return d.count(t) / len(d)\n",
    "\n",
    "# idf (log(전체 문서 수 / 전체 문서에서 단어 등장 수))\n",
    "# D: 전체 문서 \n",
    "# t: 특정 단어 \n",
    "def idf(t, D):\n",
    "    N = len(D)\n",
    "    n = len([True for d in D if t in d]) # 토큰이 등장하는 문서 수 \n",
    "    return np.log(N / n)\n",
    "\n",
    "# tfidf \n",
    "def tfidf(t, d, D):\n",
    "    return tf(t, d) * idf(t, D)\n",
    "\n",
    "# 토크나이저 \n",
    "def tokenizer(d):\n",
    "    return d.split()\n",
    "\n",
    "# 각 토큰에 대한 tf-idf 계산 적용한 행렬 생성\n",
    "def tfidfScorer(D):\n",
    "\n",
    "    # 토큰화 \n",
    "    doc_ls = [tokenizer(d) for d in D]\n",
    "\n",
    "    # 단어 ID 매핑 (사전집 생성)\n",
    "    word2id = defaultdict(lambda: len(word2id))\n",
    "    [word2id[t] for d in doc_ls for t in d]\n",
    "\n",
    "    # TF-IDF 매트릭스 초기화\n",
    "    tfidf_mat = np.zeros((len(doc_ls), len(word2id)))\n",
    "\n",
    "    # TF-IDF 계산\n",
    "    for i, d in enumerate(doc_ls):\n",
    "        for t in d:\n",
    "            tfidf_mat[i, word2id[t]] = tfidf(t, d, D)\n",
    "\n",
    "    return tfidf_mat, list(word2id.keys())\n",
    "\n",
    "# 예제 문서\n",
    "docs = [\"The cat sat on my face I hate a cat\", \"The dog sat on my bed I love a dog\"]\n",
    "\n",
    "# TF-IDF 스코어링 수행\n",
    "mat, vocab = tfidfScorer(docs)\n",
    "\n",
    "# DataFrame으로 변환\n",
    "df = pd.DataFrame(mat, columns=vocab)\n",
    "\n",
    "# 결과 출력\n",
    "display(df)"
   ]
  },
  {
   "cell_type": "markdown",
   "metadata": {
    "id": "PrblcQyalPJU"
   },
   "source": [
    "## 3.2. sklearn 활용"
   ]
  },
  {
   "cell_type": "markdown",
   "metadata": {
    "id": "Q_Sy_uKRgGOp"
   },
   "source": [
    "- todense()와 toarray()는 동일한 숫자 데이터를 포함하고 있으며, 두 함수 모두 TF-IDF 결과를 밀집된 형태로 반환.\n",
    "  - https://alluring-parent-4dd.notion.site/16cd791a37c680e68b64ca376389b93e?pvs=4\n",
    "\n",
    "  - 차이점은 데이터의 형식에 있음. todense()는 numpy.matrix 객체를 반환하고, toarray()는 numpy.ndarray를 반환.\n",
    "\n",
    "  - 대부분의 경우, 두 방법 모두 동일한 결과를 제공. \n",
    "  - 그러나 행렬 연산이 필요한 경우에는 todense()가 더 적합할 수 있고, 다양한 차원의 데이터를 다루고 싶다면 toarray()가 더 적합할 수 있음.\n",
    "\n",
    "- tfidf 결과는 희소 행렬로 반환하고 (문서 번호, 단어 ID)의 형태로 나타남"
   ]
  },
  {
   "cell_type": "code",
   "execution_count": 46,
   "metadata": {
    "colab": {
     "base_uri": "https://localhost:8080/"
    },
    "executionInfo": {
     "elapsed": 299,
     "status": "ok",
     "timestamp": 1725259955686,
     "user": {
      "displayName": "김지성",
      "userId": "08089280915681010656"
     },
     "user_tz": -540
    },
    "id": "SNwemudikLOs",
    "outputId": "627d36c0-911e-446f-e230-3785c57d49e2"
   },
   "outputs": [
    {
     "name": "stdout",
     "output_type": "stream",
     "text": [
      "  (0, 9)\t0.2511643891128359\n",
      "  (0, 1)\t0.7060055705947859\n",
      "  (0, 8)\t0.2511643891128359\n",
      "  (0, 7)\t0.2511643891128359\n",
      "  (0, 6)\t0.2511643891128359\n",
      "  (0, 3)\t0.35300278529739293\n",
      "  (0, 4)\t0.35300278529739293\n",
      "  (1, 9)\t0.2511643891128359\n",
      "  (1, 8)\t0.2511643891128359\n",
      "  (1, 7)\t0.2511643891128359\n",
      "  (1, 6)\t0.2511643891128359\n",
      "  (1, 2)\t0.7060055705947859\n",
      "  (1, 0)\t0.35300278529739293\n",
      "  (1, 5)\t0.35300278529739293\n"
     ]
    }
   ],
   "source": [
    "from sklearn.feature_extraction.text import TfidfVectorizer\n",
    "\n",
    "d1 = \"The cat sat on my face I hate a cat\"\n",
    "d2 = \"The dog sat on my bed I love a dog\"\n",
    "docs = [d1, d2]\n",
    "\n",
    "tfidf_vect = TfidfVectorizer()\n",
    "tfidf = tfidf_vect.fit_transform(docs)\n",
    "print(tfidf)\n"
   ]
  },
  {
   "cell_type": "code",
   "execution_count": 47,
   "metadata": {
    "colab": {
     "base_uri": "https://localhost:8080/",
     "height": 256
    },
    "executionInfo": {
     "elapsed": 342,
     "status": "ok",
     "timestamp": 1725260027714,
     "user": {
      "displayName": "김지성",
      "userId": "08089280915681010656"
     },
     "user_tz": -540
    },
    "id": "DZhpodwegWNy",
    "outputId": "3c563f0d-89c8-4c42-e4eb-befe672f4246"
   },
   "outputs": [
    {
     "name": "stdout",
     "output_type": "stream",
     "text": [
      "todentnse type:  <class 'numpy.matrix'>\n",
      "toarray type:  <class 'numpy.ndarray'>\n"
     ]
    },
    {
     "data": {
      "text/html": [
       "<div>\n",
       "<style scoped>\n",
       "    .dataframe tbody tr th:only-of-type {\n",
       "        vertical-align: middle;\n",
       "    }\n",
       "\n",
       "    .dataframe tbody tr th {\n",
       "        vertical-align: top;\n",
       "    }\n",
       "\n",
       "    .dataframe thead th {\n",
       "        text-align: right;\n",
       "    }\n",
       "</style>\n",
       "<table border=\"1\" class=\"dataframe\">\n",
       "  <thead>\n",
       "    <tr style=\"text-align: right;\">\n",
       "      <th></th>\n",
       "      <th>bed</th>\n",
       "      <th>cat</th>\n",
       "      <th>dog</th>\n",
       "      <th>face</th>\n",
       "      <th>hate</th>\n",
       "      <th>love</th>\n",
       "      <th>my</th>\n",
       "      <th>on</th>\n",
       "      <th>sat</th>\n",
       "      <th>the</th>\n",
       "    </tr>\n",
       "  </thead>\n",
       "  <tbody>\n",
       "    <tr>\n",
       "      <th>0</th>\n",
       "      <td>0.000000</td>\n",
       "      <td>0.706006</td>\n",
       "      <td>0.000000</td>\n",
       "      <td>0.353003</td>\n",
       "      <td>0.353003</td>\n",
       "      <td>0.000000</td>\n",
       "      <td>0.251164</td>\n",
       "      <td>0.251164</td>\n",
       "      <td>0.251164</td>\n",
       "      <td>0.251164</td>\n",
       "    </tr>\n",
       "    <tr>\n",
       "      <th>1</th>\n",
       "      <td>0.353003</td>\n",
       "      <td>0.000000</td>\n",
       "      <td>0.706006</td>\n",
       "      <td>0.000000</td>\n",
       "      <td>0.000000</td>\n",
       "      <td>0.353003</td>\n",
       "      <td>0.251164</td>\n",
       "      <td>0.251164</td>\n",
       "      <td>0.251164</td>\n",
       "      <td>0.251164</td>\n",
       "    </tr>\n",
       "  </tbody>\n",
       "</table>\n",
       "</div>"
      ],
      "text/plain": [
       "        bed       cat       dog      face      hate      love        my  \\\n",
       "0  0.000000  0.706006  0.000000  0.353003  0.353003  0.000000  0.251164   \n",
       "1  0.353003  0.000000  0.706006  0.000000  0.000000  0.353003  0.251164   \n",
       "\n",
       "         on       sat       the  \n",
       "0  0.251164  0.251164  0.251164  \n",
       "1  0.251164  0.251164  0.251164  "
      ]
     },
     "metadata": {},
     "output_type": "display_data"
    },
    {
     "data": {
      "text/html": [
       "<div>\n",
       "<style scoped>\n",
       "    .dataframe tbody tr th:only-of-type {\n",
       "        vertical-align: middle;\n",
       "    }\n",
       "\n",
       "    .dataframe tbody tr th {\n",
       "        vertical-align: top;\n",
       "    }\n",
       "\n",
       "    .dataframe thead th {\n",
       "        text-align: right;\n",
       "    }\n",
       "</style>\n",
       "<table border=\"1\" class=\"dataframe\">\n",
       "  <thead>\n",
       "    <tr style=\"text-align: right;\">\n",
       "      <th></th>\n",
       "      <th>bed</th>\n",
       "      <th>cat</th>\n",
       "      <th>dog</th>\n",
       "      <th>face</th>\n",
       "      <th>hate</th>\n",
       "      <th>love</th>\n",
       "      <th>my</th>\n",
       "      <th>on</th>\n",
       "      <th>sat</th>\n",
       "      <th>the</th>\n",
       "    </tr>\n",
       "  </thead>\n",
       "  <tbody>\n",
       "    <tr>\n",
       "      <th>0</th>\n",
       "      <td>0.000000</td>\n",
       "      <td>0.706006</td>\n",
       "      <td>0.000000</td>\n",
       "      <td>0.353003</td>\n",
       "      <td>0.353003</td>\n",
       "      <td>0.000000</td>\n",
       "      <td>0.251164</td>\n",
       "      <td>0.251164</td>\n",
       "      <td>0.251164</td>\n",
       "      <td>0.251164</td>\n",
       "    </tr>\n",
       "    <tr>\n",
       "      <th>1</th>\n",
       "      <td>0.353003</td>\n",
       "      <td>0.000000</td>\n",
       "      <td>0.706006</td>\n",
       "      <td>0.000000</td>\n",
       "      <td>0.000000</td>\n",
       "      <td>0.353003</td>\n",
       "      <td>0.251164</td>\n",
       "      <td>0.251164</td>\n",
       "      <td>0.251164</td>\n",
       "      <td>0.251164</td>\n",
       "    </tr>\n",
       "  </tbody>\n",
       "</table>\n",
       "</div>"
      ],
      "text/plain": [
       "        bed       cat       dog      face      hate      love        my  \\\n",
       "0  0.000000  0.706006  0.000000  0.353003  0.353003  0.000000  0.251164   \n",
       "1  0.353003  0.000000  0.706006  0.000000  0.000000  0.353003  0.251164   \n",
       "\n",
       "         on       sat       the  \n",
       "0  0.251164  0.251164  0.251164  \n",
       "1  0.251164  0.251164  0.251164  "
      ]
     },
     "metadata": {},
     "output_type": "display_data"
    }
   ],
   "source": [
    "todense = pd.DataFrame(tfidf.todense(), columns=tfidf_vect.get_feature_names_out())\n",
    "toarray = pd.DataFrame(tfidf.toarray(), columns=tfidf_vect.get_feature_names_out())\n",
    "\n",
    "print('todentnse type: ', type(tfidf.todense()))\n",
    "print('toarray type: ', type(tfidf.toarray()))\n",
    "\n",
    "display(todense)\n",
    "display(toarray)"
   ]
  },
  {
   "cell_type": "markdown",
   "metadata": {
    "id": "JXs62hVRmYJQ"
   },
   "source": [
    "## 3.3. gensim 활용"
   ]
  },
  {
   "cell_type": "code",
   "execution_count": null,
   "metadata": {
    "colab": {
     "base_uri": "https://localhost:8080/"
    },
    "executionInfo": {
     "elapsed": 307,
     "status": "ok",
     "timestamp": 1725260109342,
     "user": {
      "displayName": "김지성",
      "userId": "08089280915681010656"
     },
     "user_tz": -540
    },
    "id": "c9JRIOObmqoC",
    "outputId": "96111f4e-d5d1-4577-801d-a6ed8281e801"
   },
   "outputs": [],
   "source": [
    "\n",
    "\n",
    "# 문서 목록\n",
    "d1 = \"The cat sat on my face I hate a cat\"\n",
    "d2 = \"The dog sat on my bed I love a dog\"\n",
    "docs = [d1, d2]\n",
    "\n",
    "# 문서를 공백 기준으로 토큰화\n",
    "\n",
    "\n",
    "# 사전(Dictionary) 생성\n",
    "\n",
    "\n",
    "# DTM 생성 (BoW 형식)\n"
   ]
  },
  {
   "cell_type": "code",
   "execution_count": null,
   "metadata": {
    "colab": {
     "base_uri": "https://localhost:8080/",
     "height": 125
    },
    "executionInfo": {
     "elapsed": 337,
     "status": "ok",
     "timestamp": 1725260111065,
     "user": {
      "displayName": "김지성",
      "userId": "08089280915681010656"
     },
     "user_tz": -540
    },
    "id": "Etzn2HzEfore",
    "outputId": "47615f7d-4458-4bd3-af6f-d0da8fbbb41e"
   },
   "outputs": [],
   "source": [
    "# TF-IDF 모델 학습\n",
    "\n",
    "\n",
    "# TF-IDF 값으로 DTM 행렬 생성\n",
    "# 각 문서가 tf-idf 벡터로 표현된 2차원 리스트 생성 \n",
    "# model[DTM] : 각 문서의 tf-idf 계산 \n",
    "# 희소벡터를 밀집벡터로 변환 \n",
    "\n",
    "\n",
    "# DataFrame으로 변환\n",
    "\n",
    "\n",
    "# 결과 출력\n"
   ]
  }
 ],
 "metadata": {
  "colab": {
   "provenance": [],
   "toc_visible": true
  },
  "kernelspec": {
   "display_name": "sesac",
   "language": "python",
   "name": "python3"
  },
  "language_info": {
   "codemirror_mode": {
    "name": "ipython",
    "version": 3
   },
   "file_extension": ".py",
   "mimetype": "text/x-python",
   "name": "python",
   "nbconvert_exporter": "python",
   "pygments_lexer": "ipython3",
   "version": "3.10.15"
  }
 },
 "nbformat": 4,
 "nbformat_minor": 0
}
