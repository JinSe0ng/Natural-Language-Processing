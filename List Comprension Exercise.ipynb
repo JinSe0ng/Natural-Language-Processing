{
 "cells": [
  {
   "cell_type": "markdown",
   "metadata": {
    "id": "EHKeJjwbMEwt"
   },
   "source": [
    "# 리스트 컴프리헨션 문제"
   ]
  },
  {
   "cell_type": "markdown",
   "metadata": {
    "id": "1UDfz59hMHEk"
   },
   "source": [
    "## 문제 1: 1부터 10까지의 제곱 리스트 만들기"
   ]
  },
  {
   "cell_type": "code",
   "execution_count": null,
   "metadata": {
    "colab": {
     "base_uri": "https://localhost:8080/"
    },
    "executionInfo": {
     "elapsed": 470,
     "status": "ok",
     "timestamp": 1725372103800,
     "user": {
      "displayName": "김지성",
      "userId": "08089280915681010656"
     },
     "user_tz": -540
    },
    "id": "fXkK-oHlLhNv",
    "outputId": "33286d1c-b5a1-4d39-ac71-73673aee358f"
   },
   "outputs": [
    {
     "name": "stdout",
     "output_type": "stream",
     "text": [
      "[1, 4, 9, 16, 25, 36, 49, 64, 81, 100]\n"
     ]
    }
   ],
   "source": [
    "# 결과: [1, 4, 9, 16, 25, 36, 49, 64, 81, 100]\n",
    "squares = []\n",
    "for x in range(1, 11):\n",
    "    squares.append(x ** 2)\n",
    "print(squares)"
   ]
  },
  {
   "cell_type": "code",
   "execution_count": null,
   "metadata": {
    "colab": {
     "base_uri": "https://localhost:8080/"
    },
    "executionInfo": {
     "elapsed": 583,
     "status": "ok",
     "timestamp": 1725372107081,
     "user": {
      "displayName": "김지성",
      "userId": "08089280915681010656"
     },
     "user_tz": -540
    },
    "id": "vqteaUv8MKb9",
    "outputId": "e5fbf60f-b677-4729-cc54-a2a208168541"
   },
   "outputs": [],
   "source": [
    "# 결과: [1, 4, 9, 16, 25, 36, 49, 64, 81, 100]\n",
    "squares ="
   ]
  },
  {
   "cell_type": "markdown",
   "metadata": {
    "id": "yzq85RY_MTxq"
   },
   "source": [
    "## 문제 2: 1부터 10까지의 짝수 리스트 만들기"
   ]
  },
  {
   "cell_type": "code",
   "execution_count": null,
   "metadata": {
    "colab": {
     "base_uri": "https://localhost:8080/"
    },
    "executionInfo": {
     "elapsed": 472,
     "status": "ok",
     "timestamp": 1725372146727,
     "user": {
      "displayName": "김지성",
      "userId": "08089280915681010656"
     },
     "user_tz": -540
    },
    "id": "VBSPr7ULMQSd",
    "outputId": "2a347e0e-17b0-4209-f306-1d86cf40b3ec"
   },
   "outputs": [
    {
     "name": "stdout",
     "output_type": "stream",
     "text": [
      "[2, 4, 6, 8, 10]\n"
     ]
    }
   ],
   "source": [
    "# 결과: [2, 4, 6, 8, 10]\n",
    "evens = []\n",
    "for x in range(1, 11):\n",
    "    if x % 2 == 0:\n",
    "        evens.append(x)\n",
    "print(evens)"
   ]
  },
  {
   "cell_type": "code",
   "execution_count": null,
   "metadata": {
    "colab": {
     "base_uri": "https://localhost:8080/"
    },
    "executionInfo": {
     "elapsed": 515,
     "status": "ok",
     "timestamp": 1725372184606,
     "user": {
      "displayName": "김지성",
      "userId": "08089280915681010656"
     },
     "user_tz": -540
    },
    "id": "wm14Z3zZMaAQ",
    "outputId": "573ed439-16b6-4482-cccf-267954b986e4"
   },
   "outputs": [],
   "source": [
    "# 결과: [2, 4, 6, 8, 10]\n"
   ]
  },
  {
   "cell_type": "markdown",
   "metadata": {
    "id": "8eSdrGtrMssD"
   },
   "source": [
    "## 문제 3: 문자열 리스트에서 길이가 3 이상인 문자열만 선택하기"
   ]
  },
  {
   "cell_type": "code",
   "execution_count": 4,
   "metadata": {
    "colab": {
     "base_uri": "https://localhost:8080/"
    },
    "executionInfo": {
     "elapsed": 475,
     "status": "ok",
     "timestamp": 1725372246447,
     "user": {
      "displayName": "김지성",
      "userId": "08089280915681010656"
     },
     "user_tz": -540
    },
    "id": "ODzAGiK8MjO0",
    "outputId": "4d300131-ce10-4e27-d9d7-13e8ff12a848"
   },
   "outputs": [
    {
     "name": "stdout",
     "output_type": "stream",
     "text": [
      "['cat', 'dog', 'elephant', 'rat', 'bat']\n"
     ]
    }
   ],
   "source": [
    "# 결과: ['cat', 'dog', 'elephant', 'rat', 'bat']\n",
    "words = [\"cat\", \"dog\", \"elephant\", \"rat\", \"bat\"]\n",
    "long_words = []\n",
    "for word in words:\n",
    "    if len(word) >= 3:\n",
    "        long_words.append(word)\n",
    "print(long_words)"
   ]
  },
  {
   "cell_type": "code",
   "execution_count": null,
   "metadata": {
    "colab": {
     "base_uri": "https://localhost:8080/"
    },
    "executionInfo": {
     "elapsed": 529,
     "status": "ok",
     "timestamp": 1725372264785,
     "user": {
      "displayName": "김지성",
      "userId": "08089280915681010656"
     },
     "user_tz": -540
    },
    "id": "0JBdG2iFMyLI",
    "outputId": "ca1aba06-e794-4a99-dc7b-82a8a04125c5"
   },
   "outputs": [],
   "source": [
    "# 결과: ['cat', 'dog', 'elephant', 'rat', 'bat']\n",
    "long_words"
   ]
  },
  {
   "cell_type": "markdown",
   "metadata": {
    "id": "ki1HIPbGM9Uw"
   },
   "source": [
    "## 문제 4: 1부터 5까지의 숫자에 대해 \"짝수\" 또는 \"홀수\"로 구분하기"
   ]
  },
  {
   "cell_type": "code",
   "execution_count": 7,
   "metadata": {
    "colab": {
     "base_uri": "https://localhost:8080/"
    },
    "executionInfo": {
     "elapsed": 3,
     "status": "ok",
     "timestamp": 1725372311805,
     "user": {
      "displayName": "김지성",
      "userId": "08089280915681010656"
     },
     "user_tz": -540
    },
    "id": "KWnMTcblM20A",
    "outputId": "f44ee044-03c9-4937-d877-76373fb36ef0"
   },
   "outputs": [
    {
     "name": "stdout",
     "output_type": "stream",
     "text": [
      "['홀수', '짝수', '홀수', '짝수', '홀수']\n"
     ]
    }
   ],
   "source": [
    "# 결과: ['홀수', '짝수', '홀수', '짝수', '홀수']\n",
    "even_or_odd = []\n",
    "for x in range(1, 6):\n",
    "    if x % 2 == 0:\n",
    "        even_or_odd.append(\"짝수\")\n",
    "    else:\n",
    "        even_or_odd.append(\"홀수\")\n",
    "print(even_or_odd)"
   ]
  },
  {
   "cell_type": "code",
   "execution_count": null,
   "metadata": {
    "colab": {
     "base_uri": "https://localhost:8080/"
    },
    "executionInfo": {
     "elapsed": 458,
     "status": "ok",
     "timestamp": 1725372323713,
     "user": {
      "displayName": "김지성",
      "userId": "08089280915681010656"
     },
     "user_tz": -540
    },
    "id": "bNdoKYD0NCQP",
    "outputId": "072e5a8b-9307-4616-8b3e-206cc8205801"
   },
   "outputs": [],
   "source": [
    "# 결과: ['홀수', '짝수', '홀수', '짝수', '홀수']\n"
   ]
  },
  {
   "cell_type": "markdown",
   "metadata": {
    "id": "xfyPVVOSNH32"
   },
   "source": [
    "## 문제 5: 1부터 3까지의 숫자와 A부터 C까지의 문자 조합 만들기"
   ]
  },
  {
   "cell_type": "code",
   "execution_count": 9,
   "metadata": {
    "colab": {
     "base_uri": "https://localhost:8080/"
    },
    "executionInfo": {
     "elapsed": 633,
     "status": "ok",
     "timestamp": 1725374645176,
     "user": {
      "displayName": "김지성",
      "userId": "08089280915681010656"
     },
     "user_tz": -540
    },
    "id": "7p-tfuzaNFMN",
    "outputId": "70a5d183-ae7e-48dd-9f47-25581a33fcb2"
   },
   "outputs": [
    {
     "name": "stdout",
     "output_type": "stream",
     "text": [
      "[(1, 'A'), (1, 'B'), (1, 'C'), (2, 'A'), (2, 'B'), (2, 'C'), (3, 'A'), (3, 'B'), (3, 'C')]\n"
     ]
    }
   ],
   "source": [
    "# 결과: [(1, 'A'), (1, 'B'), (1, 'C'), (2, 'A'), (2, 'B'), (2, 'C'), ...]\n",
    "combinations = []\n",
    "for x in range(1, 4):\n",
    "    for y in 'ABC':\n",
    "        combinations.append((x, y))\n",
    "print(combinations)"
   ]
  },
  {
   "cell_type": "code",
   "execution_count": null,
   "metadata": {
    "colab": {
     "base_uri": "https://localhost:8080/"
    },
    "executionInfo": {
     "elapsed": 2,
     "status": "ok",
     "timestamp": 1725374645634,
     "user": {
      "displayName": "김지성",
      "userId": "08089280915681010656"
     },
     "user_tz": -540
    },
    "id": "OUg6STkENOVp",
    "outputId": "e7151925-996c-408f-dbc3-dbcac4dd534d"
   },
   "outputs": [],
   "source": [
    "# 결과: [(1, 'A'), (1, 'B'), (1, 'C'), (2, 'A'), (2, 'B'), (2, 'C'), ...]\n"
   ]
  },
  {
   "cell_type": "markdown",
   "metadata": {
    "id": "_BaeFwB3NT_e"
   },
   "source": [
    "## 문제 6: 1부터 3까지의 숫자와 A부터 C까지의 문자 중 숫자가 짝수일 때만 조합 만들기"
   ]
  },
  {
   "cell_type": "code",
   "execution_count": 11,
   "metadata": {
    "colab": {
     "base_uri": "https://localhost:8080/"
    },
    "executionInfo": {
     "elapsed": 3,
     "status": "ok",
     "timestamp": 1725372406513,
     "user": {
      "displayName": "김지성",
      "userId": "08089280915681010656"
     },
     "user_tz": -540
    },
    "id": "JqYHGFYMNR7B",
    "outputId": "e23788d3-b227-4b5b-9ba4-13450c88c762"
   },
   "outputs": [
    {
     "name": "stdout",
     "output_type": "stream",
     "text": [
      "[(2, 'A'), (2, 'B'), (2, 'C')]\n"
     ]
    }
   ],
   "source": [
    "# 결과: [(2, 'A'), (2, 'B'), (2, 'C')]\n",
    "filtered_combinations = []\n",
    "for x in range(1, 4):\n",
    "    if x % 2 == 0:\n",
    "        for y in 'ABC':\n",
    "            filtered_combinations.append((x, y))\n",
    "print(filtered_combinations)"
   ]
  },
  {
   "cell_type": "code",
   "execution_count": null,
   "metadata": {
    "colab": {
     "base_uri": "https://localhost:8080/"
    },
    "executionInfo": {
     "elapsed": 512,
     "status": "ok",
     "timestamp": 1725372436307,
     "user": {
      "displayName": "김지성",
      "userId": "08089280915681010656"
     },
     "user_tz": -540
    },
    "id": "Q_KvgVYBNZZ9",
    "outputId": "f9ed558b-9bb9-44df-f21c-25bedae1e691"
   },
   "outputs": [],
   "source": [
    "# 결과: [(2, 'A'), (2, 'B'), (2, 'C')]\n"
   ]
  },
  {
   "cell_type": "code",
   "execution_count": null,
   "metadata": {},
   "outputs": [],
   "source": []
  }
 ],
 "metadata": {
  "colab": {
   "authorship_tag": "ABX9TyNDOCtz+6KIef5Vgd2INPEW",
   "provenance": [],
   "toc_visible": true
  },
  "kernelspec": {
   "display_name": "myVenv",
   "language": "python",
   "name": "python3"
  },
  "language_info": {
   "codemirror_mode": {
    "name": "ipython",
    "version": 3
   },
   "file_extension": ".py",
   "mimetype": "text/x-python",
   "name": "python",
   "nbconvert_exporter": "python",
   "pygments_lexer": "ipython3",
   "version": "3.10.14"
  }
 },
 "nbformat": 4,
 "nbformat_minor": 0
}
